{
 "cells": [
  {
   "cell_type": "markdown",
   "metadata": {},
   "source": [
    "Get best bin sizes from comparing to Travis ages, also adding columns in the end for errors"
   ]
  },
  {
   "cell_type": "code",
   "execution_count": 1,
   "metadata": {},
   "outputs": [
    {
     "name": "stderr",
     "output_type": "stream",
     "text": [
      "/Users/lucy/anaconda3/lib/python3.7/site-packages/sklearn/utils/__init__.py:4: DeprecationWarning: Using or importing the ABCs from 'collections' instead of from 'collections.abc' is deprecated, and in 3.8 it will stop working\n",
      "  from collections import Sequence\n",
      "/Users/lucy/anaconda3/lib/python3.7/site-packages/sklearn/model_selection/_split.py:18: DeprecationWarning: Using or importing the ABCs from 'collections' instead of from 'collections.abc' is deprecated, and in 3.8 it will stop working\n",
      "  from collections import Iterable\n",
      "/Users/lucy/anaconda3/lib/python3.7/site-packages/sklearn/model_selection/_search.py:16: DeprecationWarning: Using or importing the ABCs from 'collections' instead of from 'collections.abc' is deprecated, and in 3.8 it will stop working\n",
      "  from collections import Mapping, namedtuple, defaultdict, Sequence\n",
      "/Users/lucy/anaconda3/lib/python3.7/site-packages/sklearn/ensemble/weight_boosting.py:29: DeprecationWarning: numpy.core.umath_tests is an internal NumPy module and should not be imported. It will be removed in a future NumPy release.\n",
      "  from numpy.core.umath_tests import inner1d\n"
     ]
    }
   ],
   "source": [
    "from HeaderP import *\n",
    "import Astraea\n",
    "from sklearn import cluster, datasets, mixture\n",
    "from sklearn.neighbors import kneighbors_graph\n",
    "from sklearn.preprocessing import StandardScaler\n",
    "from itertools import cycle, islice\n",
    "import random\n",
    "import time\n",
    "from tqdm import trange"
   ]
  },
  {
   "cell_type": "code",
   "execution_count": 12,
   "metadata": {},
   "outputs": [],
   "source": [
    "df_prot_s=pd.read_pickle('minchisq.pkl')\n",
    "df_rvar_s=pd.read_pickle('minchisq_rvar.pkl')\n",
    "\n",
    "df_prot_s=df_prot_s.dropna(subset=['age','iso_age'])\n",
    "df_rvar_s=df_rvar_s.dropna(subset=['age','iso_age'])\n"
   ]
  },
  {
   "cell_type": "code",
   "execution_count": 13,
   "metadata": {},
   "outputs": [
    {
     "data": {
      "text/html": [
       "<div>\n",
       "<style scoped>\n",
       "    .dataframe tbody tr th:only-of-type {\n",
       "        vertical-align: middle;\n",
       "    }\n",
       "\n",
       "    .dataframe tbody tr th {\n",
       "        vertical-align: top;\n",
       "    }\n",
       "\n",
       "    .dataframe thead th {\n",
       "        text-align: right;\n",
       "    }\n",
       "</style>\n",
       "<table border=\"1\" class=\"dataframe\">\n",
       "  <thead>\n",
       "    <tr style=\"text-align: right;\">\n",
       "      <th></th>\n",
       "      <th>KIC</th>\n",
       "      <th>iso_mass</th>\n",
       "      <th>iso_mass_err1</th>\n",
       "      <th>iso_mass_err2</th>\n",
       "      <th>iso_teff</th>\n",
       "      <th>iso_teff_err1</th>\n",
       "      <th>iso_teff_err2</th>\n",
       "      <th>iso_logg</th>\n",
       "      <th>iso_logg_err1</th>\n",
       "      <th>iso_logg_err2</th>\n",
       "      <th>...</th>\n",
       "      <th>kepid_y</th>\n",
       "      <th>X</th>\n",
       "      <th>Y</th>\n",
       "      <th>z</th>\n",
       "      <th>R</th>\n",
       "      <th>parallax</th>\n",
       "      <th>kepid</th>\n",
       "      <th>v_t</th>\n",
       "      <th>Lz_est</th>\n",
       "      <th>kin_age_Sharma2020</th>\n",
       "    </tr>\n",
       "  </thead>\n",
       "  <tbody>\n",
       "    <tr>\n",
       "      <th>0</th>\n",
       "      <td>757450</td>\n",
       "      <td>0.914</td>\n",
       "      <td>0.062</td>\n",
       "      <td>-0.057</td>\n",
       "      <td>5301.2</td>\n",
       "      <td>111.0</td>\n",
       "      <td>-103.1</td>\n",
       "      <td>4.432</td>\n",
       "      <td>0.045</td>\n",
       "      <td>-0.044</td>\n",
       "      <td>...</td>\n",
       "      <td>757450.0</td>\n",
       "      <td>0.292384</td>\n",
       "      <td>-0.769703</td>\n",
       "      <td>0.141026</td>\n",
       "      <td>7.944988</td>\n",
       "      <td>1.168913</td>\n",
       "      <td>757450.0</td>\n",
       "      <td>33.889670</td>\n",
       "      <td>269.253033</td>\n",
       "      <td>0.888474</td>\n",
       "    </tr>\n",
       "    <tr>\n",
       "      <th>1</th>\n",
       "      <td>892718</td>\n",
       "      <td>0.782</td>\n",
       "      <td>0.040</td>\n",
       "      <td>-0.046</td>\n",
       "      <td>5000.9</td>\n",
       "      <td>97.3</td>\n",
       "      <td>-90.3</td>\n",
       "      <td>4.570</td>\n",
       "      <td>0.028</td>\n",
       "      <td>-0.036</td>\n",
       "      <td>...</td>\n",
       "      <td>892718.0</td>\n",
       "      <td>0.303262</td>\n",
       "      <td>-0.801109</td>\n",
       "      <td>0.147161</td>\n",
       "      <td>7.937269</td>\n",
       "      <td>1.123321</td>\n",
       "      <td>892718.0</td>\n",
       "      <td>49.088081</td>\n",
       "      <td>389.625320</td>\n",
       "      <td>0.332151</td>\n",
       "    </tr>\n",
       "    <tr>\n",
       "      <th>2</th>\n",
       "      <td>892772</td>\n",
       "      <td>0.803</td>\n",
       "      <td>0.039</td>\n",
       "      <td>-0.032</td>\n",
       "      <td>4965.0</td>\n",
       "      <td>96.3</td>\n",
       "      <td>-93.6</td>\n",
       "      <td>4.492</td>\n",
       "      <td>0.040</td>\n",
       "      <td>-0.034</td>\n",
       "      <td>...</td>\n",
       "      <td>892772.0</td>\n",
       "      <td>0.228827</td>\n",
       "      <td>-0.605497</td>\n",
       "      <td>0.111267</td>\n",
       "      <td>7.994137</td>\n",
       "      <td>1.499367</td>\n",
       "      <td>892772.0</td>\n",
       "      <td>43.437266</td>\n",
       "      <td>347.243470</td>\n",
       "      <td>0.460172</td>\n",
       "    </tr>\n",
       "    <tr>\n",
       "      <th>3</th>\n",
       "      <td>892832</td>\n",
       "      <td>0.784</td>\n",
       "      <td>0.040</td>\n",
       "      <td>-0.045</td>\n",
       "      <td>4975.7</td>\n",
       "      <td>97.1</td>\n",
       "      <td>-88.2</td>\n",
       "      <td>4.564</td>\n",
       "      <td>0.028</td>\n",
       "      <td>-0.034</td>\n",
       "      <td>...</td>\n",
       "      <td>892832.0</td>\n",
       "      <td>0.275032</td>\n",
       "      <td>-0.727739</td>\n",
       "      <td>0.133604</td>\n",
       "      <td>7.958311</td>\n",
       "      <td>1.239068</td>\n",
       "      <td>892832.0</td>\n",
       "      <td>91.357351</td>\n",
       "      <td>727.050225</td>\n",
       "      <td>-0.038991</td>\n",
       "    </tr>\n",
       "    <tr>\n",
       "      <th>4</th>\n",
       "      <td>892834</td>\n",
       "      <td>0.751</td>\n",
       "      <td>0.034</td>\n",
       "      <td>-0.039</td>\n",
       "      <td>4823.2</td>\n",
       "      <td>90.4</td>\n",
       "      <td>-82.2</td>\n",
       "      <td>4.587</td>\n",
       "      <td>0.023</td>\n",
       "      <td>-0.028</td>\n",
       "      <td>...</td>\n",
       "      <td>892834.0</td>\n",
       "      <td>0.197754</td>\n",
       "      <td>-0.522096</td>\n",
       "      <td>0.095666</td>\n",
       "      <td>8.019260</td>\n",
       "      <td>1.737008</td>\n",
       "      <td>892834.0</td>\n",
       "      <td>16.909004</td>\n",
       "      <td>135.597695</td>\n",
       "      <td>0.445367</td>\n",
       "    </tr>\n",
       "    <tr>\n",
       "      <th>...</th>\n",
       "      <td>...</td>\n",
       "      <td>...</td>\n",
       "      <td>...</td>\n",
       "      <td>...</td>\n",
       "      <td>...</td>\n",
       "      <td>...</td>\n",
       "      <td>...</td>\n",
       "      <td>...</td>\n",
       "      <td>...</td>\n",
       "      <td>...</td>\n",
       "      <td>...</td>\n",
       "      <td>...</td>\n",
       "      <td>...</td>\n",
       "      <td>...</td>\n",
       "      <td>...</td>\n",
       "      <td>...</td>\n",
       "      <td>...</td>\n",
       "      <td>...</td>\n",
       "      <td>...</td>\n",
       "      <td>...</td>\n",
       "      <td>...</td>\n",
       "    </tr>\n",
       "    <tr>\n",
       "      <th>88409</th>\n",
       "      <td>12935144</td>\n",
       "      <td>0.781</td>\n",
       "      <td>0.032</td>\n",
       "      <td>-0.023</td>\n",
       "      <td>4798.5</td>\n",
       "      <td>80.8</td>\n",
       "      <td>-74.4</td>\n",
       "      <td>4.515</td>\n",
       "      <td>0.028</td>\n",
       "      <td>-0.020</td>\n",
       "      <td>...</td>\n",
       "      <td>12935144.0</td>\n",
       "      <td>0.074333</td>\n",
       "      <td>-0.665727</td>\n",
       "      <td>0.203878</td>\n",
       "      <td>8.152893</td>\n",
       "      <td>1.399630</td>\n",
       "      <td>12935144.0</td>\n",
       "      <td>84.082452</td>\n",
       "      <td>685.515233</td>\n",
       "      <td>-0.054381</td>\n",
       "    </tr>\n",
       "    <tr>\n",
       "      <th>88410</th>\n",
       "      <td>12983952</td>\n",
       "      <td>0.897</td>\n",
       "      <td>0.062</td>\n",
       "      <td>-0.046</td>\n",
       "      <td>5407.1</td>\n",
       "      <td>121.4</td>\n",
       "      <td>-103.9</td>\n",
       "      <td>4.188</td>\n",
       "      <td>0.037</td>\n",
       "      <td>-0.037</td>\n",
       "      <td>...</td>\n",
       "      <td>12983952.0</td>\n",
       "      <td>0.130032</td>\n",
       "      <td>-1.163034</td>\n",
       "      <td>0.360703</td>\n",
       "      <td>8.153345</td>\n",
       "      <td>0.787841</td>\n",
       "      <td>12983952.0</td>\n",
       "      <td>25.186284</td>\n",
       "      <td>205.352468</td>\n",
       "      <td>0.460145</td>\n",
       "    </tr>\n",
       "    <tr>\n",
       "      <th>88411</th>\n",
       "      <td>12984012</td>\n",
       "      <td>1.074</td>\n",
       "      <td>0.071</td>\n",
       "      <td>-0.078</td>\n",
       "      <td>6005.1</td>\n",
       "      <td>116.3</td>\n",
       "      <td>-113.9</td>\n",
       "      <td>4.337</td>\n",
       "      <td>0.046</td>\n",
       "      <td>-0.050</td>\n",
       "      <td>...</td>\n",
       "      <td>12984012.0</td>\n",
       "      <td>0.151450</td>\n",
       "      <td>-1.360554</td>\n",
       "      <td>0.421496</td>\n",
       "      <td>8.162736</td>\n",
       "      <td>0.669294</td>\n",
       "      <td>12984012.0</td>\n",
       "      <td>77.666784</td>\n",
       "      <td>633.973444</td>\n",
       "      <td>0.037189</td>\n",
       "    </tr>\n",
       "    <tr>\n",
       "      <th>88412</th>\n",
       "      <td>12984138</td>\n",
       "      <td>0.811</td>\n",
       "      <td>0.048</td>\n",
       "      <td>-0.039</td>\n",
       "      <td>5052.3</td>\n",
       "      <td>90.3</td>\n",
       "      <td>-82.6</td>\n",
       "      <td>4.501</td>\n",
       "      <td>0.041</td>\n",
       "      <td>-0.034</td>\n",
       "      <td>...</td>\n",
       "      <td>12984138.0</td>\n",
       "      <td>0.097330</td>\n",
       "      <td>-0.878833</td>\n",
       "      <td>0.271680</td>\n",
       "      <td>8.150190</td>\n",
       "      <td>1.052836</td>\n",
       "      <td>12984138.0</td>\n",
       "      <td>3.918576</td>\n",
       "      <td>31.937140</td>\n",
       "      <td>1.928145</td>\n",
       "    </tr>\n",
       "    <tr>\n",
       "      <th>88413</th>\n",
       "      <td>12984422</td>\n",
       "      <td>0.905</td>\n",
       "      <td>0.054</td>\n",
       "      <td>-0.053</td>\n",
       "      <td>5187.0</td>\n",
       "      <td>107.7</td>\n",
       "      <td>-98.4</td>\n",
       "      <td>4.466</td>\n",
       "      <td>0.044</td>\n",
       "      <td>-0.045</td>\n",
       "      <td>...</td>\n",
       "      <td>12984422.0</td>\n",
       "      <td>0.112165</td>\n",
       "      <td>-1.013205</td>\n",
       "      <td>0.311307</td>\n",
       "      <td>8.151053</td>\n",
       "      <td>0.909908</td>\n",
       "      <td>12984422.0</td>\n",
       "      <td>68.810560</td>\n",
       "      <td>560.878508</td>\n",
       "      <td>0.056346</td>\n",
       "    </tr>\n",
       "  </tbody>\n",
       "</table>\n",
       "<p>88414 rows × 76 columns</p>\n",
       "</div>"
      ],
      "text/plain": [
       "            KIC  iso_mass  iso_mass_err1  iso_mass_err2  iso_teff  \\\n",
       "0        757450     0.914          0.062         -0.057    5301.2   \n",
       "1        892718     0.782          0.040         -0.046    5000.9   \n",
       "2        892772     0.803          0.039         -0.032    4965.0   \n",
       "3        892832     0.784          0.040         -0.045    4975.7   \n",
       "4        892834     0.751          0.034         -0.039    4823.2   \n",
       "...         ...       ...            ...            ...       ...   \n",
       "88409  12935144     0.781          0.032         -0.023    4798.5   \n",
       "88410  12983952     0.897          0.062         -0.046    5407.1   \n",
       "88411  12984012     1.074          0.071         -0.078    6005.1   \n",
       "88412  12984138     0.811          0.048         -0.039    5052.3   \n",
       "88413  12984422     0.905          0.054         -0.053    5187.0   \n",
       "\n",
       "       iso_teff_err1  iso_teff_err2  iso_logg  iso_logg_err1  iso_logg_err2  \\\n",
       "0              111.0         -103.1     4.432          0.045         -0.044   \n",
       "1               97.3          -90.3     4.570          0.028         -0.036   \n",
       "2               96.3          -93.6     4.492          0.040         -0.034   \n",
       "3               97.1          -88.2     4.564          0.028         -0.034   \n",
       "4               90.4          -82.2     4.587          0.023         -0.028   \n",
       "...              ...            ...       ...            ...            ...   \n",
       "88409           80.8          -74.4     4.515          0.028         -0.020   \n",
       "88410          121.4         -103.9     4.188          0.037         -0.037   \n",
       "88411          116.3         -113.9     4.337          0.046         -0.050   \n",
       "88412           90.3          -82.6     4.501          0.041         -0.034   \n",
       "88413          107.7          -98.4     4.466          0.044         -0.045   \n",
       "\n",
       "       ...     kepid_y         X         Y         z         R  parallax  \\\n",
       "0      ...    757450.0  0.292384 -0.769703  0.141026  7.944988  1.168913   \n",
       "1      ...    892718.0  0.303262 -0.801109  0.147161  7.937269  1.123321   \n",
       "2      ...    892772.0  0.228827 -0.605497  0.111267  7.994137  1.499367   \n",
       "3      ...    892832.0  0.275032 -0.727739  0.133604  7.958311  1.239068   \n",
       "4      ...    892834.0  0.197754 -0.522096  0.095666  8.019260  1.737008   \n",
       "...    ...         ...       ...       ...       ...       ...       ...   \n",
       "88409  ...  12935144.0  0.074333 -0.665727  0.203878  8.152893  1.399630   \n",
       "88410  ...  12983952.0  0.130032 -1.163034  0.360703  8.153345  0.787841   \n",
       "88411  ...  12984012.0  0.151450 -1.360554  0.421496  8.162736  0.669294   \n",
       "88412  ...  12984138.0  0.097330 -0.878833  0.271680  8.150190  1.052836   \n",
       "88413  ...  12984422.0  0.112165 -1.013205  0.311307  8.151053  0.909908   \n",
       "\n",
       "            kepid        v_t      Lz_est  kin_age_Sharma2020  \n",
       "0        757450.0  33.889670  269.253033            0.888474  \n",
       "1        892718.0  49.088081  389.625320            0.332151  \n",
       "2        892772.0  43.437266  347.243470            0.460172  \n",
       "3        892832.0  91.357351  727.050225           -0.038991  \n",
       "4        892834.0  16.909004  135.597695            0.445367  \n",
       "...           ...        ...         ...                 ...  \n",
       "88409  12935144.0  84.082452  685.515233           -0.054381  \n",
       "88410  12983952.0  25.186284  205.352468            0.460145  \n",
       "88411  12984012.0  77.666784  633.973444            0.037189  \n",
       "88412  12984138.0   3.918576   31.937140            1.928145  \n",
       "88413  12984422.0  68.810560  560.878508            0.056346  \n",
       "\n",
       "[88414 rows x 76 columns]"
      ]
     },
     "execution_count": 13,
     "metadata": {},
     "output_type": "execute_result"
    }
   ],
   "source": [
    "df_rvar_s"
   ]
  },
  {
   "cell_type": "code",
   "execution_count": 22,
   "metadata": {},
   "outputs": [],
   "source": [
    "mpf = 'aviary/data/metal_poor_avr.csv'\n",
    "mrf = 'aviary/data/metal_rich_avr.csv'\n",
    "af = 'aviary/data/all_stars_avr.csv'\n",
    "\n",
    "### New AVR\n",
    "def f_Lz(Lz):\n",
    "    alpha=0.58\n",
    "    lzsun=232.\n",
    "    lumbda=1130.\n",
    "    return (alpha*np.power(Lz/lzsun,2.)+np.exp(-(Lz-lzsun)/lumbda))/1+alpha\n",
    "\n",
    "def f_feh(FeH):\n",
    "    gamma=-0.52\n",
    "    return 1.+gamma*FeH\n",
    "\n",
    "def f_z(z):\n",
    "    gamma=0.2\n",
    "    return 1.+gamma*abs(z)\n",
    "\n",
    "def f_tao(vd,Lz,FeH,z):\n",
    "    sigma=21.1\n",
    "    return vd/sigma/f_z(z)/f_feh(FeH)/f_Lz(Lz)\n",
    "\n",
    "def v_to_age(vd,Lz,FeH,z):\n",
    "    beta=0.441\n",
    "    return np.power(f_tao(vd,Lz,FeH,z),1./beta)*10.1-0.1\n",
    "\n",
    "\n",
    "def genErr(dv, dv_err):\n",
    "    errorRand=np.random.normal(0, 1, len(dv))\n",
    "    return dv+dv_err*errorRand\n",
    "\n",
    "\n",
    "# get average ages\n",
    "def getAveAges(df,fs,binfs):\n",
    "    \n",
    "    fslen=len(fs)\n",
    "    dflen=len(df)\n",
    "    \n",
    "    checkpara=np.zeros(fslen)\n",
    "    paras=np.zeros((dflen,fslen))\n",
    "    for i in range(fslen):\n",
    "        paras[:,i]=df[fs[i]].values\n",
    "    \n",
    "    iso_age=df['iso_age'].values\n",
    "    iso_age_err=df['iso_age_err1'].values\n",
    "    \n",
    "    iso_ave=np.zeros(len(df))\n",
    "    iso_ave_err=np.zeros(len(df))\n",
    "    \n",
    "    vels=df['v_b'].values\n",
    "    kin_age=np.zeros(len(df))\n",
    "    \n",
    "    for i in trange(dflen):\n",
    "        \n",
    "        mask=np.ones(dflen, dtype=bool)\n",
    "        \n",
    "        for j in range(fslen):\n",
    "            checkpara[j]=paras[i,j]\n",
    "            mask = mask & (abs(paras[:,j]-checkpara[j])<binfs[j]/2)\n",
    "            #mask = mask & (paras[:,j]>=checkpara[j]-binfs[j]/2)\n",
    "            #mask = mask & (paras[:,j]<=checkpara[j]+binfs[j]/2)\n",
    "        \n",
    "        iso_age_single=iso_age[mask]\n",
    "        iso_age_err_single=iso_age_err[mask]\n",
    "        \n",
    "        weights=1/np.power(iso_age_err_single,2)\n",
    "        iso_ave[i]=sum((iso_age_single*weights)/sum(weights))\n",
    "        iso_ave_err[i]=np.sqrt(sum(iso_age_err_single)**2)\n",
    "        \n",
    "        vels_single=vels[mask]\n",
    "        \n",
    "        kin_age[i]=1.5*np.median(abs(vels_single-np.median(vels_single)))\n",
    "        \n",
    "        \n",
    "    df['vel_dis_Sharma2020']=kin_age\n",
    "    df['kin_age_Sharma2020']=v_to_age(kin_age,df['Lz_est'],np.ones(len(df))*-0.05,\n",
    "                                      df['z'])\n",
    "    df['iso_age_ave']=iso_ave\n",
    "    df['iso_age_ave_err']=iso_ave_err\n",
    "\n",
    "import time\n",
    "from tqdm import trange\n",
    "# get average ages\n",
    "def getkinAges(df,fs,binfs):\n",
    "    \n",
    "    fslen=len(fs)\n",
    "    dflen=len(df)\n",
    "    \n",
    "    checkpara=np.zeros(fslen)\n",
    "    paras=np.zeros((dflen,fslen))\n",
    "    for i in range(fslen):\n",
    "        paras[:,i]=df[fs[i]].values\n",
    "    \n",
    "    vels=df['v_b'].values\n",
    "    kin_age=np.zeros(len(df))\n",
    "    \n",
    "    for i in trange(dflen):\n",
    "        \n",
    "        mask=np.ones(dflen, dtype=bool)\n",
    "        \n",
    "        for j in range(fslen):\n",
    "            checkpara[j]=paras[i,j]\n",
    "            mask = mask & (abs(paras[:,j]-checkpara[j])<binfs[j]/2)\n",
    "        vels_single=vels[mask]\n",
    "        \n",
    "        kin_age[i]=1.5*np.median(abs(vels_single-np.median(vels_single)))\n",
    "        \n",
    "    df['vel_dis_Sharma2020']=kin_age\n",
    "\n",
    "    df['kin_age_Sharma2020']=v_to_age(kin_age,df['Lz_est'],np.ones(len(df))*-0.05,\n",
    "                                      df['z'])\n",
    "    \n",
    "import time\n",
    "from tqdm import trange\n",
    "# get average ages\n",
    "def getkinAges_err(df,fs,binfs,sampsize=10):\n",
    "    df=df.dropna(subset=['v_b'])\n",
    "    bin_low=[i*0.5 for i in binfs]\n",
    "    bin_hi=[i*1.5 for i in binfs]\n",
    "    \n",
    "    bins=np.zeros((len(binfs),sampsize))\n",
    "    ages=np.zeros((len(df),sampsize))\n",
    "    for i in range(len(binfs)):\n",
    "        bins[i,:]=np.linspace(bin_low[i],bin_hi[i],sampsize)\n",
    "    for i in range(sampsize):\n",
    "        getkinAges(df,fs,bins[:,i])\n",
    "        ages[:,i]=df['kin_age']\n",
    "    getkinAges(df,fs,binfs)\n",
    "    \n",
    "    df['kin_age_err']=[np.std(pd.Series(ages[i,:]).dropna()) for i in range(len(df))] \n",
    "    return ages\n",
    "\n",
    "\n",
    "    "
   ]
  },
  {
   "cell_type": "code",
   "execution_count": 31,
   "metadata": {},
   "outputs": [
    {
     "name": "stderr",
     "output_type": "stream",
     "text": [
      "100%|██████████| 84033/84033 [00:54<00:00, 1529.17it/s]\n",
      "/Users/lucy/anaconda3/lib/python3.7/site-packages/ipykernel_launcher.py:37: RuntimeWarning: divide by zero encountered in log\n",
      "/Users/lucy/anaconda3/lib/python3.7/site-packages/numpy/lib/polynomial.py:675: RuntimeWarning: invalid value encountered in multiply\n",
      "  y = y * x + p[i]\n"
     ]
    }
   ],
   "source": [
    "\n",
    "df_prot_s=pd.read_pickle('minchisq_rvar.pkl')    \n",
    "\n",
    "getkinAges(df_prot_s,['teff_calc','Rvar_log','abs_G'],[266.6666666666667, 5.0, 0.01])  \n"
   ]
  },
  {
   "cell_type": "code",
   "execution_count": 29,
   "metadata": {},
   "outputs": [
    {
     "data": {
      "text/plain": [
       "Index(['KIC', 'iso_mass', 'iso_mass_err1', 'iso_mass_err2', 'iso_teff',\n",
       "       'iso_teff_err1', 'iso_teff_err2', 'iso_logg', 'iso_logg_err1',\n",
       "       'iso_logg_err2', 'iso_feh', 'iso_feh_err1', 'iso_feh_err2', 'iso_rad',\n",
       "       'iso_rad_err1', 'iso_rad_err2', 'iso_rho', 'iso_rho_err1',\n",
       "       'iso_rho_err2', 'iso_lum', 'iso_lum_err1', 'iso_lum_err2', 'iso_age',\n",
       "       'unReAgeFlag', 'iso_age_err1', 'iso_age_err2', 'iso_dis',\n",
       "       'iso_dis_err1', 'iso_dis_err2', 'iso_avs', 'iso_gof', 'TAMS\\\\', 'KID',\n",
       "       'age', 'Rvar', 'Prot', 'teff_calc', 'Prot_log', 'logg_y', 'v_b', 'w',\n",
       "       'abs_G', 'source_id', 'designation', 'iso_age_err', 'kin_age',\n",
       "       'kin_age_err', 'iso_age_ave', 'iso_age_ave_err', 'v_t_err', 'v_b_err',\n",
       "       'abs_G_err', 'teff_val_err', 'Prot_err', 'Prot_new', 'teff_calc_new',\n",
       "       'abs_G_new', 'v_b_new', 'kin_age_err_bs', 'vel_dis'],\n",
       "      dtype='object')"
      ]
     },
     "execution_count": 29,
     "metadata": {},
     "output_type": "execute_result"
    }
   ],
   "source": [
    "df_prot_s.columns"
   ]
  },
  {
   "cell_type": "code",
   "execution_count": 33,
   "metadata": {},
   "outputs": [
    {
     "data": {
      "text/plain": [
       "Index(['KIC', 'iso_mass', 'iso_mass_err1', 'iso_mass_err2', 'iso_teff',\n",
       "       'iso_teff_err1', 'iso_teff_err2', 'iso_logg', 'iso_logg_err1',\n",
       "       'iso_logg_err2', 'iso_feh', 'iso_feh_err1', 'iso_feh_err2', 'iso_rad',\n",
       "       'iso_rad_err1', 'iso_rad_err2', 'iso_rho', 'iso_rho_err1',\n",
       "       'iso_rho_err2', 'iso_lum', 'iso_lum_err1', 'iso_lum_err2', 'iso_age',\n",
       "       'unReAgeFlag', 'iso_age_err1', 'iso_age_err2', 'iso_dis',\n",
       "       'iso_dis_err1', 'iso_dis_err2', 'iso_avs', 'iso_gof', 'TAMS\\\\', 'KID',\n",
       "       'age', 'Rvar', 'teff_calc', 'Rvar_log', 'logg', 'v_b', 'abs_G',\n",
       "       'iso_age_err', 'kin_age', 'iso_age_ave', 'iso_age_ave_err',\n",
       "       'kin_age_err', 'source_id', 'v_t_err', 'v_b_err', 'abs_G_err',\n",
       "       'teff_val_err', 'Rvar_err', 'Rvar_new', 'teff_calc_new', 'abs_G_new',\n",
       "       'v_b_new', 'kin_age_err_bs', 'vel_dis'],\n",
       "      dtype='object')"
      ]
     },
     "execution_count": 33,
     "metadata": {},
     "output_type": "execute_result"
    }
   ],
   "source": [
    "df_prot_s.columns"
   ]
  },
  {
   "cell_type": "code",
   "execution_count": 41,
   "metadata": {},
   "outputs": [],
   "source": [
    "df_prot_s[columns_save].to_pickle('minchisq.pkl')"
   ]
  },
  {
   "cell_type": "code",
   "execution_count": 40,
   "metadata": {},
   "outputs": [],
   "source": [
    "columns_save=['KIC', 'iso_mass', 'iso_mass_err1', 'iso_mass_err2', 'iso_teff',\n",
    "       'iso_teff_err1', 'iso_teff_err2', 'iso_logg', 'iso_logg_err1',\n",
    "       'iso_logg_err2', 'iso_feh', 'iso_feh_err1', 'iso_feh_err2', 'iso_rad',\n",
    "       'iso_rad_err1', 'iso_rad_err2', 'iso_rho', 'iso_rho_err1',\n",
    "       'iso_rho_err2', 'iso_lum', 'iso_lum_err1', 'iso_lum_err2', 'iso_age',\n",
    "       'unReAgeFlag', 'iso_age_err1', 'iso_age_err2', 'iso_dis',\n",
    "       'iso_dis_err1', 'iso_dis_err2', 'iso_avs', 'iso_gof', 'KID',\n",
    "       'age', 'Rvar', 'Prot', 'teff_calc', 'Prot_log', 'v_b', 'w',\n",
    "       'abs_G', 'source_id', 'designation', 'iso_age_err', 'kin_age',\n",
    "       'kin_age_err', 'iso_age_ave', 'iso_age_ave_err', 'v_t_err', 'v_b_err',\n",
    "       'abs_G_err', 'teff_val_err', 'Prot_err', 'Prot_new', 'teff_calc_new',\n",
    "       'abs_G_new', 'v_b_new', 'kin_age_err_bs', 'vel_dis', 'logg']"
   ]
  },
  {
   "cell_type": "code",
   "execution_count": 42,
   "metadata": {},
   "outputs": [],
   "source": [
    "df_prot_s=pd.read_pickle('minchisq.pkl')    "
   ]
  },
  {
   "cell_type": "code",
   "execution_count": 36,
   "metadata": {},
   "outputs": [],
   "source": [
    "df_prot_s['logg']=df_prot_s['logg_y']"
   ]
  },
  {
   "cell_type": "code",
   "execution_count": 44,
   "metadata": {},
   "outputs": [
    {
     "data": {
      "text/html": [
       "<div>\n",
       "<style scoped>\n",
       "    .dataframe tbody tr th:only-of-type {\n",
       "        vertical-align: middle;\n",
       "    }\n",
       "\n",
       "    .dataframe tbody tr th {\n",
       "        vertical-align: top;\n",
       "    }\n",
       "\n",
       "    .dataframe thead th {\n",
       "        text-align: right;\n",
       "    }\n",
       "</style>\n",
       "<table border=\"1\" class=\"dataframe\">\n",
       "  <thead>\n",
       "    <tr style=\"text-align: right;\">\n",
       "      <th></th>\n",
       "      <th>KIC</th>\n",
       "      <th>iso_mass</th>\n",
       "      <th>iso_mass_err1</th>\n",
       "      <th>iso_mass_err2</th>\n",
       "      <th>iso_teff</th>\n",
       "      <th>iso_teff_err1</th>\n",
       "      <th>iso_teff_err2</th>\n",
       "      <th>iso_logg</th>\n",
       "      <th>iso_logg_err1</th>\n",
       "      <th>iso_logg_err2</th>\n",
       "      <th>...</th>\n",
       "      <th>abs_G_err</th>\n",
       "      <th>teff_val_err</th>\n",
       "      <th>Prot_err</th>\n",
       "      <th>Prot_new</th>\n",
       "      <th>teff_calc_new</th>\n",
       "      <th>abs_G_new</th>\n",
       "      <th>v_b_new</th>\n",
       "      <th>kin_age_err_bs</th>\n",
       "      <th>vel_dis</th>\n",
       "      <th>logg</th>\n",
       "    </tr>\n",
       "  </thead>\n",
       "  <tbody>\n",
       "    <tr>\n",
       "      <th>0</th>\n",
       "      <td>892834</td>\n",
       "      <td>0.751</td>\n",
       "      <td>0.034</td>\n",
       "      <td>-0.039</td>\n",
       "      <td>4823.2</td>\n",
       "      <td>90.4</td>\n",
       "      <td>-82.2</td>\n",
       "      <td>4.587</td>\n",
       "      <td>0.023</td>\n",
       "      <td>-0.028</td>\n",
       "      <td>...</td>\n",
       "      <td>0.031109</td>\n",
       "      <td>228.925049</td>\n",
       "      <td>0.023</td>\n",
       "      <td>13.773219</td>\n",
       "      <td>4851.256790</td>\n",
       "      <td>6.422569</td>\n",
       "      <td>-0.943424</td>\n",
       "      <td>1.446636</td>\n",
       "      <td>9.785919</td>\n",
       "      <td>4.615</td>\n",
       "    </tr>\n",
       "    <tr>\n",
       "      <th>1</th>\n",
       "      <td>893033</td>\n",
       "      <td>0.685</td>\n",
       "      <td>0.027</td>\n",
       "      <td>-0.030</td>\n",
       "      <td>4707.6</td>\n",
       "      <td>87.6</td>\n",
       "      <td>-82.5</td>\n",
       "      <td>4.636</td>\n",
       "      <td>0.018</td>\n",
       "      <td>-0.023</td>\n",
       "      <td>...</td>\n",
       "      <td>0.028509</td>\n",
       "      <td>121.665039</td>\n",
       "      <td>0.214</td>\n",
       "      <td>27.201958</td>\n",
       "      <td>4704.322563</td>\n",
       "      <td>6.665509</td>\n",
       "      <td>-48.411905</td>\n",
       "      <td>2.565540</td>\n",
       "      <td>13.713968</td>\n",
       "      <td>4.607</td>\n",
       "    </tr>\n",
       "    <tr>\n",
       "      <th>2</th>\n",
       "      <td>893286</td>\n",
       "      <td>0.853</td>\n",
       "      <td>0.047</td>\n",
       "      <td>-0.057</td>\n",
       "      <td>5297.1</td>\n",
       "      <td>103.4</td>\n",
       "      <td>-98.5</td>\n",
       "      <td>4.522</td>\n",
       "      <td>0.034</td>\n",
       "      <td>-0.044</td>\n",
       "      <td>...</td>\n",
       "      <td>0.052317</td>\n",
       "      <td>215.742676</td>\n",
       "      <td>0.872</td>\n",
       "      <td>28.227418</td>\n",
       "      <td>5362.005131</td>\n",
       "      <td>5.651806</td>\n",
       "      <td>4.180066</td>\n",
       "      <td>1.055713</td>\n",
       "      <td>15.774203</td>\n",
       "      <td>4.603</td>\n",
       "    </tr>\n",
       "    <tr>\n",
       "      <th>3</th>\n",
       "      <td>893383</td>\n",
       "      <td>0.912</td>\n",
       "      <td>0.036</td>\n",
       "      <td>-0.051</td>\n",
       "      <td>5680.9</td>\n",
       "      <td>105.1</td>\n",
       "      <td>-102.2</td>\n",
       "      <td>4.526</td>\n",
       "      <td>0.020</td>\n",
       "      <td>-0.031</td>\n",
       "      <td>...</td>\n",
       "      <td>0.027138</td>\n",
       "      <td>43.075684</td>\n",
       "      <td>0.536</td>\n",
       "      <td>21.182943</td>\n",
       "      <td>5680.083288</td>\n",
       "      <td>5.201393</td>\n",
       "      <td>-19.880820</td>\n",
       "      <td>0.994955</td>\n",
       "      <td>8.906897</td>\n",
       "      <td>4.612</td>\n",
       "    </tr>\n",
       "    <tr>\n",
       "      <th>4</th>\n",
       "      <td>893559</td>\n",
       "      <td>0.808</td>\n",
       "      <td>0.044</td>\n",
       "      <td>-0.049</td>\n",
       "      <td>5095.3</td>\n",
       "      <td>95.2</td>\n",
       "      <td>-88.7</td>\n",
       "      <td>4.546</td>\n",
       "      <td>0.033</td>\n",
       "      <td>-0.041</td>\n",
       "      <td>...</td>\n",
       "      <td>0.071831</td>\n",
       "      <td>58.006836</td>\n",
       "      <td>0.108</td>\n",
       "      <td>14.880262</td>\n",
       "      <td>5101.814834</td>\n",
       "      <td>5.894823</td>\n",
       "      <td>6.444042</td>\n",
       "      <td>0.810244</td>\n",
       "      <td>14.865115</td>\n",
       "      <td>4.594</td>\n",
       "    </tr>\n",
       "    <tr>\n",
       "      <th>...</th>\n",
       "      <td>...</td>\n",
       "      <td>...</td>\n",
       "      <td>...</td>\n",
       "      <td>...</td>\n",
       "      <td>...</td>\n",
       "      <td>...</td>\n",
       "      <td>...</td>\n",
       "      <td>...</td>\n",
       "      <td>...</td>\n",
       "      <td>...</td>\n",
       "      <td>...</td>\n",
       "      <td>...</td>\n",
       "      <td>...</td>\n",
       "      <td>...</td>\n",
       "      <td>...</td>\n",
       "      <td>...</td>\n",
       "      <td>...</td>\n",
       "      <td>...</td>\n",
       "      <td>...</td>\n",
       "      <td>...</td>\n",
       "      <td>...</td>\n",
       "    </tr>\n",
       "    <tr>\n",
       "      <th>20635</th>\n",
       "      <td>12884971</td>\n",
       "      <td>0.640</td>\n",
       "      <td>0.018</td>\n",
       "      <td>-0.015</td>\n",
       "      <td>4218.2</td>\n",
       "      <td>72.9</td>\n",
       "      <td>-41.3</td>\n",
       "      <td>4.640</td>\n",
       "      <td>0.021</td>\n",
       "      <td>-0.037</td>\n",
       "      <td>...</td>\n",
       "      <td>0.021474</td>\n",
       "      <td>54.750000</td>\n",
       "      <td>0.085</td>\n",
       "      <td>26.017590</td>\n",
       "      <td>4146.281171</td>\n",
       "      <td>7.346681</td>\n",
       "      <td>-29.419907</td>\n",
       "      <td>2.445367</td>\n",
       "      <td>11.495741</td>\n",
       "      <td>4.633</td>\n",
       "    </tr>\n",
       "    <tr>\n",
       "      <th>20636</th>\n",
       "      <td>12934465</td>\n",
       "      <td>0.750</td>\n",
       "      <td>0.036</td>\n",
       "      <td>-0.036</td>\n",
       "      <td>4769.3</td>\n",
       "      <td>83.6</td>\n",
       "      <td>-76.0</td>\n",
       "      <td>4.579</td>\n",
       "      <td>0.026</td>\n",
       "      <td>-0.027</td>\n",
       "      <td>...</td>\n",
       "      <td>0.034849</td>\n",
       "      <td>99.989990</td>\n",
       "      <td>1.692</td>\n",
       "      <td>33.685286</td>\n",
       "      <td>4581.850697</td>\n",
       "      <td>6.383114</td>\n",
       "      <td>8.819981</td>\n",
       "      <td>1.253350</td>\n",
       "      <td>13.906501</td>\n",
       "      <td>4.647</td>\n",
       "    </tr>\n",
       "    <tr>\n",
       "      <th>20637</th>\n",
       "      <td>12934488</td>\n",
       "      <td>0.953</td>\n",
       "      <td>0.074</td>\n",
       "      <td>-0.070</td>\n",
       "      <td>5667.7</td>\n",
       "      <td>107.6</td>\n",
       "      <td>-102.3</td>\n",
       "      <td>4.346</td>\n",
       "      <td>0.042</td>\n",
       "      <td>-0.042</td>\n",
       "      <td>...</td>\n",
       "      <td>0.015213</td>\n",
       "      <td>104.905029</td>\n",
       "      <td>0.849</td>\n",
       "      <td>52.584489</td>\n",
       "      <td>5714.556863</td>\n",
       "      <td>4.549548</td>\n",
       "      <td>-46.622516</td>\n",
       "      <td>1.447204</td>\n",
       "      <td>11.681465</td>\n",
       "      <td>4.493</td>\n",
       "    </tr>\n",
       "    <tr>\n",
       "      <th>20638</th>\n",
       "      <td>12934525</td>\n",
       "      <td>0.829</td>\n",
       "      <td>0.041</td>\n",
       "      <td>-0.054</td>\n",
       "      <td>5264.3</td>\n",
       "      <td>95.3</td>\n",
       "      <td>-90.7</td>\n",
       "      <td>4.555</td>\n",
       "      <td>0.026</td>\n",
       "      <td>-0.039</td>\n",
       "      <td>...</td>\n",
       "      <td>0.052815</td>\n",
       "      <td>139.604980</td>\n",
       "      <td>0.240</td>\n",
       "      <td>25.193911</td>\n",
       "      <td>5073.415445</td>\n",
       "      <td>5.631794</td>\n",
       "      <td>-1.278779</td>\n",
       "      <td>1.049201</td>\n",
       "      <td>13.019659</td>\n",
       "      <td>4.563</td>\n",
       "    </tr>\n",
       "    <tr>\n",
       "      <th>20639</th>\n",
       "      <td>12984138</td>\n",
       "      <td>0.811</td>\n",
       "      <td>0.048</td>\n",
       "      <td>-0.039</td>\n",
       "      <td>5052.3</td>\n",
       "      <td>90.3</td>\n",
       "      <td>-82.6</td>\n",
       "      <td>4.501</td>\n",
       "      <td>0.041</td>\n",
       "      <td>-0.034</td>\n",
       "      <td>...</td>\n",
       "      <td>0.064348</td>\n",
       "      <td>75.750000</td>\n",
       "      <td>0.038</td>\n",
       "      <td>12.120937</td>\n",
       "      <td>5143.312925</td>\n",
       "      <td>5.866556</td>\n",
       "      <td>-0.825128</td>\n",
       "      <td>0.904718</td>\n",
       "      <td>15.378796</td>\n",
       "      <td>4.579</td>\n",
       "    </tr>\n",
       "  </tbody>\n",
       "</table>\n",
       "<p>20640 rows × 59 columns</p>\n",
       "</div>"
      ],
      "text/plain": [
       "            KIC  iso_mass  iso_mass_err1  iso_mass_err2  iso_teff  \\\n",
       "0        892834     0.751          0.034         -0.039    4823.2   \n",
       "1        893033     0.685          0.027         -0.030    4707.6   \n",
       "2        893286     0.853          0.047         -0.057    5297.1   \n",
       "3        893383     0.912          0.036         -0.051    5680.9   \n",
       "4        893559     0.808          0.044         -0.049    5095.3   \n",
       "...         ...       ...            ...            ...       ...   \n",
       "20635  12884971     0.640          0.018         -0.015    4218.2   \n",
       "20636  12934465     0.750          0.036         -0.036    4769.3   \n",
       "20637  12934488     0.953          0.074         -0.070    5667.7   \n",
       "20638  12934525     0.829          0.041         -0.054    5264.3   \n",
       "20639  12984138     0.811          0.048         -0.039    5052.3   \n",
       "\n",
       "       iso_teff_err1  iso_teff_err2  iso_logg  iso_logg_err1  iso_logg_err2  \\\n",
       "0               90.4          -82.2     4.587          0.023         -0.028   \n",
       "1               87.6          -82.5     4.636          0.018         -0.023   \n",
       "2              103.4          -98.5     4.522          0.034         -0.044   \n",
       "3              105.1         -102.2     4.526          0.020         -0.031   \n",
       "4               95.2          -88.7     4.546          0.033         -0.041   \n",
       "...              ...            ...       ...            ...            ...   \n",
       "20635           72.9          -41.3     4.640          0.021         -0.037   \n",
       "20636           83.6          -76.0     4.579          0.026         -0.027   \n",
       "20637          107.6         -102.3     4.346          0.042         -0.042   \n",
       "20638           95.3          -90.7     4.555          0.026         -0.039   \n",
       "20639           90.3          -82.6     4.501          0.041         -0.034   \n",
       "\n",
       "       ...  abs_G_err  teff_val_err  Prot_err   Prot_new  teff_calc_new  \\\n",
       "0      ...   0.031109    228.925049     0.023  13.773219    4851.256790   \n",
       "1      ...   0.028509    121.665039     0.214  27.201958    4704.322563   \n",
       "2      ...   0.052317    215.742676     0.872  28.227418    5362.005131   \n",
       "3      ...   0.027138     43.075684     0.536  21.182943    5680.083288   \n",
       "4      ...   0.071831     58.006836     0.108  14.880262    5101.814834   \n",
       "...    ...        ...           ...       ...        ...            ...   \n",
       "20635  ...   0.021474     54.750000     0.085  26.017590    4146.281171   \n",
       "20636  ...   0.034849     99.989990     1.692  33.685286    4581.850697   \n",
       "20637  ...   0.015213    104.905029     0.849  52.584489    5714.556863   \n",
       "20638  ...   0.052815    139.604980     0.240  25.193911    5073.415445   \n",
       "20639  ...   0.064348     75.750000     0.038  12.120937    5143.312925   \n",
       "\n",
       "       abs_G_new    v_b_new  kin_age_err_bs    vel_dis   logg  \n",
       "0       6.422569  -0.943424        1.446636   9.785919  4.615  \n",
       "1       6.665509 -48.411905        2.565540  13.713968  4.607  \n",
       "2       5.651806   4.180066        1.055713  15.774203  4.603  \n",
       "3       5.201393 -19.880820        0.994955   8.906897  4.612  \n",
       "4       5.894823   6.444042        0.810244  14.865115  4.594  \n",
       "...          ...        ...             ...        ...    ...  \n",
       "20635   7.346681 -29.419907        2.445367  11.495741  4.633  \n",
       "20636   6.383114   8.819981        1.253350  13.906501  4.647  \n",
       "20637   4.549548 -46.622516        1.447204  11.681465  4.493  \n",
       "20638   5.631794  -1.278779        1.049201  13.019659  4.563  \n",
       "20639   5.866556  -0.825128        0.904718  15.378796  4.579  \n",
       "\n",
       "[20640 rows x 59 columns]"
      ]
     },
     "execution_count": 44,
     "metadata": {},
     "output_type": "execute_result"
    }
   ],
   "source": [
    "df_prot_s"
   ]
  },
  {
   "cell_type": "code",
   "execution_count": null,
   "metadata": {},
   "outputs": [],
   "source": []
  },
  {
   "cell_type": "markdown",
   "metadata": {},
   "source": [
    "## real ages (real chisq)"
   ]
  },
  {
   "cell_type": "code",
   "execution_count": 17,
   "metadata": {
    "jupyter": {
     "outputs_hidden": true
    },
    "scrolled": true
   },
   "outputs": [
    {
     "name": "stderr",
     "output_type": "stream",
     "text": [
      "\r",
      "  0%|          | 0/23158 [00:00<?, ?it/s]"
     ]
    },
    {
     "name": "stdout",
     "output_type": "stream",
     "text": [
      "0.01\n"
     ]
    },
    {
     "name": "stderr",
     "output_type": "stream",
     "text": [
      "  0%|          | 3/23158 [00:00<29:26, 13.11it/s]/Users/lucy/anaconda3/lib/python3.7/site-packages/numpy/lib/function_base.py:3250: RuntimeWarning: Invalid value encountered in median\n",
      "  r = func(a, **kwargs)\n",
      "100%|██████████| 23158/23158 [00:08<00:00, 2669.19it/s]\n",
      "  1%|          | 288/23158 [00:00<00:07, 2875.23it/s]"
     ]
    },
    {
     "name": "stdout",
     "output_type": "stream",
     "text": [
      "0.02\n"
     ]
    },
    {
     "name": "stderr",
     "output_type": "stream",
     "text": [
      "100%|██████████| 23158/23158 [00:07<00:00, 2909.93it/s]\n",
      "  1%|▏         | 290/23158 [00:00<00:07, 2895.83it/s]"
     ]
    },
    {
     "name": "stdout",
     "output_type": "stream",
     "text": [
      "0.03\n"
     ]
    },
    {
     "name": "stderr",
     "output_type": "stream",
     "text": [
      "100%|██████████| 23158/23158 [00:07<00:00, 3200.57it/s]\n",
      "  1%|          | 277/23158 [00:00<00:08, 2764.99it/s]"
     ]
    },
    {
     "name": "stdout",
     "output_type": "stream",
     "text": [
      "0.04\n"
     ]
    },
    {
     "name": "stderr",
     "output_type": "stream",
     "text": [
      "100%|██████████| 23158/23158 [00:07<00:00, 3175.90it/s]\n",
      "  1%|▏         | 323/23158 [00:00<00:07, 3223.01it/s]"
     ]
    },
    {
     "name": "stdout",
     "output_type": "stream",
     "text": [
      "0.05\n"
     ]
    },
    {
     "name": "stderr",
     "output_type": "stream",
     "text": [
      "100%|██████████| 23158/23158 [00:07<00:00, 3210.16it/s]\n",
      "  1%|▏         | 332/23158 [00:00<00:06, 3306.45it/s]"
     ]
    },
    {
     "name": "stdout",
     "output_type": "stream",
     "text": [
      "0.06\n"
     ]
    },
    {
     "name": "stderr",
     "output_type": "stream",
     "text": [
      "100%|██████████| 23158/23158 [00:07<00:00, 3269.12it/s]\n",
      "  1%|▏         | 329/23158 [00:00<00:06, 3281.69it/s]"
     ]
    },
    {
     "name": "stdout",
     "output_type": "stream",
     "text": [
      "0.07\n"
     ]
    },
    {
     "name": "stderr",
     "output_type": "stream",
     "text": [
      "100%|██████████| 23158/23158 [00:07<00:00, 3229.95it/s]\n",
      "  1%|▏         | 331/23158 [00:00<00:06, 3303.52it/s]"
     ]
    },
    {
     "name": "stdout",
     "output_type": "stream",
     "text": [
      "0.08\n"
     ]
    },
    {
     "name": "stderr",
     "output_type": "stream",
     "text": [
      "100%|██████████| 23158/23158 [00:07<00:00, 3241.19it/s]\n",
      "  3%|▎         | 657/23158 [00:00<00:06, 3289.08it/s]"
     ]
    },
    {
     "name": "stdout",
     "output_type": "stream",
     "text": [
      "0.09\n"
     ]
    },
    {
     "name": "stderr",
     "output_type": "stream",
     "text": [
      "100%|██████████| 23158/23158 [00:07<00:00, 3248.61it/s]\n",
      "  1%|▏         | 329/23158 [00:00<00:06, 3288.05it/s]"
     ]
    },
    {
     "name": "stdout",
     "output_type": "stream",
     "text": [
      "0.1\n"
     ]
    },
    {
     "name": "stderr",
     "output_type": "stream",
     "text": [
      "100%|██████████| 23158/23158 [00:08<00:00, 2857.16it/s]\n",
      "  1%|▏         | 323/23158 [00:00<00:07, 3222.33it/s]"
     ]
    },
    {
     "name": "stdout",
     "output_type": "stream",
     "text": [
      "0.11\n"
     ]
    },
    {
     "name": "stderr",
     "output_type": "stream",
     "text": [
      "100%|██████████| 23158/23158 [00:09<00:00, 2542.35it/s]\n",
      "  1%|          | 250/23158 [00:00<00:09, 2499.07it/s]"
     ]
    },
    {
     "name": "stdout",
     "output_type": "stream",
     "text": [
      "0.12\n"
     ]
    },
    {
     "name": "stderr",
     "output_type": "stream",
     "text": [
      " 68%|██████▊   | 15753/23158 [00:06<00:02, 2524.12it/s]\n"
     ]
    },
    {
     "ename": "KeyboardInterrupt",
     "evalue": "",
     "output_type": "error",
     "traceback": [
      "\u001b[0;31m---------------------------------------------------------------------------\u001b[0m",
      "\u001b[0;31mKeyboardInterrupt\u001b[0m                         Traceback (most recent call last)",
      "\u001b[0;32m<ipython-input-17-d49eebc4efdb>\u001b[0m in \u001b[0;36m<module>\u001b[0;34m\u001b[0m\n\u001b[1;32m     22\u001b[0m                 \u001b[0mprint\u001b[0m\u001b[0;34m(\u001b[0m\u001b[0mfloat\u001b[0m\u001b[0;34m(\u001b[0m\u001b[0mcount\u001b[0m\u001b[0;34m)\u001b[0m\u001b[0;34m/\u001b[0m\u001b[0mfloat\u001b[0m\u001b[0;34m(\u001b[0m\u001b[0mtotal\u001b[0m\u001b[0;34m)\u001b[0m\u001b[0;34m)\u001b[0m\u001b[0;34m\u001b[0m\u001b[0;34m\u001b[0m\u001b[0m\n\u001b[1;32m     23\u001b[0m                 \u001b[0mcount\u001b[0m\u001b[0;34m=\u001b[0m\u001b[0mcount\u001b[0m\u001b[0;34m+\u001b[0m\u001b[0;36m1\u001b[0m\u001b[0;34m\u001b[0m\u001b[0;34m\u001b[0m\u001b[0m\n\u001b[0;32m---> 24\u001b[0;31m                 \u001b[0mgetkinAges\u001b[0m\u001b[0;34m(\u001b[0m\u001b[0mdf_prot_s\u001b[0m\u001b[0;34m,\u001b[0m\u001b[0;34m[\u001b[0m\u001b[0;34m'teff_calc'\u001b[0m\u001b[0;34m,\u001b[0m\u001b[0;34m'Prot_log'\u001b[0m\u001b[0;34m,\u001b[0m\u001b[0;34m'Rvar_log'\u001b[0m\u001b[0;34m,\u001b[0m\u001b[0;34m'abs_G'\u001b[0m\u001b[0;34m]\u001b[0m\u001b[0;34m,\u001b[0m\u001b[0;34m[\u001b[0m\u001b[0mi\u001b[0m\u001b[0;34m,\u001b[0m\u001b[0mj\u001b[0m\u001b[0;34m,\u001b[0m\u001b[0mk\u001b[0m\u001b[0;34m,\u001b[0m\u001b[0ml\u001b[0m\u001b[0;34m]\u001b[0m\u001b[0;34m)\u001b[0m\u001b[0;34m\u001b[0m\u001b[0;34m\u001b[0m\u001b[0m\n\u001b[0m\u001b[1;32m     25\u001b[0m                 \u001b[0mstat_df\u001b[0m\u001b[0;34m=\u001b[0m\u001b[0mdf_prot_s\u001b[0m\u001b[0;34m.\u001b[0m\u001b[0mdropna\u001b[0m\u001b[0;34m(\u001b[0m\u001b[0msubset\u001b[0m\u001b[0;34m=\u001b[0m\u001b[0;34m[\u001b[0m\u001b[0;34m'kin_age_Sharma2020'\u001b[0m\u001b[0;34m,\u001b[0m\u001b[0;34m'iso_age'\u001b[0m\u001b[0;34m,\u001b[0m\u001b[0;34m'iso_age_err1'\u001b[0m\u001b[0;34m]\u001b[0m\u001b[0;34m)\u001b[0m\u001b[0;34m\u001b[0m\u001b[0;34m\u001b[0m\u001b[0m\n\u001b[1;32m     26\u001b[0m                 \u001b[0;32mif\u001b[0m \u001b[0mlen\u001b[0m\u001b[0;34m(\u001b[0m\u001b[0mstat_df\u001b[0m\u001b[0;34m)\u001b[0m\u001b[0;34m<\u001b[0m\u001b[0;36m1000\u001b[0m\u001b[0;34m:\u001b[0m\u001b[0;34m\u001b[0m\u001b[0;34m\u001b[0m\u001b[0m\n",
      "\u001b[0;32m<ipython-input-14-7d9e4aa67ec5>\u001b[0m in \u001b[0;36mgetkinAges\u001b[0;34m(df, fs, binfs)\u001b[0m\n\u001b[1;32m    106\u001b[0m         \u001b[0mvels_single\u001b[0m\u001b[0;34m=\u001b[0m\u001b[0mvels\u001b[0m\u001b[0;34m[\u001b[0m\u001b[0mmask\u001b[0m\u001b[0;34m]\u001b[0m\u001b[0;34m\u001b[0m\u001b[0;34m\u001b[0m\u001b[0m\n\u001b[1;32m    107\u001b[0m \u001b[0;34m\u001b[0m\u001b[0m\n\u001b[0;32m--> 108\u001b[0;31m         \u001b[0mkin_age\u001b[0m\u001b[0;34m[\u001b[0m\u001b[0mi\u001b[0m\u001b[0;34m]\u001b[0m\u001b[0;34m=\u001b[0m\u001b[0;36m1.5\u001b[0m\u001b[0;34m*\u001b[0m\u001b[0mnp\u001b[0m\u001b[0;34m.\u001b[0m\u001b[0mmedian\u001b[0m\u001b[0;34m(\u001b[0m\u001b[0mabs\u001b[0m\u001b[0;34m(\u001b[0m\u001b[0mvels_single\u001b[0m\u001b[0;34m-\u001b[0m\u001b[0mnp\u001b[0m\u001b[0;34m.\u001b[0m\u001b[0mmedian\u001b[0m\u001b[0;34m(\u001b[0m\u001b[0mvels_single\u001b[0m\u001b[0;34m)\u001b[0m\u001b[0;34m)\u001b[0m\u001b[0;34m)\u001b[0m\u001b[0;34m\u001b[0m\u001b[0;34m\u001b[0m\u001b[0m\n\u001b[0m\u001b[1;32m    109\u001b[0m \u001b[0;34m\u001b[0m\u001b[0m\n\u001b[1;32m    110\u001b[0m     \u001b[0mdf\u001b[0m\u001b[0;34m[\u001b[0m\u001b[0;34m'vel_dis_Sharma2020'\u001b[0m\u001b[0;34m]\u001b[0m\u001b[0;34m=\u001b[0m\u001b[0mkin_age\u001b[0m\u001b[0;34m\u001b[0m\u001b[0;34m\u001b[0m\u001b[0m\n",
      "\u001b[0;32m~/anaconda3/lib/python3.7/site-packages/numpy/lib/function_base.py\u001b[0m in \u001b[0;36mmedian\u001b[0;34m(a, axis, out, overwrite_input, keepdims)\u001b[0m\n\u001b[1;32m   3334\u001b[0m     \"\"\"\n\u001b[1;32m   3335\u001b[0m     r, k = _ureduce(a, func=_median, axis=axis, out=out,\n\u001b[0;32m-> 3336\u001b[0;31m                     overwrite_input=overwrite_input)\n\u001b[0m\u001b[1;32m   3337\u001b[0m     \u001b[0;32mif\u001b[0m \u001b[0mkeepdims\u001b[0m\u001b[0;34m:\u001b[0m\u001b[0;34m\u001b[0m\u001b[0;34m\u001b[0m\u001b[0m\n\u001b[1;32m   3338\u001b[0m         \u001b[0;32mreturn\u001b[0m \u001b[0mr\u001b[0m\u001b[0;34m.\u001b[0m\u001b[0mreshape\u001b[0m\u001b[0;34m(\u001b[0m\u001b[0mk\u001b[0m\u001b[0;34m)\u001b[0m\u001b[0;34m\u001b[0m\u001b[0;34m\u001b[0m\u001b[0m\n",
      "\u001b[0;32m~/anaconda3/lib/python3.7/site-packages/numpy/lib/function_base.py\u001b[0m in \u001b[0;36m_ureduce\u001b[0;34m(a, func, **kwargs)\u001b[0m\n\u001b[1;32m   3248\u001b[0m         \u001b[0mkeepdim\u001b[0m \u001b[0;34m=\u001b[0m \u001b[0;34m(\u001b[0m\u001b[0;36m1\u001b[0m\u001b[0;34m,\u001b[0m\u001b[0;34m)\u001b[0m \u001b[0;34m*\u001b[0m \u001b[0ma\u001b[0m\u001b[0;34m.\u001b[0m\u001b[0mndim\u001b[0m\u001b[0;34m\u001b[0m\u001b[0;34m\u001b[0m\u001b[0m\n\u001b[1;32m   3249\u001b[0m \u001b[0;34m\u001b[0m\u001b[0m\n\u001b[0;32m-> 3250\u001b[0;31m     \u001b[0mr\u001b[0m \u001b[0;34m=\u001b[0m \u001b[0mfunc\u001b[0m\u001b[0;34m(\u001b[0m\u001b[0ma\u001b[0m\u001b[0;34m,\u001b[0m \u001b[0;34m**\u001b[0m\u001b[0mkwargs\u001b[0m\u001b[0;34m)\u001b[0m\u001b[0;34m\u001b[0m\u001b[0;34m\u001b[0m\u001b[0m\n\u001b[0m\u001b[1;32m   3251\u001b[0m     \u001b[0;32mreturn\u001b[0m \u001b[0mr\u001b[0m\u001b[0;34m,\u001b[0m \u001b[0mkeepdim\u001b[0m\u001b[0;34m\u001b[0m\u001b[0;34m\u001b[0m\u001b[0m\n\u001b[1;32m   3252\u001b[0m \u001b[0;34m\u001b[0m\u001b[0m\n",
      "\u001b[0;32m~/anaconda3/lib/python3.7/site-packages/numpy/lib/function_base.py\u001b[0m in \u001b[0;36m_median\u001b[0;34m(a, axis, out, overwrite_input)\u001b[0m\n\u001b[1;32m   3388\u001b[0m         \u001b[0;31m# warn and return nans like mean would\u001b[0m\u001b[0;34m\u001b[0m\u001b[0;34m\u001b[0m\u001b[0;34m\u001b[0m\u001b[0m\n\u001b[1;32m   3389\u001b[0m         \u001b[0mrout\u001b[0m \u001b[0;34m=\u001b[0m \u001b[0mmean\u001b[0m\u001b[0;34m(\u001b[0m\u001b[0mpart\u001b[0m\u001b[0;34m[\u001b[0m\u001b[0mindexer\u001b[0m\u001b[0;34m]\u001b[0m\u001b[0;34m,\u001b[0m \u001b[0maxis\u001b[0m\u001b[0;34m=\u001b[0m\u001b[0maxis\u001b[0m\u001b[0;34m,\u001b[0m \u001b[0mout\u001b[0m\u001b[0;34m=\u001b[0m\u001b[0mout\u001b[0m\u001b[0;34m)\u001b[0m\u001b[0;34m\u001b[0m\u001b[0;34m\u001b[0m\u001b[0m\n\u001b[0;32m-> 3390\u001b[0;31m         \u001b[0;32mreturn\u001b[0m \u001b[0mnp\u001b[0m\u001b[0;34m.\u001b[0m\u001b[0mlib\u001b[0m\u001b[0;34m.\u001b[0m\u001b[0mutils\u001b[0m\u001b[0;34m.\u001b[0m\u001b[0m_median_nancheck\u001b[0m\u001b[0;34m(\u001b[0m\u001b[0mpart\u001b[0m\u001b[0;34m,\u001b[0m \u001b[0mrout\u001b[0m\u001b[0;34m,\u001b[0m \u001b[0maxis\u001b[0m\u001b[0;34m,\u001b[0m \u001b[0mout\u001b[0m\u001b[0;34m)\u001b[0m\u001b[0;34m\u001b[0m\u001b[0;34m\u001b[0m\u001b[0m\n\u001b[0m\u001b[1;32m   3391\u001b[0m     \u001b[0;32melse\u001b[0m\u001b[0;34m:\u001b[0m\u001b[0;34m\u001b[0m\u001b[0;34m\u001b[0m\u001b[0m\n\u001b[1;32m   3392\u001b[0m         \u001b[0;31m# if there are no nans\u001b[0m\u001b[0;34m\u001b[0m\u001b[0;34m\u001b[0m\u001b[0;34m\u001b[0m\u001b[0m\n",
      "\u001b[0;32m~/anaconda3/lib/python3.7/site-packages/numpy/lib/utils.py\u001b[0m in \u001b[0;36m_median_nancheck\u001b[0;34m(data, result, axis, out)\u001b[0m\n\u001b[1;32m   1140\u001b[0m         \u001b[0;32mreturn\u001b[0m \u001b[0mresult\u001b[0m\u001b[0;34m\u001b[0m\u001b[0;34m\u001b[0m\u001b[0m\n\u001b[1;32m   1141\u001b[0m     \u001b[0mdata\u001b[0m \u001b[0;34m=\u001b[0m \u001b[0mnp\u001b[0m\u001b[0;34m.\u001b[0m\u001b[0mmoveaxis\u001b[0m\u001b[0;34m(\u001b[0m\u001b[0mdata\u001b[0m\u001b[0;34m,\u001b[0m \u001b[0maxis\u001b[0m\u001b[0;34m,\u001b[0m \u001b[0;34m-\u001b[0m\u001b[0;36m1\u001b[0m\u001b[0;34m)\u001b[0m\u001b[0;34m\u001b[0m\u001b[0;34m\u001b[0m\u001b[0m\n\u001b[0;32m-> 1142\u001b[0;31m     \u001b[0mn\u001b[0m \u001b[0;34m=\u001b[0m \u001b[0mnp\u001b[0m\u001b[0;34m.\u001b[0m\u001b[0misnan\u001b[0m\u001b[0;34m(\u001b[0m\u001b[0mdata\u001b[0m\u001b[0;34m[\u001b[0m\u001b[0;34m...\u001b[0m\u001b[0;34m,\u001b[0m \u001b[0;34m-\u001b[0m\u001b[0;36m1\u001b[0m\u001b[0;34m]\u001b[0m\u001b[0;34m)\u001b[0m\u001b[0;34m\u001b[0m\u001b[0;34m\u001b[0m\u001b[0m\n\u001b[0m\u001b[1;32m   1143\u001b[0m     \u001b[0;31m# masked NaN values are ok\u001b[0m\u001b[0;34m\u001b[0m\u001b[0;34m\u001b[0m\u001b[0;34m\u001b[0m\u001b[0m\n\u001b[1;32m   1144\u001b[0m     \u001b[0;32mif\u001b[0m \u001b[0mnp\u001b[0m\u001b[0;34m.\u001b[0m\u001b[0mma\u001b[0m\u001b[0;34m.\u001b[0m\u001b[0misMaskedArray\u001b[0m\u001b[0;34m(\u001b[0m\u001b[0mn\u001b[0m\u001b[0;34m)\u001b[0m\u001b[0;34m:\u001b[0m\u001b[0;34m\u001b[0m\u001b[0;34m\u001b[0m\u001b[0m\n",
      "\u001b[0;31mKeyboardInterrupt\u001b[0m: "
     ]
    }
   ],
   "source": [
    "# compare to real ages\n",
    "import scipy\n",
    "df_prot_s['Rvar_log']=np.log10(df_prot_s['Rvar'])\n",
    "\n",
    "protbins=np.linspace(1.,5.,5)\n",
    "loggbins=np.linspace(0.1,5,5)\n",
    "tempbins=np.linspace(100.,500.,4)\n",
    "absg=[0.01]\n",
    "\n",
    "chisq=[]\n",
    "MAD=[]\n",
    "tempbins_a=[]\n",
    "protbins_a=[]\n",
    "loggbins_a=[]\n",
    "absg_a=[]\n",
    "total=len(tempbins)*len(protbins)*len(loggbins)*len(absg)\n",
    "count=1\n",
    "for i in tempbins:\n",
    "    for j in protbins:\n",
    "        for k in loggbins:\n",
    "            for l in absg:\n",
    "                print(float(count)/float(total))\n",
    "                count=count+1\n",
    "                getkinAges(df_prot_s,['teff_calc','Prot_log','Rvar_log','abs_G'],[i,j,k,l])\n",
    "                stat_df=df_prot_s.dropna(subset=['kin_age_Sharma2020','iso_age','iso_age_err1'])\n",
    "                if len(stat_df)<1000:\n",
    "                    continue\n",
    "                stat_df=stat_df.loc[stat_df['iso_age']<10]\n",
    "                stat_df=stat_df.loc[stat_df['iso_age_err1']<3]\n",
    "                chisq_sing=sum(np.power(stat_df['kin_age_Sharma2020']-stat_df['iso_age'],2.)/stat_df['iso_age_err'])\n",
    "                chisq.append(chisq_sing/len(stat_df))\n",
    "                MAD.append(np.median(stat_df['kin_age_Sharma2020']-stat_df['iso_age']/\n",
    "                                 np.sqrt(np.power(stat_df['kin_age_Sharma2020'],2)+np.power(stat_df['iso_age'],2))))\n",
    "                tempbins_a.append(i)\n",
    "                protbins_a.append(j)\n",
    "                loggbins_a.append(k)\n",
    "                absg_a.append(l)\n",
    "            #slope=df_prot_s\n",
    "#getAveAges(df_prot_s,['teff_calc','Prot_log','logg_y'],[550.,0.03,0.2])\n",
    "#getAveAges(df_prot_p,['teff_calc','Prot_log','logg_y'],[550.,0.07,0.2])"
   ]
  },
  {
   "cell_type": "code",
   "execution_count": null,
   "metadata": {},
   "outputs": [],
   "source": [
    "#### chisq\n",
    "plt.figure(figsize=(10,8))\n",
    "plt.plot(tempbins_a,chisq,'r.')\n",
    "plt.xlabel('Temperature bin')\n",
    "plt.ylabel('$\\chi^2$')\n",
    "\n",
    "chisq_s,rotbin_a_s,tempbin_a_s,logg_a_s,absg_s=zip(*sorted(zip(chisq,protbins_a,tempbins_a,loggbins_a,absg_a)))\n",
    "\n",
    "print('absg:',absg_a[0],'Prot:',logg_a_s[0],'prot:',rotbin_a_s[0],'temp:',tempbin_a_s[0],chisq_s[0])\n",
    "print([tempbin_a_s[0],rotbin_a_s[0],logg_a_s[0],absg_a[0]])\n",
    "\n",
    "getkinAges(df_prot_s,['teff_calc','Prot_log','Rvar_log','abs_G'],\n",
    "           [tempbin_a_s[0],rotbin_a_s[0],logg_a_s[0],absg_a[0]])\n",
    "#getkinAges(df_prot_s,['teff_calc','Prot_log','abs_G'],[200.,0.4,0.5])\n",
    "\n",
    "df_prot_s_plot=df_prot_s.loc[df_prot_s['iso_age']<10]\n",
    "df_prot_s_plot=df_prot_s_plot.loc[df_prot_s_plot['iso_age_err1']<3]\n",
    "\n",
    "\n",
    "plt.figure(figsize=(20,8))\n",
    "plt.subplot(1,2,1)\n",
    "\"\"\"\n",
    "plt.errorbar(df_prot_s_plot['kin_age'], df_prot_s_plot['iso_age'],\n",
    "             yerr=df_prot_s_plot['iso_age_err1'],fmt='ro',alpha=0.1,markersize=1)\n",
    "\"\"\"\n",
    "plt.errorbar(df_prot_s_plot['kin_age_Sharma2020'], df_prot_s_plot['iso_age'],\n",
    "             yerr=df_prot_s_plot['iso_age_err1'],fmt='ro',alpha=0.1,markersize=1)\n",
    "plt.plot(df_prot_s_plot['kin_age_Sharma2020'], df_prot_s_plot['iso_age'],'ko',alpha=1,markersize=1)\n",
    "minage=min(min(df_prot_s_plot['iso_age']),min(df_prot_s_plot['kin_age_Sharma2020']))\n",
    "maxage=max(max(df_prot_s_plot['iso_age']),max(df_prot_s_plot['kin_age_Sharma2020']))\n",
    "\n",
    "#z=np.polyfit(df_prot_s['kin_age'],df_prot_s['iso_age'],1,w=1/np.power(df_prot_s['iso_age_err1'],2.))\n",
    "\n",
    "#plt.plot([0.8*minage,1.2*maxage],np.polyval(z,[0.8*minage,maxage]),'b--')\n",
    "plt.plot([0.8*minage,1.2*maxage],[0.8*minage,1.2*maxage],'k--')\n",
    "plt.xlim([0.8*minage,1.2*maxage])\n",
    "plt.ylim([0.8*minage,1.2*maxage])\n",
    "plt.xlabel('Kin. Ages')\n",
    "plt.ylabel('iso. Ages')\n",
    "plt.subplot(1,2,2)\n",
    "plt.plot(df_prot_s_plot['kin_age_Sharma2020'], df_prot_s_plot['iso_age'],'ro',alpha=0.1,markersize=1)\n",
    "\n",
    "#plt.plot([0.8*minage,1.2*maxage],np.polyval(z,[0.8*minage,maxage]),'b--')\n",
    "plt.plot([0.8*minage,1.2*maxage],[0.8*minage,1.2*maxage],'k--')\n",
    "plt.xlim([0.8*minage,1.2*maxage])\n",
    "plt.ylim([0.8*minage,1.2*maxage])\n",
    "plt.xlabel('Kin. Ages')\n",
    "plt.ylabel('iso. Ages')\n",
    "\n",
    "\n",
    "#df_prot_s.to_pickle('minchisq.pkl')\n"
   ]
  },
  {
   "cell_type": "code",
   "execution_count": 18,
   "metadata": {
    "scrolled": true
   },
   "outputs": [
    {
     "name": "stderr",
     "output_type": "stream",
     "text": [
      "  1%|▏         | 335/23158 [00:00<00:06, 3347.43it/s]"
     ]
    },
    {
     "name": "stdout",
     "output_type": "stream",
     "text": [
      "0.01\n"
     ]
    },
    {
     "name": "stderr",
     "output_type": "stream",
     "text": [
      "100%|██████████| 23158/23158 [00:07<00:00, 3016.77it/s]\n",
      "  3%|▎         | 747/23158 [00:00<00:06, 3654.08it/s]"
     ]
    },
    {
     "name": "stdout",
     "output_type": "stream",
     "text": [
      "0.02\n"
     ]
    },
    {
     "name": "stderr",
     "output_type": "stream",
     "text": [
      "100%|██████████| 23158/23158 [00:06<00:00, 3392.09it/s]\n",
      "  1%|          | 288/23158 [00:00<00:07, 2861.32it/s]"
     ]
    },
    {
     "name": "stdout",
     "output_type": "stream",
     "text": [
      "0.03\n"
     ]
    },
    {
     "name": "stderr",
     "output_type": "stream",
     "text": [
      "100%|██████████| 23158/23158 [00:09<00:00, 2488.49it/s]\n",
      "  2%|▏         | 477/23158 [00:00<00:09, 2379.29it/s]"
     ]
    },
    {
     "name": "stdout",
     "output_type": "stream",
     "text": [
      "0.04\n"
     ]
    },
    {
     "name": "stderr",
     "output_type": "stream",
     "text": [
      "100%|██████████| 23158/23158 [00:06<00:00, 3560.98it/s]\n",
      "  2%|▏         | 353/23158 [00:00<00:06, 3526.26it/s]"
     ]
    },
    {
     "name": "stdout",
     "output_type": "stream",
     "text": [
      "0.05\n"
     ]
    },
    {
     "name": "stderr",
     "output_type": "stream",
     "text": [
      "100%|██████████| 23158/23158 [00:05<00:00, 3866.14it/s]\n",
      "  2%|▏         | 405/23158 [00:00<00:05, 4045.63it/s]"
     ]
    },
    {
     "name": "stdout",
     "output_type": "stream",
     "text": [
      "0.06\n"
     ]
    },
    {
     "name": "stderr",
     "output_type": "stream",
     "text": [
      "100%|██████████| 23158/23158 [00:05<00:00, 4008.21it/s]\n",
      "  3%|▎         | 804/23158 [00:00<00:05, 4026.62it/s]"
     ]
    },
    {
     "name": "stdout",
     "output_type": "stream",
     "text": [
      "0.07\n"
     ]
    },
    {
     "name": "stderr",
     "output_type": "stream",
     "text": [
      "100%|██████████| 23158/23158 [00:05<00:00, 3978.98it/s]\n",
      "  2%|▏         | 396/23158 [00:00<00:05, 3956.53it/s]"
     ]
    },
    {
     "name": "stdout",
     "output_type": "stream",
     "text": [
      "0.08\n"
     ]
    },
    {
     "name": "stderr",
     "output_type": "stream",
     "text": [
      "100%|██████████| 23158/23158 [00:05<00:00, 3936.97it/s]\n",
      "  2%|▏         | 400/23158 [00:00<00:05, 3999.16it/s]"
     ]
    },
    {
     "name": "stdout",
     "output_type": "stream",
     "text": [
      "0.09\n"
     ]
    },
    {
     "name": "stderr",
     "output_type": "stream",
     "text": [
      "100%|██████████| 23158/23158 [00:05<00:00, 3929.60it/s]\n",
      "  3%|▎         | 791/23158 [00:00<00:05, 3956.45it/s]"
     ]
    },
    {
     "name": "stdout",
     "output_type": "stream",
     "text": [
      "0.1\n"
     ]
    },
    {
     "name": "stderr",
     "output_type": "stream",
     "text": [
      "100%|██████████| 23158/23158 [00:05<00:00, 3917.33it/s]\n",
      "  2%|▏         | 403/23158 [00:00<00:05, 4021.59it/s]"
     ]
    },
    {
     "name": "stdout",
     "output_type": "stream",
     "text": [
      "0.11\n"
     ]
    },
    {
     "name": "stderr",
     "output_type": "stream",
     "text": [
      "100%|██████████| 23158/23158 [00:05<00:00, 4009.97it/s]\n",
      "  3%|▎         | 797/23158 [00:00<00:05, 3986.23it/s]"
     ]
    },
    {
     "name": "stdout",
     "output_type": "stream",
     "text": [
      "0.12\n"
     ]
    },
    {
     "name": "stderr",
     "output_type": "stream",
     "text": [
      "100%|██████████| 23158/23158 [00:05<00:00, 3893.33it/s]\n",
      "  2%|▏         | 390/23158 [00:00<00:05, 3894.12it/s]"
     ]
    },
    {
     "name": "stdout",
     "output_type": "stream",
     "text": [
      "0.13\n"
     ]
    },
    {
     "name": "stderr",
     "output_type": "stream",
     "text": [
      "100%|██████████| 23158/23158 [00:05<00:00, 3946.52it/s]\n",
      "  2%|▏         | 393/23158 [00:00<00:05, 3922.70it/s]"
     ]
    },
    {
     "name": "stdout",
     "output_type": "stream",
     "text": [
      "0.14\n"
     ]
    },
    {
     "name": "stderr",
     "output_type": "stream",
     "text": [
      "100%|██████████| 23158/23158 [00:06<00:00, 3672.66it/s]\n",
      "  2%|▏         | 383/23158 [00:00<00:05, 3824.15it/s]"
     ]
    },
    {
     "name": "stdout",
     "output_type": "stream",
     "text": [
      "0.15\n"
     ]
    },
    {
     "name": "stderr",
     "output_type": "stream",
     "text": [
      "100%|██████████| 23158/23158 [00:06<00:00, 3834.87it/s]\n",
      "  3%|▎         | 777/23158 [00:00<00:05, 3840.79it/s]"
     ]
    },
    {
     "name": "stdout",
     "output_type": "stream",
     "text": [
      "0.16\n"
     ]
    },
    {
     "name": "stderr",
     "output_type": "stream",
     "text": [
      "100%|██████████| 23158/23158 [00:05<00:00, 3974.07it/s]\n",
      "  2%|▏         | 396/23158 [00:00<00:05, 3951.22it/s]"
     ]
    },
    {
     "name": "stdout",
     "output_type": "stream",
     "text": [
      "0.17\n"
     ]
    },
    {
     "name": "stderr",
     "output_type": "stream",
     "text": [
      "100%|██████████| 23158/23158 [00:05<00:00, 3932.26it/s]\n",
      "  3%|▎         | 774/23158 [00:00<00:05, 3906.54it/s]"
     ]
    },
    {
     "name": "stdout",
     "output_type": "stream",
     "text": [
      "0.18\n"
     ]
    },
    {
     "name": "stderr",
     "output_type": "stream",
     "text": [
      "100%|██████████| 23158/23158 [00:06<00:00, 3857.08it/s]\n",
      "  2%|▏         | 391/23158 [00:00<00:05, 3904.93it/s]"
     ]
    },
    {
     "name": "stdout",
     "output_type": "stream",
     "text": [
      "0.19\n"
     ]
    },
    {
     "name": "stderr",
     "output_type": "stream",
     "text": [
      "100%|██████████| 23158/23158 [00:05<00:00, 3887.70it/s]\n",
      "  2%|▏         | 394/23158 [00:00<00:05, 3935.93it/s]"
     ]
    },
    {
     "name": "stdout",
     "output_type": "stream",
     "text": [
      "0.2\n"
     ]
    },
    {
     "name": "stderr",
     "output_type": "stream",
     "text": [
      "100%|██████████| 23158/23158 [00:05<00:00, 3874.34it/s]\n",
      "  2%|▏         | 401/23158 [00:00<00:05, 4001.52it/s]"
     ]
    },
    {
     "name": "stdout",
     "output_type": "stream",
     "text": [
      "0.21\n"
     ]
    },
    {
     "name": "stderr",
     "output_type": "stream",
     "text": [
      "100%|██████████| 23158/23158 [00:05<00:00, 3936.43it/s]\n",
      "  2%|▏         | 390/23158 [00:00<00:05, 3895.87it/s]"
     ]
    },
    {
     "name": "stdout",
     "output_type": "stream",
     "text": [
      "0.22\n"
     ]
    },
    {
     "name": "stderr",
     "output_type": "stream",
     "text": [
      "100%|██████████| 23158/23158 [00:05<00:00, 3898.67it/s]\n",
      "  2%|▏         | 392/23158 [00:00<00:05, 3914.79it/s]"
     ]
    },
    {
     "name": "stdout",
     "output_type": "stream",
     "text": [
      "0.23\n"
     ]
    },
    {
     "name": "stderr",
     "output_type": "stream",
     "text": [
      "100%|██████████| 23158/23158 [00:05<00:00, 3869.60it/s]\n",
      "  2%|▏         | 370/23158 [00:00<00:06, 3695.89it/s]"
     ]
    },
    {
     "name": "stdout",
     "output_type": "stream",
     "text": [
      "0.24\n"
     ]
    },
    {
     "name": "stderr",
     "output_type": "stream",
     "text": [
      "100%|██████████| 23158/23158 [00:06<00:00, 3778.56it/s]\n",
      "  3%|▎         | 782/23158 [00:00<00:05, 3904.11it/s]"
     ]
    },
    {
     "name": "stdout",
     "output_type": "stream",
     "text": [
      "0.25\n"
     ]
    },
    {
     "name": "stderr",
     "output_type": "stream",
     "text": [
      "100%|██████████| 23158/23158 [00:06<00:00, 3810.16it/s]\n",
      "  2%|▏         | 391/23158 [00:00<00:05, 3904.66it/s]"
     ]
    },
    {
     "name": "stdout",
     "output_type": "stream",
     "text": [
      "0.26\n"
     ]
    },
    {
     "name": "stderr",
     "output_type": "stream",
     "text": [
      "100%|██████████| 23158/23158 [00:05<00:00, 3959.88it/s]\n",
      "  2%|▏         | 394/23158 [00:00<00:05, 3932.02it/s]"
     ]
    },
    {
     "name": "stdout",
     "output_type": "stream",
     "text": [
      "0.27\n"
     ]
    },
    {
     "name": "stderr",
     "output_type": "stream",
     "text": [
      "100%|██████████| 23158/23158 [00:06<00:00, 3852.17it/s]\n",
      "  2%|▏         | 389/23158 [00:00<00:05, 3881.00it/s]"
     ]
    },
    {
     "name": "stdout",
     "output_type": "stream",
     "text": [
      "0.28\n"
     ]
    },
    {
     "name": "stderr",
     "output_type": "stream",
     "text": [
      "100%|██████████| 23158/23158 [00:05<00:00, 3876.11it/s]\n",
      "  2%|▏         | 389/23158 [00:00<00:05, 3884.30it/s]"
     ]
    },
    {
     "name": "stdout",
     "output_type": "stream",
     "text": [
      "0.29\n"
     ]
    },
    {
     "name": "stderr",
     "output_type": "stream",
     "text": [
      "100%|██████████| 23158/23158 [00:06<00:00, 3850.78it/s]\n",
      "  2%|▏         | 383/23158 [00:00<00:05, 3823.09it/s]"
     ]
    },
    {
     "name": "stdout",
     "output_type": "stream",
     "text": [
      "0.3\n"
     ]
    },
    {
     "name": "stderr",
     "output_type": "stream",
     "text": [
      "100%|██████████| 23158/23158 [00:06<00:00, 3808.59it/s]\n",
      "  2%|▏         | 387/23158 [00:00<00:05, 3864.62it/s]"
     ]
    },
    {
     "name": "stdout",
     "output_type": "stream",
     "text": [
      "0.31\n"
     ]
    },
    {
     "name": "stderr",
     "output_type": "stream",
     "text": [
      "100%|██████████| 23158/23158 [00:05<00:00, 3930.78it/s]\n",
      "  2%|▏         | 391/23158 [00:00<00:05, 3906.35it/s]"
     ]
    },
    {
     "name": "stdout",
     "output_type": "stream",
     "text": [
      "0.32\n"
     ]
    },
    {
     "name": "stderr",
     "output_type": "stream",
     "text": [
      "100%|██████████| 23158/23158 [00:05<00:00, 3892.43it/s]\n",
      "  2%|▏         | 387/23158 [00:00<00:05, 3864.59it/s]"
     ]
    },
    {
     "name": "stdout",
     "output_type": "stream",
     "text": [
      "0.33\n"
     ]
    },
    {
     "name": "stderr",
     "output_type": "stream",
     "text": [
      "100%|██████████| 23158/23158 [00:05<00:00, 3876.66it/s]\n",
      "  2%|▏         | 385/23158 [00:00<00:05, 3847.69it/s]"
     ]
    },
    {
     "name": "stdout",
     "output_type": "stream",
     "text": [
      "0.34\n"
     ]
    },
    {
     "name": "stderr",
     "output_type": "stream",
     "text": [
      "100%|██████████| 23158/23158 [00:06<00:00, 3829.13it/s]\n",
      "  3%|▎         | 748/23158 [00:00<00:06, 3707.16it/s]"
     ]
    },
    {
     "name": "stdout",
     "output_type": "stream",
     "text": [
      "0.35\n"
     ]
    },
    {
     "name": "stderr",
     "output_type": "stream",
     "text": [
      "100%|██████████| 23158/23158 [00:06<00:00, 3799.48it/s]\n",
      "  2%|▏         | 400/23158 [00:00<00:05, 3997.56it/s]"
     ]
    },
    {
     "name": "stdout",
     "output_type": "stream",
     "text": [
      "0.36\n"
     ]
    },
    {
     "name": "stderr",
     "output_type": "stream",
     "text": [
      "100%|██████████| 23158/23158 [00:05<00:00, 3960.31it/s]\n",
      "  2%|▏         | 390/23158 [00:00<00:05, 3897.08it/s]"
     ]
    },
    {
     "name": "stdout",
     "output_type": "stream",
     "text": [
      "0.37\n"
     ]
    },
    {
     "name": "stderr",
     "output_type": "stream",
     "text": [
      "100%|██████████| 23158/23158 [00:05<00:00, 3932.62it/s]\n",
      "  2%|▏         | 387/23158 [00:00<00:05, 3852.82it/s]"
     ]
    },
    {
     "name": "stdout",
     "output_type": "stream",
     "text": [
      "0.38\n"
     ]
    },
    {
     "name": "stderr",
     "output_type": "stream",
     "text": [
      "100%|██████████| 23158/23158 [00:05<00:00, 3878.43it/s]\n",
      "  2%|▏         | 386/23158 [00:00<00:05, 3851.37it/s]"
     ]
    },
    {
     "name": "stdout",
     "output_type": "stream",
     "text": [
      "0.39\n"
     ]
    },
    {
     "name": "stderr",
     "output_type": "stream",
     "text": [
      "100%|██████████| 23158/23158 [00:06<00:00, 3850.83it/s]\n",
      "  2%|▏         | 379/23158 [00:00<00:06, 3781.60it/s]"
     ]
    },
    {
     "name": "stdout",
     "output_type": "stream",
     "text": [
      "0.4\n"
     ]
    },
    {
     "name": "stderr",
     "output_type": "stream",
     "text": [
      "100%|██████████| 23158/23158 [00:06<00:00, 3810.15it/s]\n",
      "  2%|▏         | 382/23158 [00:00<00:05, 3815.58it/s]"
     ]
    },
    {
     "name": "stdout",
     "output_type": "stream",
     "text": [
      "0.41\n"
     ]
    },
    {
     "name": "stderr",
     "output_type": "stream",
     "text": [
      "100%|██████████| 23158/23158 [00:05<00:00, 3940.86it/s]\n",
      "  3%|▎         | 786/23158 [00:00<00:05, 3934.44it/s]"
     ]
    },
    {
     "name": "stdout",
     "output_type": "stream",
     "text": [
      "0.42\n"
     ]
    },
    {
     "name": "stderr",
     "output_type": "stream",
     "text": [
      "100%|██████████| 23158/23158 [00:05<00:00, 3891.06it/s]\n",
      "  2%|▏         | 389/23158 [00:00<00:05, 3884.06it/s]"
     ]
    },
    {
     "name": "stdout",
     "output_type": "stream",
     "text": [
      "0.43\n"
     ]
    },
    {
     "name": "stderr",
     "output_type": "stream",
     "text": [
      "100%|██████████| 23158/23158 [00:06<00:00, 3853.96it/s]\n",
      "  2%|▏         | 388/23158 [00:00<00:05, 3878.33it/s]"
     ]
    },
    {
     "name": "stdout",
     "output_type": "stream",
     "text": [
      "0.44\n"
     ]
    },
    {
     "name": "stderr",
     "output_type": "stream",
     "text": [
      "100%|██████████| 23158/23158 [00:06<00:00, 3744.35it/s]\n",
      "  2%|▏         | 382/23158 [00:00<00:05, 3812.76it/s]"
     ]
    },
    {
     "name": "stdout",
     "output_type": "stream",
     "text": [
      "0.45\n"
     ]
    },
    {
     "name": "stderr",
     "output_type": "stream",
     "text": [
      "100%|██████████| 23158/23158 [00:06<00:00, 3800.33it/s]\n",
      "  2%|▏         | 404/23158 [00:00<00:05, 4035.16it/s]"
     ]
    },
    {
     "name": "stdout",
     "output_type": "stream",
     "text": [
      "0.46\n"
     ]
    },
    {
     "name": "stderr",
     "output_type": "stream",
     "text": [
      "100%|██████████| 23158/23158 [00:07<00:00, 3056.76it/s]\n",
      "  2%|▏         | 373/23158 [00:00<00:06, 3725.38it/s]"
     ]
    },
    {
     "name": "stdout",
     "output_type": "stream",
     "text": [
      "0.47\n"
     ]
    },
    {
     "name": "stderr",
     "output_type": "stream",
     "text": [
      "100%|██████████| 23158/23158 [00:05<00:00, 3882.46it/s]\n",
      "  3%|▎         | 772/23158 [00:00<00:05, 3847.95it/s]"
     ]
    },
    {
     "name": "stdout",
     "output_type": "stream",
     "text": [
      "0.48\n"
     ]
    },
    {
     "name": "stderr",
     "output_type": "stream",
     "text": [
      "100%|██████████| 23158/23158 [00:05<00:00, 3877.38it/s]\n",
      "  2%|▏         | 381/23158 [00:00<00:05, 3809.39it/s]"
     ]
    },
    {
     "name": "stdout",
     "output_type": "stream",
     "text": [
      "0.49\n"
     ]
    },
    {
     "name": "stderr",
     "output_type": "stream",
     "text": [
      "100%|██████████| 23158/23158 [00:06<00:00, 3859.42it/s]\n",
      "  3%|▎         | 749/23158 [00:00<00:05, 3736.15it/s]"
     ]
    },
    {
     "name": "stdout",
     "output_type": "stream",
     "text": [
      "0.5\n"
     ]
    },
    {
     "name": "stderr",
     "output_type": "stream",
     "text": [
      "100%|██████████| 23158/23158 [00:06<00:00, 3388.44it/s]\n",
      "  3%|▎         | 777/23158 [00:00<00:05, 3885.03it/s]"
     ]
    },
    {
     "name": "stdout",
     "output_type": "stream",
     "text": [
      "0.51\n"
     ]
    },
    {
     "name": "stderr",
     "output_type": "stream",
     "text": [
      "100%|██████████| 23158/23158 [00:06<00:00, 3839.74it/s]\n",
      "  3%|▎         | 758/23158 [00:00<00:05, 3799.43it/s]"
     ]
    },
    {
     "name": "stdout",
     "output_type": "stream",
     "text": [
      "0.52\n"
     ]
    },
    {
     "name": "stderr",
     "output_type": "stream",
     "text": [
      "100%|██████████| 23158/23158 [00:06<00:00, 3546.49it/s]\n",
      "  0%|          | 112/23158 [00:00<00:20, 1118.70it/s]"
     ]
    },
    {
     "name": "stdout",
     "output_type": "stream",
     "text": [
      "0.53\n"
     ]
    },
    {
     "name": "stderr",
     "output_type": "stream",
     "text": [
      "100%|██████████| 23158/23158 [00:10<00:00, 2237.48it/s]\n",
      "  3%|▎         | 699/23158 [00:00<00:06, 3481.67it/s]"
     ]
    },
    {
     "name": "stdout",
     "output_type": "stream",
     "text": [
      "0.54\n"
     ]
    },
    {
     "name": "stderr",
     "output_type": "stream",
     "text": [
      "100%|██████████| 23158/23158 [00:06<00:00, 3657.43it/s]\n",
      "  1%|▏         | 342/23158 [00:00<00:06, 3419.66it/s]"
     ]
    },
    {
     "name": "stdout",
     "output_type": "stream",
     "text": [
      "0.55\n"
     ]
    },
    {
     "name": "stderr",
     "output_type": "stream",
     "text": [
      "100%|██████████| 23158/23158 [00:06<00:00, 3484.60it/s]\n",
      "  2%|▏         | 352/23158 [00:00<00:06, 3513.68it/s]"
     ]
    },
    {
     "name": "stdout",
     "output_type": "stream",
     "text": [
      "0.56\n"
     ]
    },
    {
     "name": "stderr",
     "output_type": "stream",
     "text": [
      "100%|██████████| 23158/23158 [00:06<00:00, 3813.26it/s]\n",
      "  2%|▏         | 365/23158 [00:00<00:06, 3648.98it/s]"
     ]
    },
    {
     "name": "stdout",
     "output_type": "stream",
     "text": [
      "0.57\n"
     ]
    },
    {
     "name": "stderr",
     "output_type": "stream",
     "text": [
      "100%|██████████| 23158/23158 [00:06<00:00, 3745.90it/s]\n",
      "  3%|▎         | 726/23158 [00:00<00:06, 3576.42it/s]"
     ]
    },
    {
     "name": "stdout",
     "output_type": "stream",
     "text": [
      "0.58\n"
     ]
    },
    {
     "name": "stderr",
     "output_type": "stream",
     "text": [
      "100%|██████████| 23158/23158 [00:06<00:00, 3736.03it/s]\n",
      "  3%|▎         | 684/23158 [00:00<00:06, 3448.00it/s]"
     ]
    },
    {
     "name": "stdout",
     "output_type": "stream",
     "text": [
      "0.59\n"
     ]
    },
    {
     "name": "stderr",
     "output_type": "stream",
     "text": [
      "100%|██████████| 23158/23158 [00:06<00:00, 3486.88it/s]\n",
      "  2%|▏         | 362/23158 [00:00<00:06, 3619.28it/s]"
     ]
    },
    {
     "name": "stdout",
     "output_type": "stream",
     "text": [
      "0.6\n"
     ]
    },
    {
     "name": "stderr",
     "output_type": "stream",
     "text": [
      "100%|██████████| 23158/23158 [00:06<00:00, 3659.08it/s]\n",
      "  3%|▎         | 762/23158 [00:00<00:05, 3793.94it/s]"
     ]
    },
    {
     "name": "stdout",
     "output_type": "stream",
     "text": [
      "0.61\n"
     ]
    },
    {
     "name": "stderr",
     "output_type": "stream",
     "text": [
      "100%|██████████| 23158/23158 [00:05<00:00, 3884.72it/s]\n",
      "  2%|▏         | 360/23158 [00:00<00:06, 3598.48it/s]"
     ]
    },
    {
     "name": "stdout",
     "output_type": "stream",
     "text": [
      "0.62\n"
     ]
    },
    {
     "name": "stderr",
     "output_type": "stream",
     "text": [
      "100%|██████████| 23158/23158 [00:06<00:00, 3762.98it/s]\n",
      "  3%|▎         | 757/23158 [00:00<00:05, 3792.33it/s]"
     ]
    },
    {
     "name": "stdout",
     "output_type": "stream",
     "text": [
      "0.63\n"
     ]
    },
    {
     "name": "stderr",
     "output_type": "stream",
     "text": [
      "100%|██████████| 23158/23158 [00:06<00:00, 3405.42it/s]\n",
      "  2%|▏         | 356/23158 [00:00<00:06, 3553.01it/s]"
     ]
    },
    {
     "name": "stdout",
     "output_type": "stream",
     "text": [
      "0.64\n"
     ]
    },
    {
     "name": "stderr",
     "output_type": "stream",
     "text": [
      "100%|██████████| 23158/23158 [00:06<00:00, 3786.49it/s]\n",
      "  2%|▏         | 367/23158 [00:00<00:06, 3662.53it/s]"
     ]
    },
    {
     "name": "stdout",
     "output_type": "stream",
     "text": [
      "0.65\n"
     ]
    },
    {
     "name": "stderr",
     "output_type": "stream",
     "text": [
      "100%|██████████| 23158/23158 [00:06<00:00, 3741.81it/s]\n",
      "  3%|▎         | 784/23158 [00:00<00:05, 3919.23it/s]"
     ]
    },
    {
     "name": "stdout",
     "output_type": "stream",
     "text": [
      "0.66\n"
     ]
    },
    {
     "name": "stderr",
     "output_type": "stream",
     "text": [
      "100%|██████████| 23158/23158 [00:05<00:00, 3931.31it/s]\n",
      "  2%|▏         | 390/23158 [00:00<00:05, 3898.16it/s]"
     ]
    },
    {
     "name": "stdout",
     "output_type": "stream",
     "text": [
      "0.67\n"
     ]
    },
    {
     "name": "stderr",
     "output_type": "stream",
     "text": [
      "100%|██████████| 23158/23158 [00:05<00:00, 3905.47it/s]\n",
      "  2%|▏         | 372/23158 [00:00<00:06, 3718.73it/s]"
     ]
    },
    {
     "name": "stdout",
     "output_type": "stream",
     "text": [
      "0.68\n"
     ]
    },
    {
     "name": "stderr",
     "output_type": "stream",
     "text": [
      "100%|██████████| 23158/23158 [00:06<00:00, 3824.35it/s]\n",
      "  3%|▎         | 753/23158 [00:00<00:05, 3757.62it/s]"
     ]
    },
    {
     "name": "stdout",
     "output_type": "stream",
     "text": [
      "0.69\n"
     ]
    },
    {
     "name": "stderr",
     "output_type": "stream",
     "text": [
      "100%|██████████| 23158/23158 [00:06<00:00, 3786.21it/s]\n",
      "  2%|▏         | 363/23158 [00:00<00:06, 3620.59it/s]"
     ]
    },
    {
     "name": "stdout",
     "output_type": "stream",
     "text": [
      "0.7\n"
     ]
    },
    {
     "name": "stderr",
     "output_type": "stream",
     "text": [
      "100%|██████████| 23158/23158 [00:06<00:00, 3717.27it/s]\n",
      "  3%|▎         | 778/23158 [00:00<00:05, 3870.55it/s]"
     ]
    },
    {
     "name": "stdout",
     "output_type": "stream",
     "text": [
      "0.71\n"
     ]
    },
    {
     "name": "stderr",
     "output_type": "stream",
     "text": [
      "100%|██████████| 23158/23158 [00:06<00:00, 3630.96it/s]\n",
      "  1%|          | 283/23158 [00:00<00:08, 2827.57it/s]"
     ]
    },
    {
     "name": "stdout",
     "output_type": "stream",
     "text": [
      "0.72\n"
     ]
    },
    {
     "name": "stderr",
     "output_type": "stream",
     "text": [
      "100%|██████████| 23158/23158 [00:06<00:00, 3808.01it/s]\n",
      "  2%|▏         | 382/23158 [00:00<00:05, 3818.90it/s]"
     ]
    },
    {
     "name": "stdout",
     "output_type": "stream",
     "text": [
      "0.73\n"
     ]
    },
    {
     "name": "stderr",
     "output_type": "stream",
     "text": [
      "100%|██████████| 23158/23158 [00:06<00:00, 3798.16it/s]\n",
      "  3%|▎         | 751/23158 [00:00<00:05, 3737.11it/s]"
     ]
    },
    {
     "name": "stdout",
     "output_type": "stream",
     "text": [
      "0.74\n"
     ]
    },
    {
     "name": "stderr",
     "output_type": "stream",
     "text": [
      "100%|██████████| 23158/23158 [00:06<00:00, 3777.14it/s]\n",
      "  2%|▏         | 371/23158 [00:00<00:06, 3703.67it/s]"
     ]
    },
    {
     "name": "stdout",
     "output_type": "stream",
     "text": [
      "0.75\n"
     ]
    },
    {
     "name": "stderr",
     "output_type": "stream",
     "text": [
      "100%|██████████| 23158/23158 [00:06<00:00, 3733.36it/s]\n",
      "  3%|▎         | 776/23158 [00:00<00:05, 3881.30it/s]"
     ]
    },
    {
     "name": "stdout",
     "output_type": "stream",
     "text": [
      "0.76\n"
     ]
    },
    {
     "name": "stderr",
     "output_type": "stream",
     "text": [
      "100%|██████████| 23158/23158 [00:05<00:00, 3937.52it/s]\n",
      "  3%|▎         | 769/23158 [00:00<00:05, 3833.43it/s]"
     ]
    },
    {
     "name": "stdout",
     "output_type": "stream",
     "text": [
      "0.77\n"
     ]
    },
    {
     "name": "stderr",
     "output_type": "stream",
     "text": [
      "100%|██████████| 23158/23158 [00:05<00:00, 3874.55it/s]\n",
      "  2%|▏         | 380/23158 [00:00<00:06, 3793.06it/s]"
     ]
    },
    {
     "name": "stdout",
     "output_type": "stream",
     "text": [
      "0.78\n"
     ]
    },
    {
     "name": "stderr",
     "output_type": "stream",
     "text": [
      "100%|██████████| 23158/23158 [00:06<00:00, 3808.32it/s]\n",
      "  2%|▏         | 378/23158 [00:00<00:06, 3771.86it/s]"
     ]
    },
    {
     "name": "stdout",
     "output_type": "stream",
     "text": [
      "0.79\n"
     ]
    },
    {
     "name": "stderr",
     "output_type": "stream",
     "text": [
      "100%|██████████| 23158/23158 [00:06<00:00, 3755.57it/s]\n",
      "  2%|▏         | 369/23158 [00:00<00:06, 3689.04it/s]"
     ]
    },
    {
     "name": "stdout",
     "output_type": "stream",
     "text": [
      "0.8\n"
     ]
    },
    {
     "name": "stderr",
     "output_type": "stream",
     "text": [
      "100%|██████████| 23158/23158 [00:06<00:00, 3689.27it/s]\n",
      "  2%|▏         | 393/23158 [00:00<00:05, 3924.24it/s]"
     ]
    },
    {
     "name": "stdout",
     "output_type": "stream",
     "text": [
      "0.81\n"
     ]
    },
    {
     "name": "stderr",
     "output_type": "stream",
     "text": [
      "100%|██████████| 23158/23158 [00:05<00:00, 3872.71it/s]\n",
      "  2%|▏         | 383/23158 [00:00<00:05, 3821.48it/s]"
     ]
    },
    {
     "name": "stdout",
     "output_type": "stream",
     "text": [
      "0.82\n"
     ]
    },
    {
     "name": "stderr",
     "output_type": "stream",
     "text": [
      "100%|██████████| 23158/23158 [00:06<00:00, 3821.20it/s]\n",
      "  2%|▏         | 372/23158 [00:00<00:06, 3719.84it/s]"
     ]
    },
    {
     "name": "stdout",
     "output_type": "stream",
     "text": [
      "0.83\n"
     ]
    },
    {
     "name": "stderr",
     "output_type": "stream",
     "text": [
      "100%|██████████| 23158/23158 [00:06<00:00, 3789.20it/s]\n",
      "  2%|▏         | 359/23158 [00:00<00:06, 3587.81it/s]"
     ]
    },
    {
     "name": "stdout",
     "output_type": "stream",
     "text": [
      "0.84\n"
     ]
    },
    {
     "name": "stderr",
     "output_type": "stream",
     "text": [
      "100%|██████████| 23158/23158 [00:06<00:00, 3728.87it/s]\n",
      "  2%|▏         | 353/23158 [00:00<00:06, 3527.29it/s]"
     ]
    },
    {
     "name": "stdout",
     "output_type": "stream",
     "text": [
      "0.85\n"
     ]
    },
    {
     "name": "stderr",
     "output_type": "stream",
     "text": [
      "100%|██████████| 23158/23158 [00:06<00:00, 3643.99it/s]\n",
      "  2%|▏         | 385/23158 [00:00<00:05, 3847.38it/s]"
     ]
    },
    {
     "name": "stdout",
     "output_type": "stream",
     "text": [
      "0.86\n"
     ]
    },
    {
     "name": "stderr",
     "output_type": "stream",
     "text": [
      "100%|██████████| 23158/23158 [00:05<00:00, 3910.58it/s]\n",
      "  2%|▏         | 371/23158 [00:00<00:06, 3704.25it/s]"
     ]
    },
    {
     "name": "stdout",
     "output_type": "stream",
     "text": [
      "0.87\n"
     ]
    },
    {
     "name": "stderr",
     "output_type": "stream",
     "text": [
      "100%|██████████| 23158/23158 [00:05<00:00, 3862.61it/s]\n",
      "  3%|▎         | 748/23158 [00:00<00:06, 3715.51it/s]"
     ]
    },
    {
     "name": "stdout",
     "output_type": "stream",
     "text": [
      "0.88\n"
     ]
    },
    {
     "name": "stderr",
     "output_type": "stream",
     "text": [
      "100%|██████████| 23158/23158 [00:06<00:00, 3775.33it/s]\n",
      "  3%|▎         | 724/23158 [00:00<00:06, 3579.07it/s]"
     ]
    },
    {
     "name": "stdout",
     "output_type": "stream",
     "text": [
      "0.89\n"
     ]
    },
    {
     "name": "stderr",
     "output_type": "stream",
     "text": [
      "100%|██████████| 23158/23158 [00:06<00:00, 3752.25it/s]\n",
      "  1%|▏         | 328/23158 [00:00<00:06, 3271.73it/s]"
     ]
    },
    {
     "name": "stdout",
     "output_type": "stream",
     "text": [
      "0.9\n"
     ]
    },
    {
     "name": "stderr",
     "output_type": "stream",
     "text": [
      "100%|██████████| 23158/23158 [00:06<00:00, 3431.41it/s]\n",
      "  1%|▏         | 302/23158 [00:00<00:07, 3015.18it/s]"
     ]
    },
    {
     "name": "stdout",
     "output_type": "stream",
     "text": [
      "0.91\n"
     ]
    },
    {
     "name": "stderr",
     "output_type": "stream",
     "text": [
      "100%|██████████| 23158/23158 [00:06<00:00, 3473.71it/s]\n",
      "  3%|▎         | 750/23158 [00:00<00:05, 3734.95it/s]"
     ]
    },
    {
     "name": "stdout",
     "output_type": "stream",
     "text": [
      "0.92\n"
     ]
    },
    {
     "name": "stderr",
     "output_type": "stream",
     "text": [
      "100%|██████████| 23158/23158 [00:06<00:00, 3846.38it/s]\n",
      "  2%|▏         | 370/23158 [00:00<00:06, 3697.30it/s]"
     ]
    },
    {
     "name": "stdout",
     "output_type": "stream",
     "text": [
      "0.93\n"
     ]
    },
    {
     "name": "stderr",
     "output_type": "stream",
     "text": [
      "100%|██████████| 23158/23158 [00:06<00:00, 3783.89it/s]\n",
      "  2%|▏         | 370/23158 [00:00<00:06, 3694.56it/s]"
     ]
    },
    {
     "name": "stdout",
     "output_type": "stream",
     "text": [
      "0.94\n"
     ]
    },
    {
     "name": "stderr",
     "output_type": "stream",
     "text": [
      "100%|██████████| 23158/23158 [00:06<00:00, 3681.90it/s]\n",
      "  2%|▏         | 360/23158 [00:00<00:06, 3596.12it/s]"
     ]
    },
    {
     "name": "stdout",
     "output_type": "stream",
     "text": [
      "0.95\n"
     ]
    },
    {
     "name": "stderr",
     "output_type": "stream",
     "text": [
      "100%|██████████| 23158/23158 [00:06<00:00, 3688.86it/s]\n",
      "  2%|▏         | 358/23158 [00:00<00:06, 3577.71it/s]"
     ]
    },
    {
     "name": "stdout",
     "output_type": "stream",
     "text": [
      "0.96\n"
     ]
    },
    {
     "name": "stderr",
     "output_type": "stream",
     "text": [
      "100%|██████████| 23158/23158 [00:05<00:00, 3931.33it/s]\n",
      "  3%|▎         | 759/23158 [00:00<00:05, 3806.76it/s]"
     ]
    },
    {
     "name": "stdout",
     "output_type": "stream",
     "text": [
      "0.97\n"
     ]
    },
    {
     "name": "stderr",
     "output_type": "stream",
     "text": [
      "100%|██████████| 23158/23158 [00:05<00:00, 3874.20it/s]\n",
      "  2%|▏         | 370/23158 [00:00<00:06, 3697.38it/s]"
     ]
    },
    {
     "name": "stdout",
     "output_type": "stream",
     "text": [
      "0.98\n"
     ]
    },
    {
     "name": "stderr",
     "output_type": "stream",
     "text": [
      "100%|██████████| 23158/23158 [00:06<00:00, 3801.43it/s]\n",
      "  2%|▏         | 370/23158 [00:00<00:06, 3691.65it/s]"
     ]
    },
    {
     "name": "stdout",
     "output_type": "stream",
     "text": [
      "0.99\n"
     ]
    },
    {
     "name": "stderr",
     "output_type": "stream",
     "text": [
      "100%|██████████| 23158/23158 [00:06<00:00, 3721.19it/s]\n",
      "  2%|▏         | 354/23158 [00:00<00:06, 3528.39it/s]"
     ]
    },
    {
     "name": "stdout",
     "output_type": "stream",
     "text": [
      "1.0\n"
     ]
    },
    {
     "name": "stderr",
     "output_type": "stream",
     "text": [
      "100%|██████████| 23158/23158 [00:06<00:00, 3532.48it/s]\n"
     ]
    }
   ],
   "source": [
    "# compare to real ages\n",
    "import scipy\n",
    "\n",
    "protbins=np.linspace(1.,5.,5)\n",
    "tempbins=np.linspace(100.,500.,4)\n",
    "absg=np.linspace(0.01,0.05,5)\n",
    "\n",
    "chisq=[]\n",
    "MAD=[]\n",
    "tempbins_a=[]\n",
    "protbins_a=[]\n",
    "absg_a=[]\n",
    "total=len(tempbins)*len(protbins)*len(absg)\n",
    "count=1\n",
    "for i in tempbins:\n",
    "    for j in protbins:\n",
    "        for l in absg:\n",
    "            print(float(count)/float(total))\n",
    "            count=count+1\n",
    "            getkinAges(df_prot_s,['teff_calc','Prot_log','abs_G'],[i,j,l])\n",
    "            stat_df=df_prot_s.dropna(subset=['kin_age_Sharma2020','iso_age','iso_age_err1'])\n",
    "            if len(stat_df)<1000:\n",
    "                continue\n",
    "            stat_df=stat_df.loc[stat_df['iso_age']<10]\n",
    "            stat_df=stat_df.loc[stat_df['iso_age_err1']<3]\n",
    "            chisq_sing=sum(np.power(stat_df['kin_age_Sharma2020']-stat_df['iso_age'],2.)/stat_df['iso_age_err'])\n",
    "            chisq.append(chisq_sing/len(stat_df))\n",
    "            MAD.append(np.median(stat_df['kin_age_Sharma2020']-stat_df['iso_age']/\n",
    "                        np.sqrt(np.power(stat_df['kin_age_Sharma2020'],2)+np.power(stat_df['iso_age'],2))))\n",
    "            tempbins_a.append(i)\n",
    "            protbins_a.append(j)\n",
    "            loggbins_a.append(k)\n",
    "            absg_a.append(l)\n",
    "            #slope=df_prot_s\n",
    "#getAveAges(df_prot_s,['teff_calc','Prot_log','logg_y'],[550.,0.03,0.2])\n",
    "#getAveAges(df_prot_p,['teff_calc','Prot_log','logg_y'],[550.,0.07,0.2])"
   ]
  },
  {
   "cell_type": "code",
   "execution_count": 19,
   "metadata": {},
   "outputs": [
    {
     "name": "stderr",
     "output_type": "stream",
     "text": [
      "  2%|▏         | 372/23158 [00:00<00:06, 3716.18it/s]"
     ]
    },
    {
     "name": "stdout",
     "output_type": "stream",
     "text": [
      "absg: 0.01 prot: 3.0 temp: 366.6666666666667 2.246769683554881\n",
      "[366.6666666666667, 3.0, 0.01]\n"
     ]
    },
    {
     "name": "stderr",
     "output_type": "stream",
     "text": [
      "100%|██████████| 23158/23158 [00:06<00:00, 3821.55it/s]\n"
     ]
    },
    {
     "data": {
      "text/plain": [
       "Text(0, 0.5, 'iso. Ages')"
      ]
     },
     "execution_count": 19,
     "metadata": {},
     "output_type": "execute_result"
    },
    {
     "data": {
      "image/png": "[encoded data removed]",
      "text/plain": [
       "<Figure size 720x576 with 1 Axes>"
      ]
     },
     "metadata": {
      "needs_background": "light"
     },
     "output_type": "display_data"
    },
    {
     "data": {
      "image/png": "[encoded data removed]",
      "text/plain": [
       "<Figure size 1440x576 with 2 Axes>"
      ]
     },
     "metadata": {
      "needs_background": "light"
     },
     "output_type": "display_data"
    }
   ],
   "source": [
    "#### chisq\n",
    "plt.figure(figsize=(10,8))\n",
    "plt.plot(tempbins_a,chisq,'r.')\n",
    "plt.xlabel('Temperature bin')\n",
    "plt.ylabel('$\\chi^2$')\n",
    "\n",
    "chisq_s,rotbin_a_s,tempbin_a_s,absg_s=zip(*sorted(zip(chisq,protbins_a,tempbins_a,absg_a)))\n",
    "\n",
    "print('absg:',absg_a[0],'prot:',rotbin_a_s[0],'temp:',tempbin_a_s[0],chisq_s[0])\n",
    "print([tempbin_a_s[0],rotbin_a_s[0],absg_a[0]])\n",
    "\n",
    "getkinAges(df_prot_s,['teff_calc','Prot_log','abs_G'],\n",
    "           [tempbin_a_s[0],rotbin_a_s[0],absg_a[0]])\n",
    "#getkinAges(df_prot_s,['teff_calc','Prot_log','abs_G'],[200.,0.4,0.5])\n",
    "\n",
    "df_prot_s_plot=df_prot_s.loc[df_prot_s['iso_age']<10]\n",
    "df_prot_s_plot=df_prot_s_plot.loc[df_prot_s_plot['iso_age_err1']<3]\n",
    "\n",
    "\n",
    "plt.figure(figsize=(20,8))\n",
    "plt.subplot(1,2,1)\n",
    "\"\"\"\n",
    "plt.errorbar(df_prot_s_plot['kin_age'], df_prot_s_plot['iso_age'],\n",
    "             yerr=df_prot_s_plot['iso_age_err1'],fmt='ro',alpha=0.1,markersize=1)\n",
    "\"\"\"\n",
    "plt.errorbar(df_prot_s_plot['kin_age_Sharma2020'], df_prot_s_plot['iso_age'],\n",
    "             yerr=df_prot_s_plot['iso_age_err1'],fmt='ro',alpha=0.1,markersize=1)\n",
    "plt.plot(df_prot_s_plot['kin_age_Sharma2020'], df_prot_s_plot['iso_age'],'ko',alpha=1,markersize=1)\n",
    "minage=min(min(df_prot_s_plot['iso_age']),min(df_prot_s_plot['kin_age_Sharma2020']))\n",
    "maxage=max(max(df_prot_s_plot['iso_age']),max(df_prot_s_plot['kin_age_Sharma2020']))\n",
    "\n",
    "#z=np.polyfit(df_prot_s['kin_age'],df_prot_s['iso_age'],1,w=1/np.power(df_prot_s['iso_age_err1'],2.))\n",
    "\n",
    "#plt.plot([0.8*minage,1.2*maxage],np.polyval(z,[0.8*minage,maxage]),'b--')\n",
    "plt.plot([0.8*minage,1.2*maxage],[0.8*minage,1.2*maxage],'k--')\n",
    "plt.xlim([0.8*minage,1.2*maxage])\n",
    "plt.ylim([0.8*minage,1.2*maxage])\n",
    "plt.xlabel('Kin. Ages')\n",
    "plt.ylabel('iso. Ages')\n",
    "plt.subplot(1,2,2)\n",
    "plt.plot(df_prot_s_plot['kin_age_Sharma2020'], df_prot_s_plot['iso_age'],'ro',alpha=0.1,markersize=1)\n",
    "\n",
    "#plt.plot([0.8*minage,1.2*maxage],np.polyval(z,[0.8*minage,maxage]),'b--')\n",
    "plt.plot([0.8*minage,1.2*maxage],[0.8*minage,1.2*maxage],'k--')\n",
    "plt.xlim([0.8*minage,1.2*maxage])\n",
    "plt.ylim([0.8*minage,1.2*maxage])\n",
    "plt.xlabel('Kin. Ages')\n",
    "plt.ylabel('iso. Ages')\n",
    "\n",
    "\n",
    "#df_prot_s.to_pickle('minchisq.pkl')\n",
    "\n"
   ]
  },
  {
   "cell_type": "markdown",
   "metadata": {},
   "source": [
    "## average ages (real chisq)"
   ]
  },
  {
   "cell_type": "code",
   "execution_count": null,
   "metadata": {
    "scrolled": true
   },
   "outputs": [],
   "source": [
    "# get average ages in a bin\n",
    "import scipy\n",
    "\n",
    "tempbins=[400.,500.,600.,700.,800,900,1000]\n",
    "protbins=[0.3,0.4,0.5,0.6,0.7]\n",
    "loggbins=[0.1,0.2,0.5,0.7,0.8]\n",
    "chisq=[]\n",
    "tempbins_a=[]\n",
    "protbins_a=[]\n",
    "loggbins_a=[]\n",
    "total=len(tempbins)*len(protbins)*len(loggbins)\n",
    "count=1\n",
    "for i in tempbins:\n",
    "    for j in protbins:\n",
    "        for k in loggbins:\n",
    "            print(float(count)/float(total))\n",
    "            count=count+1\n",
    "            getAveAges(df_prot_s,['teff_calc','Prot_log','logg_y'],[i,j,k])\n",
    "            df_prot_s=df_prot_s.dropna(subset=['kin_age','iso_age_ave','iso_age_ave_err'])\n",
    "            stat_df=df_prot_s.loc[df_prot_s['iso_age']<10]\n",
    "            chisq_single=sum(np.power(stat_df['kin_age']-stat_df['iso_age_ave'],2.)/stat_df['iso_age_ave_err'])\n",
    "            chisq.append(chisq_single)\n",
    "            tempbins_a.append(i)\n",
    "            protbins_a.append(j)\n",
    "            loggbins_a.append(k)\n",
    "            #slope=df_prot_s\n",
    "#getAveAges(df_prot_s,['teff_calc','Prot_log','logg_y'],[550.,0.03,0.2])\n",
    "#getAveAges(df_prot_p,['teff_calc','Prot_log','logg_y'],[550.,0.07,0.2])"
   ]
  },
  {
   "cell_type": "code",
   "execution_count": 23,
   "metadata": {},
   "outputs": [
    {
     "name": "stderr",
     "output_type": "stream",
     "text": [
      "100%|██████████| 23158/23158 [00:07<00:00, 3266.50it/s]\n"
     ]
    },
    {
     "data": {
      "text/plain": [
       "Text(0, 0.5, 'iso. Ages')"
      ]
     },
     "execution_count": 23,
     "metadata": {},
     "output_type": "execute_result"
    },
    {
     "data": {
      "image/png": "[encoded data removed]",
      "text/plain": [
       "<Figure size 720x576 with 1 Axes>"
      ]
     },
     "metadata": {
      "needs_background": "light"
     },
     "output_type": "display_data"
    },
    {
     "data": {
      "image/png": "[encoded data removed]",
      "text/plain": [
       "<Figure size 1440x576 with 2 Axes>"
      ]
     },
     "metadata": {
      "needs_background": "light"
     },
     "output_type": "display_data"
    }
   ],
   "source": [
    "plt.figure(figsize=(10,8))\n",
    "#plt.plot(tempbins_a,chisq,'r.')\n",
    "plt.xlabel('Temperature bin')\n",
    "plt.ylabel('$\\chi^2$')\n",
    "\n",
    "#chisq_s,rotbin_a_s,tempbin_a_s,logg_a_s=zip(*sorted(zip(chisq,protbins_a,tempbins_a,loggbins_a)))\n",
    "\n",
    "#print(logg_a_s[0],rotbin_a_s[0],tempbin_a_s[0],chisq_s[0])\n",
    "\n",
    "#getAveAges(df_prot_s,['teff_calc','Prot_log','logg_y'],[tempbin_a_s[0],rotbin_a_s[0],logg_a_s[0]])\n",
    "#getAveAges(df_prot_s,['teff_calc','Prot_log','logg_y'],[tempbin_a_s[0],rotbin_a_s[0],logg_a_s[0]])\n",
    "#getAveAges(df_prot_s,['teff_calc','Prot_log','abs_G'],[100,0.4,0.5])\n",
    "getAveAges(df_prot_s,['teff_calc','Prot_log','abs_G'],[366.6666666666667, 3.0, 0.01])\n",
    "\n",
    "\n",
    "df_prot_s_plot=df_prot_s.loc[df_prot_s['iso_age']<10]\n",
    "df_prot_s_plot=df_prot_s_plot.loc[df_prot_s_plot['iso_age_err1']<3]\n",
    "\n",
    "plt.figure(figsize=(20,8))\n",
    "plt.subplot(1,2,1)\n",
    "plt.errorbar(df_prot_s['kin_age_Sharma2020'], df_prot_s['iso_age_ave'],yerr=df_prot_s['iso_age_ave_err'],fmt='ro',alpha=0.01)\n",
    "minage=min(min(df_prot_s['iso_age_ave']),min(df_prot_s['kin_age']))\n",
    "maxage=max(max(df_prot_s['iso_age_ave']),max(df_prot_s['kin_age']))\n",
    "#z=np.polyfit(df_prot_s['kin_age'],df_prot_s['iso_age_ave'],1)\n",
    "#plt.plot([0.8*minage,1.2*maxage],np.polyval(z,[0.8*minage,maxage]),'b--')\n",
    "plt.plot([0.8*minage,1.2*maxage],[0.8*minage,1.2*maxage],'k--')\n",
    "plt.xlim([0.8*minage,1.2*maxage])\n",
    "plt.ylim([0.8*minage,1.2*maxage])\n",
    "plt.xlabel('Kin. Ages')\n",
    "plt.ylabel('iso. Ages')\n",
    "plt.subplot(1,2,2)\n",
    "#plt.plot(df_prot_s['iso_age'],df_prot_s['kin_age'], 'r.',alpha=0.1)\n",
    "plt.plot(df_prot_s['kin_age_Sharma2020'], df_prot_s['iso_age_ave'],'r.',alpha=0.5)\n",
    "minage=min(min(df_prot_s['iso_age_ave']),min(df_prot_s['kin_age']))\n",
    "maxage=max(max(df_prot_s['iso_age_ave']),max(df_prot_s['kin_age']))\n",
    "#z=np.polyfit(df_prot_s['kin_age'],df_prot_s['iso_age_ave'],1)\n",
    "#plt.plot([0.8*minage,1.2*maxage],np.polyval(z,[0.8*minage,maxage]),'b--')\n",
    "#plt.plot([0.8*minage,1.2*maxage],[0.8*minage,1.2*maxage],'k--')\n",
    "#plt.xlim([0.8*minage,1.2*maxage])\n",
    "#plt.ylim([0.8*minage,1.2*maxage])\n",
    "#plt.plot([0,10],np.polyval(z,[0,10]),'b--')\n",
    "plt.plot([0,10],[0,10],'k--')\n",
    "plt.xlim([0,10])\n",
    "plt.ylim([0,10])\n",
    "\n",
    "plt.xlabel('Kin. Ages')\n",
    "plt.ylabel('iso. Ages')\n",
    "\n",
    "#df_prot_s.to_pickle('minchisq.pkl')"
   ]
  },
  {
   "cell_type": "markdown",
   "metadata": {},
   "source": [
    "# For Rvars"
   ]
  },
  {
   "cell_type": "markdown",
   "metadata": {},
   "source": [
    "## real ages (real chisq)"
   ]
  },
  {
   "cell_type": "code",
   "execution_count": 22,
   "metadata": {},
   "outputs": [
    {
     "data": {
      "text/plain": [
       "array([ 0.3  ,  2.725,  5.15 ,  7.575, 10.   ])"
      ]
     },
     "execution_count": 22,
     "metadata": {},
     "output_type": "execute_result"
    }
   ],
   "source": [
    "np.linspace(0.3,10.,5)"
   ]
  },
  {
   "cell_type": "code",
   "execution_count": 23,
   "metadata": {
    "jupyter": {
     "outputs_hidden": true
    },
    "scrolled": true
   },
   "outputs": [
    {
     "name": "stderr",
     "output_type": "stream",
     "text": [
      "  0%|          | 44/84824 [00:00<03:17, 428.53it/s]"
     ]
    },
    {
     "name": "stdout",
     "output_type": "stream",
     "text": [
      "0.01\n"
     ]
    },
    {
     "name": "stderr",
     "output_type": "stream",
     "text": [
      "100%|██████████| 84824/84824 [01:52<00:00, 752.24it/s] \n",
      "/Users/lucy/anaconda3/lib/python3.7/site-packages/ipykernel_launcher.py:37: RuntimeWarning: divide by zero encountered in log\n",
      "/Users/lucy/anaconda3/lib/python3.7/site-packages/numpy/lib/polynomial.py:675: RuntimeWarning: invalid value encountered in multiply\n",
      "  y = y * x + p[i]\n",
      "  0%|          | 79/84824 [00:00<01:48, 782.60it/s]"
     ]
    },
    {
     "name": "stdout",
     "output_type": "stream",
     "text": [
      "0.02\n"
     ]
    },
    {
     "name": "stderr",
     "output_type": "stream",
     "text": [
      "100%|██████████| 84824/84824 [01:41<00:00, 837.02it/s] \n",
      "  0%|          | 212/84824 [00:00<01:20, 1053.88it/s]"
     ]
    },
    {
     "name": "stdout",
     "output_type": "stream",
     "text": [
      "0.03\n"
     ]
    },
    {
     "name": "stderr",
     "output_type": "stream",
     "text": [
      "100%|██████████| 84824/84824 [01:36<00:00, 880.62it/s] \n",
      "  0%|          | 90/84824 [00:00<01:34, 896.07it/s]"
     ]
    },
    {
     "name": "stdout",
     "output_type": "stream",
     "text": [
      "0.04\n"
     ]
    },
    {
     "name": "stderr",
     "output_type": "stream",
     "text": [
      "100%|██████████| 84824/84824 [01:31<00:00, 924.57it/s] \n",
      "  0%|          | 101/84824 [00:00<01:24, 1007.32it/s]"
     ]
    },
    {
     "name": "stdout",
     "output_type": "stream",
     "text": [
      "0.05\n"
     ]
    },
    {
     "name": "stderr",
     "output_type": "stream",
     "text": [
      "100%|██████████| 84824/84824 [01:36<00:00, 876.87it/s] \n",
      "  0%|          | 97/84824 [00:00<01:27, 963.74it/s]"
     ]
    },
    {
     "name": "stdout",
     "output_type": "stream",
     "text": [
      "0.06\n"
     ]
    },
    {
     "name": "stderr",
     "output_type": "stream",
     "text": [
      "100%|██████████| 84824/84824 [01:22<00:00, 1030.90it/s]\n",
      "  0%|          | 102/84824 [00:00<01:23, 1011.53it/s]"
     ]
    },
    {
     "name": "stdout",
     "output_type": "stream",
     "text": [
      "0.07\n"
     ]
    },
    {
     "name": "stderr",
     "output_type": "stream",
     "text": [
      "100%|██████████| 84824/84824 [01:21<00:00, 1040.06it/s]\n",
      "  0%|          | 106/84824 [00:00<01:20, 1057.93it/s]"
     ]
    },
    {
     "name": "stdout",
     "output_type": "stream",
     "text": [
      "0.08\n"
     ]
    },
    {
     "name": "stderr",
     "output_type": "stream",
     "text": [
      "100%|██████████| 84824/84824 [01:22<00:00, 1029.29it/s]\n",
      "  0%|          | 97/84824 [00:00<01:27, 968.29it/s]"
     ]
    },
    {
     "name": "stdout",
     "output_type": "stream",
     "text": [
      "0.09\n"
     ]
    },
    {
     "name": "stderr",
     "output_type": "stream",
     "text": [
      "100%|██████████| 84824/84824 [01:27<00:00, 967.57it/s] \n",
      "  0%|          | 103/84824 [00:00<01:22, 1024.74it/s]"
     ]
    },
    {
     "name": "stdout",
     "output_type": "stream",
     "text": [
      "0.1\n"
     ]
    },
    {
     "name": "stderr",
     "output_type": "stream",
     "text": [
      "100%|██████████| 84824/84824 [01:26<00:00, 982.81it/s] \n",
      "  0%|          | 100/84824 [00:00<01:25, 990.15it/s]"
     ]
    },
    {
     "name": "stdout",
     "output_type": "stream",
     "text": [
      "0.11\n"
     ]
    },
    {
     "name": "stderr",
     "output_type": "stream",
     "text": [
      "100%|██████████| 84824/84824 [01:36<00:00, 879.18it/s] \n",
      "  0%|          | 189/84824 [00:00<01:31, 922.60it/s]"
     ]
    },
    {
     "name": "stdout",
     "output_type": "stream",
     "text": [
      "0.12\n"
     ]
    },
    {
     "name": "stderr",
     "output_type": "stream",
     "text": [
      "100%|██████████| 84824/84824 [01:31<00:00, 927.66it/s] \n",
      "  0%|          | 94/84824 [00:00<01:30, 932.09it/s]"
     ]
    },
    {
     "name": "stdout",
     "output_type": "stream",
     "text": [
      "0.13\n"
     ]
    },
    {
     "name": "stderr",
     "output_type": "stream",
     "text": [
      "100%|██████████| 84824/84824 [01:29<00:00, 944.45it/s] \n",
      "  0%|          | 96/84824 [00:00<01:28, 954.26it/s]"
     ]
    },
    {
     "name": "stdout",
     "output_type": "stream",
     "text": [
      "0.14\n"
     ]
    },
    {
     "name": "stderr",
     "output_type": "stream",
     "text": [
      "100%|██████████| 84824/84824 [01:32<00:00, 919.05it/s] \n",
      "  0%|          | 88/84824 [00:00<01:36, 876.49it/s]"
     ]
    },
    {
     "name": "stdout",
     "output_type": "stream",
     "text": [
      "0.15\n"
     ]
    },
    {
     "name": "stderr",
     "output_type": "stream",
     "text": [
      "100%|██████████| 84824/84824 [01:48<00:00, 783.96it/s] \n",
      "  0%|          | 66/84824 [00:00<02:08, 657.25it/s]"
     ]
    },
    {
     "name": "stdout",
     "output_type": "stream",
     "text": [
      "0.16\n"
     ]
    },
    {
     "name": "stderr",
     "output_type": "stream",
     "text": [
      "100%|██████████| 84824/84824 [01:43<00:00, 817.96it/s] \n",
      "  0%|          | 98/84824 [00:00<01:26, 976.95it/s]"
     ]
    },
    {
     "name": "stdout",
     "output_type": "stream",
     "text": [
      "0.17\n"
     ]
    },
    {
     "name": "stderr",
     "output_type": "stream",
     "text": [
      "100%|██████████| 84824/84824 [01:30<00:00, 932.44it/s] \n",
      "  0%|          | 99/84824 [00:00<01:25, 988.79it/s]"
     ]
    },
    {
     "name": "stdout",
     "output_type": "stream",
     "text": [
      "0.18\n"
     ]
    },
    {
     "name": "stderr",
     "output_type": "stream",
     "text": [
      "100%|██████████| 84824/84824 [01:30<00:00, 936.08it/s] \n",
      "  0%|          | 189/84824 [00:00<01:30, 939.88it/s]"
     ]
    },
    {
     "name": "stdout",
     "output_type": "stream",
     "text": [
      "0.19\n"
     ]
    },
    {
     "name": "stderr",
     "output_type": "stream",
     "text": [
      "100%|██████████| 84824/84824 [01:36<00:00, 878.87it/s] \n",
      "  0%|          | 162/84824 [00:00<01:48, 782.10it/s]"
     ]
    },
    {
     "name": "stdout",
     "output_type": "stream",
     "text": [
      "0.2\n"
     ]
    },
    {
     "name": "stderr",
     "output_type": "stream",
     "text": [
      "100%|██████████| 84824/84824 [01:34<00:00, 902.04it/s] \n",
      "  0%|          | 103/84824 [00:00<01:22, 1022.88it/s]"
     ]
    },
    {
     "name": "stdout",
     "output_type": "stream",
     "text": [
      "0.21\n"
     ]
    },
    {
     "name": "stderr",
     "output_type": "stream",
     "text": [
      "100%|██████████| 84824/84824 [01:42<00:00, 830.02it/s] \n",
      "  0%|          | 96/84824 [00:00<01:29, 950.92it/s]"
     ]
    },
    {
     "name": "stdout",
     "output_type": "stream",
     "text": [
      "0.22\n"
     ]
    },
    {
     "name": "stderr",
     "output_type": "stream",
     "text": [
      "100%|██████████| 84824/84824 [01:38<00:00, 863.32it/s] \n",
      "  0%|          | 102/84824 [00:00<01:23, 1015.09it/s]"
     ]
    },
    {
     "name": "stdout",
     "output_type": "stream",
     "text": [
      "0.23\n"
     ]
    },
    {
     "name": "stderr",
     "output_type": "stream",
     "text": [
      "100%|██████████| 84824/84824 [01:38<00:00, 862.06it/s] \n",
      "  0%|          | 80/84824 [00:00<01:47, 789.92it/s]"
     ]
    },
    {
     "name": "stdout",
     "output_type": "stream",
     "text": [
      "0.24\n"
     ]
    },
    {
     "name": "stderr",
     "output_type": "stream",
     "text": [
      "100%|██████████| 84824/84824 [01:36<00:00, 881.15it/s] \n",
      "  0%|          | 55/84824 [00:00<02:36, 541.97it/s]"
     ]
    },
    {
     "name": "stdout",
     "output_type": "stream",
     "text": [
      "0.25\n"
     ]
    },
    {
     "name": "stderr",
     "output_type": "stream",
     "text": [
      "100%|██████████| 84824/84824 [01:40<00:00, 845.34it/s] \n",
      "  0%|          | 93/84824 [00:00<01:31, 925.91it/s]"
     ]
    },
    {
     "name": "stdout",
     "output_type": "stream",
     "text": [
      "0.26\n"
     ]
    },
    {
     "name": "stderr",
     "output_type": "stream",
     "text": [
      "100%|██████████| 84824/84824 [01:31<00:00, 925.04it/s] \n",
      "  0%|          | 94/84824 [00:00<01:30, 932.66it/s]"
     ]
    },
    {
     "name": "stdout",
     "output_type": "stream",
     "text": [
      "0.27\n"
     ]
    },
    {
     "name": "stderr",
     "output_type": "stream",
     "text": [
      "100%|██████████| 84824/84824 [01:30<00:00, 933.40it/s] \n",
      "  0%|          | 198/84824 [00:00<01:25, 987.83it/s]"
     ]
    },
    {
     "name": "stdout",
     "output_type": "stream",
     "text": [
      "0.28\n"
     ]
    },
    {
     "name": "stderr",
     "output_type": "stream",
     "text": [
      "100%|██████████| 84824/84824 [01:39<00:00, 852.21it/s] \n",
      "  0%|          | 98/84824 [00:00<01:26, 978.58it/s]"
     ]
    },
    {
     "name": "stdout",
     "output_type": "stream",
     "text": [
      "0.29\n"
     ]
    },
    {
     "name": "stderr",
     "output_type": "stream",
     "text": [
      "100%|██████████| 84824/84824 [01:33<00:00, 905.49it/s] \n",
      "  0%|          | 65/84824 [00:00<02:10, 649.96it/s]"
     ]
    },
    {
     "name": "stdout",
     "output_type": "stream",
     "text": [
      "0.3\n"
     ]
    },
    {
     "name": "stderr",
     "output_type": "stream",
     "text": [
      "100%|██████████| 84824/84824 [01:37<00:00, 868.09it/s] \n",
      "  0%|          | 195/84824 [00:00<01:27, 968.56it/s]"
     ]
    },
    {
     "name": "stdout",
     "output_type": "stream",
     "text": [
      "0.31\n"
     ]
    },
    {
     "name": "stderr",
     "output_type": "stream",
     "text": [
      "100%|██████████| 84824/84824 [01:39<00:00, 855.94it/s] \n",
      "  0%|          | 68/84824 [00:00<02:05, 677.75it/s]"
     ]
    },
    {
     "name": "stdout",
     "output_type": "stream",
     "text": [
      "0.32\n"
     ]
    },
    {
     "name": "stderr",
     "output_type": "stream",
     "text": [
      "100%|██████████| 84824/84824 [01:43<00:00, 815.94it/s] \n",
      "  0%|          | 187/84824 [00:00<01:30, 930.29it/s]"
     ]
    },
    {
     "name": "stdout",
     "output_type": "stream",
     "text": [
      "0.33\n"
     ]
    },
    {
     "name": "stderr",
     "output_type": "stream",
     "text": [
      "100%|██████████| 84824/84824 [01:37<00:00, 872.95it/s] \n",
      "  0%|          | 82/84824 [00:00<01:44, 813.93it/s]"
     ]
    },
    {
     "name": "stdout",
     "output_type": "stream",
     "text": [
      "0.34\n"
     ]
    },
    {
     "name": "stderr",
     "output_type": "stream",
     "text": [
      "100%|██████████| 84824/84824 [01:36<00:00, 882.46it/s] \n",
      "  0%|          | 198/84824 [00:00<01:26, 983.16it/s]"
     ]
    },
    {
     "name": "stdout",
     "output_type": "stream",
     "text": [
      "0.35\n"
     ]
    },
    {
     "name": "stderr",
     "output_type": "stream",
     "text": [
      "100%|██████████| 84824/84824 [01:36<00:00, 879.52it/s] \n",
      "  0%|          | 179/84824 [00:00<01:34, 892.11it/s]"
     ]
    },
    {
     "name": "stdout",
     "output_type": "stream",
     "text": [
      "0.36\n"
     ]
    },
    {
     "name": "stderr",
     "output_type": "stream",
     "text": [
      "100%|██████████| 84824/84824 [01:46<00:00, 797.00it/s] \n",
      "  0%|          | 62/84824 [00:00<02:21, 600.91it/s]"
     ]
    },
    {
     "name": "stdout",
     "output_type": "stream",
     "text": [
      "0.37\n"
     ]
    },
    {
     "name": "stderr",
     "output_type": "stream",
     "text": [
      "100%|██████████| 84824/84824 [01:34<00:00, 894.27it/s] \n",
      "  0%|          | 94/84824 [00:00<01:30, 931.81it/s]"
     ]
    },
    {
     "name": "stdout",
     "output_type": "stream",
     "text": [
      "0.38\n"
     ]
    },
    {
     "name": "stderr",
     "output_type": "stream",
     "text": [
      "100%|██████████| 84824/84824 [01:27<00:00, 974.39it/s] \n",
      "  0%|          | 102/84824 [00:00<01:23, 1011.61it/s]"
     ]
    },
    {
     "name": "stdout",
     "output_type": "stream",
     "text": [
      "0.39\n"
     ]
    },
    {
     "name": "stderr",
     "output_type": "stream",
     "text": [
      "100%|██████████| 84824/84824 [01:23<00:00, 1018.47it/s]\n",
      "  0%|          | 103/84824 [00:00<01:22, 1027.52it/s]"
     ]
    },
    {
     "name": "stdout",
     "output_type": "stream",
     "text": [
      "0.4\n"
     ]
    },
    {
     "name": "stderr",
     "output_type": "stream",
     "text": [
      "100%|██████████| 84824/84824 [01:29<00:00, 943.68it/s] \n",
      "  0%|          | 95/84824 [00:00<01:29, 944.29it/s]"
     ]
    },
    {
     "name": "stdout",
     "output_type": "stream",
     "text": [
      "0.41\n"
     ]
    },
    {
     "name": "stderr",
     "output_type": "stream",
     "text": [
      "100%|██████████| 84824/84824 [01:38<00:00, 862.06it/s] \n",
      "  0%|          | 100/84824 [00:00<01:25, 992.63it/s]"
     ]
    },
    {
     "name": "stdout",
     "output_type": "stream",
     "text": [
      "0.42\n"
     ]
    },
    {
     "name": "stderr",
     "output_type": "stream",
     "text": [
      "100%|██████████| 84824/84824 [01:28<00:00, 956.83it/s] \n",
      "  0%|          | 106/84824 [00:00<01:20, 1057.45it/s]"
     ]
    },
    {
     "name": "stdout",
     "output_type": "stream",
     "text": [
      "0.43\n"
     ]
    },
    {
     "name": "stderr",
     "output_type": "stream",
     "text": [
      "100%|██████████| 84824/84824 [01:23<00:00, 1014.59it/s]\n",
      "  0%|          | 101/84824 [00:00<01:24, 1007.81it/s]"
     ]
    },
    {
     "name": "stdout",
     "output_type": "stream",
     "text": [
      "0.44\n"
     ]
    },
    {
     "name": "stderr",
     "output_type": "stream",
     "text": [
      "100%|██████████| 84824/84824 [01:23<00:00, 1017.18it/s]\n",
      "  0%|          | 105/84824 [00:00<01:21, 1042.32it/s]"
     ]
    },
    {
     "name": "stdout",
     "output_type": "stream",
     "text": [
      "0.45\n"
     ]
    },
    {
     "name": "stderr",
     "output_type": "stream",
     "text": [
      "100%|██████████| 84824/84824 [01:24<00:00, 1008.30it/s]\n",
      "  0%|          | 210/84824 [00:00<01:21, 1039.56it/s]"
     ]
    },
    {
     "name": "stdout",
     "output_type": "stream",
     "text": [
      "0.46\n"
     ]
    },
    {
     "name": "stderr",
     "output_type": "stream",
     "text": [
      "100%|██████████| 84824/84824 [01:22<00:00, 1029.36it/s]\n",
      "  0%|          | 105/84824 [00:00<01:21, 1045.17it/s]"
     ]
    },
    {
     "name": "stdout",
     "output_type": "stream",
     "text": [
      "0.47\n"
     ]
    },
    {
     "name": "stderr",
     "output_type": "stream",
     "text": [
      "100%|██████████| 84824/84824 [01:21<00:00, 1034.64it/s]\n",
      "  0%|          | 76/84824 [00:00<01:51, 759.74it/s]"
     ]
    },
    {
     "name": "stdout",
     "output_type": "stream",
     "text": [
      "0.48\n"
     ]
    },
    {
     "name": "stderr",
     "output_type": "stream",
     "text": [
      "100%|██████████| 84824/84824 [01:22<00:00, 1033.53it/s]\n",
      "  0%|          | 107/84824 [00:00<01:19, 1060.52it/s]"
     ]
    },
    {
     "name": "stdout",
     "output_type": "stream",
     "text": [
      "0.49\n"
     ]
    },
    {
     "name": "stderr",
     "output_type": "stream",
     "text": [
      "100%|██████████| 84824/84824 [01:22<00:00, 1023.32it/s]\n",
      "  0%|          | 204/84824 [00:00<01:23, 1009.56it/s]"
     ]
    },
    {
     "name": "stdout",
     "output_type": "stream",
     "text": [
      "0.5\n"
     ]
    },
    {
     "name": "stderr",
     "output_type": "stream",
     "text": [
      "100%|██████████| 84824/84824 [01:23<00:00, 1017.57it/s]\n",
      "  0%|          | 88/84824 [00:00<01:36, 875.64it/s]"
     ]
    },
    {
     "name": "stdout",
     "output_type": "stream",
     "text": [
      "0.51\n"
     ]
    },
    {
     "name": "stderr",
     "output_type": "stream",
     "text": [
      "100%|██████████| 84824/84824 [01:21<00:00, 1042.28it/s]\n",
      "  0%|          | 103/84824 [00:00<01:22, 1023.95it/s]"
     ]
    },
    {
     "name": "stdout",
     "output_type": "stream",
     "text": [
      "0.52\n"
     ]
    },
    {
     "name": "stderr",
     "output_type": "stream",
     "text": [
      "100%|██████████| 84824/84824 [01:23<00:00, 1021.13it/s]\n",
      "  0%|          | 99/84824 [00:00<01:25, 985.59it/s]"
     ]
    },
    {
     "name": "stdout",
     "output_type": "stream",
     "text": [
      "0.53\n"
     ]
    },
    {
     "name": "stderr",
     "output_type": "stream",
     "text": [
      "100%|██████████| 84824/84824 [01:22<00:00, 1028.94it/s]\n",
      "  0%|          | 105/84824 [00:00<01:20, 1048.94it/s]"
     ]
    },
    {
     "name": "stdout",
     "output_type": "stream",
     "text": [
      "0.54\n"
     ]
    },
    {
     "name": "stderr",
     "output_type": "stream",
     "text": [
      "100%|██████████| 84824/84824 [01:22<00:00, 1023.69it/s]\n",
      "  0%|          | 212/84824 [00:00<01:20, 1056.87it/s]"
     ]
    },
    {
     "name": "stdout",
     "output_type": "stream",
     "text": [
      "0.55\n"
     ]
    },
    {
     "name": "stderr",
     "output_type": "stream",
     "text": [
      "100%|██████████| 84824/84824 [01:23<00:00, 1021.75it/s]\n",
      "  0%|          | 203/84824 [00:00<01:23, 1007.84it/s]"
     ]
    },
    {
     "name": "stdout",
     "output_type": "stream",
     "text": [
      "0.56\n"
     ]
    },
    {
     "name": "stderr",
     "output_type": "stream",
     "text": [
      "100%|██████████| 84824/84824 [01:34<00:00, 893.81it/s] \n",
      "  0%|          | 78/84824 [00:00<01:49, 773.89it/s]"
     ]
    },
    {
     "name": "stdout",
     "output_type": "stream",
     "text": [
      "0.57\n"
     ]
    },
    {
     "name": "stderr",
     "output_type": "stream",
     "text": [
      "100%|██████████| 84824/84824 [01:37<00:00, 871.15it/s] \n",
      "  0%|          | 43/84824 [00:00<03:21, 420.38it/s]"
     ]
    },
    {
     "name": "stdout",
     "output_type": "stream",
     "text": [
      "0.58\n"
     ]
    },
    {
     "name": "stderr",
     "output_type": "stream",
     "text": [
      "100%|██████████| 84824/84824 [01:31<00:00, 931.48it/s] \n",
      "  0%|          | 101/84824 [00:00<01:24, 1001.08it/s]"
     ]
    },
    {
     "name": "stdout",
     "output_type": "stream",
     "text": [
      "0.59\n"
     ]
    },
    {
     "name": "stderr",
     "output_type": "stream",
     "text": [
      "100%|██████████| 84824/84824 [01:35<00:00, 891.85it/s] \n",
      "  0%|          | 200/84824 [00:00<01:24, 999.78it/s] "
     ]
    },
    {
     "name": "stdout",
     "output_type": "stream",
     "text": [
      "0.6\n"
     ]
    },
    {
     "name": "stderr",
     "output_type": "stream",
     "text": [
      "100%|██████████| 84824/84824 [01:40<00:00, 846.00it/s] \n",
      "  0%|          | 95/84824 [00:00<01:29, 944.79it/s]"
     ]
    },
    {
     "name": "stdout",
     "output_type": "stream",
     "text": [
      "0.61\n"
     ]
    },
    {
     "name": "stderr",
     "output_type": "stream",
     "text": [
      "100%|██████████| 84824/84824 [01:39<00:00, 852.22it/s] \n",
      "  0%|          | 65/84824 [00:00<02:11, 646.01it/s]"
     ]
    },
    {
     "name": "stdout",
     "output_type": "stream",
     "text": [
      "0.62\n"
     ]
    },
    {
     "name": "stderr",
     "output_type": "stream",
     "text": [
      "100%|██████████| 84824/84824 [01:42<00:00, 828.56it/s] \n",
      "  0%|          | 81/84824 [00:00<01:45, 806.41it/s]"
     ]
    },
    {
     "name": "stdout",
     "output_type": "stream",
     "text": [
      "0.63\n"
     ]
    },
    {
     "name": "stderr",
     "output_type": "stream",
     "text": [
      "100%|██████████| 84824/84824 [01:44<00:00, 811.86it/s] \n",
      "  0%|          | 73/84824 [00:00<01:56, 725.43it/s]"
     ]
    },
    {
     "name": "stdout",
     "output_type": "stream",
     "text": [
      "0.64\n"
     ]
    },
    {
     "name": "stderr",
     "output_type": "stream",
     "text": [
      "100%|██████████| 84824/84824 [01:46<00:00, 799.52it/s] \n",
      "  0%|          | 74/84824 [00:00<01:54, 739.59it/s]"
     ]
    },
    {
     "name": "stdout",
     "output_type": "stream",
     "text": [
      "0.65\n"
     ]
    },
    {
     "name": "stderr",
     "output_type": "stream",
     "text": [
      "100%|██████████| 84824/84824 [01:42<00:00, 825.42it/s] \n",
      "  0%|          | 113/84824 [00:00<01:15, 1122.22it/s]"
     ]
    },
    {
     "name": "stdout",
     "output_type": "stream",
     "text": [
      "0.66\n"
     ]
    },
    {
     "name": "stderr",
     "output_type": "stream",
     "text": [
      "100%|██████████| 84824/84824 [01:17<00:00, 1093.03it/s]\n",
      "  0%|          | 98/84824 [00:00<01:26, 978.83it/s]"
     ]
    },
    {
     "name": "stdout",
     "output_type": "stream",
     "text": [
      "0.67\n"
     ]
    },
    {
     "name": "stderr",
     "output_type": "stream",
     "text": [
      "100%|██████████| 84824/84824 [01:24<00:00, 1006.30it/s]\n",
      "  0%|          | 104/84824 [00:00<01:21, 1038.86it/s]"
     ]
    },
    {
     "name": "stdout",
     "output_type": "stream",
     "text": [
      "0.68\n"
     ]
    },
    {
     "name": "stderr",
     "output_type": "stream",
     "text": [
      "100%|██████████| 84824/84824 [01:19<00:00, 1072.00it/s]\n",
      "  0%|          | 99/84824 [00:00<01:25, 987.61it/s]"
     ]
    },
    {
     "name": "stdout",
     "output_type": "stream",
     "text": [
      "0.69\n"
     ]
    },
    {
     "name": "stderr",
     "output_type": "stream",
     "text": [
      "100%|██████████| 84824/84824 [01:35<00:00, 884.93it/s] \n",
      "  0%|          | 116/84824 [00:00<01:13, 1158.47it/s]"
     ]
    },
    {
     "name": "stdout",
     "output_type": "stream",
     "text": [
      "0.7\n"
     ]
    },
    {
     "name": "stderr",
     "output_type": "stream",
     "text": [
      "100%|██████████| 84824/84824 [01:14<00:00, 1143.96it/s]\n",
      "  0%|          | 118/84824 [00:00<01:12, 1169.88it/s]"
     ]
    },
    {
     "name": "stdout",
     "output_type": "stream",
     "text": [
      "0.71\n"
     ]
    },
    {
     "name": "stderr",
     "output_type": "stream",
     "text": [
      "100%|██████████| 84824/84824 [01:14<00:00, 1135.52it/s]\n",
      "  0%|          | 106/84824 [00:00<01:20, 1048.68it/s]"
     ]
    },
    {
     "name": "stdout",
     "output_type": "stream",
     "text": [
      "0.72\n"
     ]
    },
    {
     "name": "stderr",
     "output_type": "stream",
     "text": [
      "100%|██████████| 84824/84824 [01:25<00:00, 995.25it/s] \n",
      "  0%|          | 114/84824 [00:00<01:14, 1139.23it/s]"
     ]
    },
    {
     "name": "stdout",
     "output_type": "stream",
     "text": [
      "0.73\n"
     ]
    },
    {
     "name": "stderr",
     "output_type": "stream",
     "text": [
      "100%|██████████| 84824/84824 [01:33<00:00, 903.38it/s] \n",
      "  0%|          | 104/84824 [00:00<01:21, 1038.55it/s]"
     ]
    },
    {
     "name": "stdout",
     "output_type": "stream",
     "text": [
      "0.74\n"
     ]
    },
    {
     "name": "stderr",
     "output_type": "stream",
     "text": [
      "100%|██████████| 84824/84824 [01:26<00:00, 979.97it/s] \n",
      "  0%|          | 106/84824 [00:00<01:20, 1056.66it/s]"
     ]
    },
    {
     "name": "stdout",
     "output_type": "stream",
     "text": [
      "0.75\n"
     ]
    },
    {
     "name": "stderr",
     "output_type": "stream",
     "text": [
      "100%|██████████| 84824/84824 [01:32<00:00, 918.93it/s] \n",
      "  0%|          | 238/84824 [00:00<01:11, 1189.07it/s]"
     ]
    },
    {
     "name": "stdout",
     "output_type": "stream",
     "text": [
      "0.76\n"
     ]
    },
    {
     "name": "stderr",
     "output_type": "stream",
     "text": [
      "100%|██████████| 84824/84824 [01:25<00:00, 990.10it/s] \n",
      "  0%|          | 209/84824 [00:00<01:21, 1037.09it/s]"
     ]
    },
    {
     "name": "stdout",
     "output_type": "stream",
     "text": [
      "0.77\n"
     ]
    },
    {
     "name": "stderr",
     "output_type": "stream",
     "text": [
      "100%|██████████| 84824/84824 [01:26<00:00, 980.05it/s] \n",
      "  0%|          | 42/84824 [00:00<03:24, 415.07it/s]"
     ]
    },
    {
     "name": "stdout",
     "output_type": "stream",
     "text": [
      "0.78\n"
     ]
    },
    {
     "name": "stderr",
     "output_type": "stream",
     "text": [
      "100%|██████████| 84824/84824 [01:33<00:00, 911.85it/s] \n",
      "  0%|          | 229/84824 [00:00<01:14, 1135.94it/s]"
     ]
    },
    {
     "name": "stdout",
     "output_type": "stream",
     "text": [
      "0.79\n"
     ]
    },
    {
     "name": "stderr",
     "output_type": "stream",
     "text": [
      "100%|██████████| 84824/84824 [01:28<00:00, 962.77it/s] \n",
      "  0%|          | 115/84824 [00:00<01:13, 1146.22it/s]"
     ]
    },
    {
     "name": "stdout",
     "output_type": "stream",
     "text": [
      "0.8\n"
     ]
    },
    {
     "name": "stderr",
     "output_type": "stream",
     "text": [
      "100%|██████████| 84824/84824 [01:33<00:00, 910.93it/s] \n",
      "  0%|          | 118/84824 [00:00<01:12, 1172.14it/s]"
     ]
    },
    {
     "name": "stdout",
     "output_type": "stream",
     "text": [
      "0.81\n"
     ]
    },
    {
     "name": "stderr",
     "output_type": "stream",
     "text": [
      "100%|██████████| 84824/84824 [01:21<00:00, 1040.35it/s]\n",
      "  0%|          | 117/84824 [00:00<01:12, 1161.62it/s]"
     ]
    },
    {
     "name": "stdout",
     "output_type": "stream",
     "text": [
      "0.82\n"
     ]
    },
    {
     "name": "stderr",
     "output_type": "stream",
     "text": [
      "100%|██████████| 84824/84824 [01:18<00:00, 1078.77it/s]\n",
      "  0%|          | 111/84824 [00:00<01:16, 1106.04it/s]"
     ]
    },
    {
     "name": "stdout",
     "output_type": "stream",
     "text": [
      "0.83\n"
     ]
    },
    {
     "name": "stderr",
     "output_type": "stream",
     "text": [
      "100%|██████████| 84824/84824 [01:18<00:00, 1078.38it/s]\n",
      "  0%|          | 225/84824 [00:00<01:15, 1116.50it/s]"
     ]
    },
    {
     "name": "stdout",
     "output_type": "stream",
     "text": [
      "0.84\n"
     ]
    },
    {
     "name": "stderr",
     "output_type": "stream",
     "text": [
      "100%|██████████| 84824/84824 [01:14<00:00, 1137.28it/s]\n",
      "  0%|          | 207/84824 [00:00<01:21, 1036.90it/s]"
     ]
    },
    {
     "name": "stdout",
     "output_type": "stream",
     "text": [
      "0.85\n"
     ]
    },
    {
     "name": "stderr",
     "output_type": "stream",
     "text": [
      "100%|██████████| 84824/84824 [01:17<00:00, 1100.75it/s]\n",
      "  0%|          | 113/84824 [00:00<01:15, 1119.25it/s]"
     ]
    },
    {
     "name": "stdout",
     "output_type": "stream",
     "text": [
      "0.86\n"
     ]
    },
    {
     "name": "stderr",
     "output_type": "stream",
     "text": [
      "100%|██████████| 84824/84824 [01:14<00:00, 1141.04it/s]\n",
      "  0%|          | 112/84824 [00:00<01:15, 1115.10it/s]"
     ]
    },
    {
     "name": "stdout",
     "output_type": "stream",
     "text": [
      "0.87\n"
     ]
    },
    {
     "name": "stderr",
     "output_type": "stream",
     "text": [
      "100%|██████████| 84824/84824 [01:19<00:00, 1072.54it/s]\n",
      "  0%|          | 80/84824 [00:00<01:46, 796.92it/s]"
     ]
    },
    {
     "name": "stdout",
     "output_type": "stream",
     "text": [
      "0.88\n"
     ]
    },
    {
     "name": "stderr",
     "output_type": "stream",
     "text": [
      "100%|██████████| 84824/84824 [01:24<00:00, 999.01it/s] \n",
      "  0%|          | 110/84824 [00:00<01:17, 1091.11it/s]"
     ]
    },
    {
     "name": "stdout",
     "output_type": "stream",
     "text": [
      "0.89\n"
     ]
    },
    {
     "name": "stderr",
     "output_type": "stream",
     "text": [
      "100%|██████████| 84824/84824 [01:16<00:00, 1106.07it/s]\n",
      "  0%|          | 113/84824 [00:00<01:15, 1121.41it/s]"
     ]
    },
    {
     "name": "stdout",
     "output_type": "stream",
     "text": [
      "0.9\n"
     ]
    },
    {
     "name": "stderr",
     "output_type": "stream",
     "text": [
      "100%|██████████| 84824/84824 [01:16<00:00, 1114.10it/s]\n",
      "  0%|          | 115/84824 [00:00<01:14, 1139.44it/s]"
     ]
    },
    {
     "name": "stdout",
     "output_type": "stream",
     "text": [
      "0.91\n"
     ]
    },
    {
     "name": "stderr",
     "output_type": "stream",
     "text": [
      "100%|██████████| 84824/84824 [01:15<00:00, 1119.85it/s]\n",
      "  0%|          | 112/84824 [00:00<01:15, 1118.58it/s]"
     ]
    },
    {
     "name": "stdout",
     "output_type": "stream",
     "text": [
      "0.92\n"
     ]
    },
    {
     "name": "stderr",
     "output_type": "stream",
     "text": [
      "100%|██████████| 84824/84824 [01:19<00:00, 1071.75it/s]\n",
      "  0%|          | 100/84824 [00:00<01:25, 992.61it/s]"
     ]
    },
    {
     "name": "stdout",
     "output_type": "stream",
     "text": [
      "0.93\n"
     ]
    },
    {
     "name": "stderr",
     "output_type": "stream",
     "text": [
      "100%|██████████| 84824/84824 [01:23<00:00, 1014.66it/s]\n",
      "  0%|          | 113/84824 [00:00<01:15, 1127.62it/s]"
     ]
    },
    {
     "name": "stdout",
     "output_type": "stream",
     "text": [
      "0.94\n"
     ]
    },
    {
     "name": "stderr",
     "output_type": "stream",
     "text": [
      "100%|██████████| 84824/84824 [01:16<00:00, 1107.92it/s]\n",
      "  0%|          | 228/84824 [00:00<01:14, 1137.16it/s]"
     ]
    },
    {
     "name": "stdout",
     "output_type": "stream",
     "text": [
      "0.95\n"
     ]
    },
    {
     "name": "stderr",
     "output_type": "stream",
     "text": [
      "100%|██████████| 84824/84824 [01:17<00:00, 1091.30it/s]\n",
      "  0%|          | 114/84824 [00:00<01:14, 1134.51it/s]"
     ]
    },
    {
     "name": "stdout",
     "output_type": "stream",
     "text": [
      "0.96\n"
     ]
    },
    {
     "name": "stderr",
     "output_type": "stream",
     "text": [
      "100%|██████████| 84824/84824 [01:24<00:00, 1002.44it/s]\n",
      "  0%|          | 104/84824 [00:00<01:21, 1033.93it/s]"
     ]
    },
    {
     "name": "stdout",
     "output_type": "stream",
     "text": [
      "0.97\n"
     ]
    },
    {
     "name": "stderr",
     "output_type": "stream",
     "text": [
      "100%|██████████| 84824/84824 [01:21<00:00, 1039.70it/s]\n",
      "  0%|          | 85/84824 [00:00<01:40, 846.71it/s]"
     ]
    },
    {
     "name": "stdout",
     "output_type": "stream",
     "text": [
      "0.98\n"
     ]
    },
    {
     "name": "stderr",
     "output_type": "stream",
     "text": [
      "100%|██████████| 84824/84824 [01:17<00:00, 1094.69it/s]\n",
      "  0%|          | 118/84824 [00:00<01:11, 1178.21it/s]"
     ]
    },
    {
     "name": "stdout",
     "output_type": "stream",
     "text": [
      "0.99\n"
     ]
    },
    {
     "name": "stderr",
     "output_type": "stream",
     "text": [
      "100%|██████████| 84824/84824 [01:21<00:00, 1040.56it/s]\n",
      "  0%|          | 108/84824 [00:00<01:19, 1071.82it/s]"
     ]
    },
    {
     "name": "stdout",
     "output_type": "stream",
     "text": [
      "1.0\n"
     ]
    },
    {
     "name": "stderr",
     "output_type": "stream",
     "text": [
      "100%|██████████| 84824/84824 [01:24<00:00, 998.27it/s] \n"
     ]
    }
   ],
   "source": [
    "# compare to real ages\n",
    "import scipy\n",
    "\n",
    "protbins=np.linspace(2,8,5)\n",
    "loggbins=np.linspace(0.17,0.5,5)\n",
    "tempbins=np.linspace(200.,400.,4)\n",
    "absg=[0.01]\n",
    "\n",
    "df_rvar_s['iso_age_err']=np.sqrt(df_rvar_s['iso_age_err1']**2.+df_rvar_s['iso_age_err2']**2.)\n",
    "\n",
    "chisq=[]\n",
    "tempbins_a=[]\n",
    "protbins_a=[]\n",
    "loggbins_a=[]\n",
    "absg_a=[]\n",
    "total=len(tempbins)*len(protbins)*len(loggbins)*len(absg)\n",
    "count=1\n",
    "for i in tempbins:\n",
    "    for j in protbins:\n",
    "        for k in loggbins:\n",
    "            for l in absg:\n",
    "                print(float(count)/float(total))\n",
    "                count=count+1\n",
    "                getkinAges(df_rvar_s,['teff_calc','Rvar_log','logg','abs_G'],[i,j,k,l])\n",
    "                stat_df=df_rvar_s.dropna(subset=['kin_age','iso_age','iso_age_err1'])\n",
    "                if len(stat_df)<1000:\n",
    "                    continue\n",
    "                stat_df=stat_df.loc[stat_df['iso_age']<10]\n",
    "                stat_df=stat_df.loc[stat_df['iso_age_err1']<3]\n",
    "                chisq_sing=sum(np.power(stat_df['kin_age']-stat_df['iso_age'],2.)/stat_df['iso_age_err'])\n",
    "                chisq.append(chisq_sing/len(stat_df))\n",
    "                \n",
    "                tempbins_a.append(i)\n",
    "                protbins_a.append(j)\n",
    "                loggbins_a.append(k)\n",
    "                absg_a.append(l)\n"
   ]
  },
  {
   "cell_type": "code",
   "execution_count": 68,
   "metadata": {},
   "outputs": [
    {
     "name": "stderr",
     "output_type": "stream",
     "text": [
      "100%|██████████| 84824/84824 [00:54<00:00, 1552.66it/s]\n",
      "/Users/lucy/anaconda3/lib/python3.7/site-packages/ipykernel_launcher.py:37: RuntimeWarning: divide by zero encountered in log\n",
      "/Users/lucy/anaconda3/lib/python3.7/site-packages/numpy/lib/polynomial.py:675: RuntimeWarning: invalid value encountered in multiply\n",
      "  y = y * x + p[i]\n"
     ]
    },
    {
     "data": {
      "text/plain": [
       "Text(0, 0.5, 'iso. Ages')"
      ]
     },
     "execution_count": 68,
     "metadata": {},
     "output_type": "execute_result"
    },
    {
     "data": {
      "image/png": "[encoded data removed]",
      "text/plain": [
       "<Figure size 720x576 with 1 Axes>"
      ]
     },
     "metadata": {
      "needs_background": "light"
     },
     "output_type": "display_data"
    },
    {
     "data": {
      "image/png": "[encoded data removed]",
      "text/plain": [
       "<Figure size 1440x576 with 2 Axes>"
      ]
     },
     "metadata": {
      "needs_background": "light"
     },
     "output_type": "display_data"
    }
   ],
   "source": [
    "plt.figure(figsize=(10,8))\n",
    "plt.plot(tempbins_a,chisq,'r.')\n",
    "plt.xlabel('Temperature bin')\n",
    "plt.ylabel('$\\chi^2$')\n",
    "\n",
    "chisq_s,rotbin_a_s,tempbin_a_s,logg_a_s=zip(*sorted(zip(chisq,protbins_a,tempbins_a,loggbins_a)))\n",
    "\n",
    "#print('absg:',absg_a[0],'logg:',logg_a_s[0],'prot:',rotbin_a_s[0],'temp:',tempbin_a_s[0],chisq_s[0])\n",
    "#print([tempbin_a_s[0],rotbin_a_s[0],logg_a_s[0],absg_a[0]])\n",
    "\n",
    "getkinAges(df_rvar_s,['teff_calc','Rvar_log','logg','abs_G'],\n",
    "           [266.6666666666667, 5.0, 0.4175, 0.01])\n",
    "\n",
    "df_rvar_s_plot=df_rvar_s.loc[df_rvar_s['iso_age']<10]\n",
    "df_rvar_s_plot=df_rvar_s_plot.loc[df_rvar_s_plot['iso_age_err1']<3]\n",
    "\n",
    "plt.figure(figsize=(20,8))\n",
    "plt.subplot(1,2,1)\n",
    "plt.errorbar(df_rvar_s_plot['kin_age'], df_rvar_s_plot['iso_age'],\n",
    "             yerr=df_rvar_s_plot['iso_age_err1'],fmt='ro',alpha=0.1,markersize=1)\n",
    "plt.plot(df_rvar_s_plot['kin_age'], df_rvar_s_plot['iso_age'],\n",
    "         'ko',alpha=1,markersize=1)\n",
    "minage=min(min(df_rvar_s_plot['iso_age']),min(df_rvar_s_plot['kin_age']))\n",
    "maxage=max(max(df_rvar_s_plot['iso_age']),max(df_rvar_s_plot['kin_age']))\n",
    "\n",
    "plt.plot([0.8*minage,1.2*maxage],[0.8*minage,1.2*maxage],'k--')\n",
    "plt.xlim([0.8*minage,1.2*maxage])\n",
    "plt.ylim([0.8*minage,1.2*maxage])\n",
    "plt.xlabel('Kin. Ages')\n",
    "plt.ylabel('iso. Ages')\n",
    "plt.subplot(1,2,2)\n",
    "plt.plot(df_rvar_s_plot['kin_age'], df_rvar_s_plot['iso_age'],'ro',alpha=0.1,markersize=1)\n",
    "\n",
    "plt.plot([0.8*minage,1.2*maxage],[0.8*minage,1.2*maxage],'k--')\n",
    "plt.xlim([0.8*minage,1.2*maxage])\n",
    "plt.ylim([0.8*minage,1.2*maxage])\n",
    "plt.xlabel('Kin. Ages')\n",
    "plt.ylabel('iso. Ages')\n",
    "\n",
    "df_rvar_s.to_pickle('minchisq_rvar.pkl')\n",
    "\n"
   ]
  },
  {
   "cell_type": "code",
   "execution_count": 28,
   "metadata": {},
   "outputs": [
    {
     "data": {
      "text/html": [
       "<div>\n",
       "<style scoped>\n",
       "    .dataframe tbody tr th:only-of-type {\n",
       "        vertical-align: middle;\n",
       "    }\n",
       "\n",
       "    .dataframe tbody tr th {\n",
       "        vertical-align: top;\n",
       "    }\n",
       "\n",
       "    .dataframe thead th {\n",
       "        text-align: right;\n",
       "    }\n",
       "</style>\n",
       "<table border=\"1\" class=\"dataframe\">\n",
       "  <thead>\n",
       "    <tr style=\"text-align: right;\">\n",
       "      <th></th>\n",
       "      <th>KIC</th>\n",
       "      <th>iso_mass</th>\n",
       "      <th>iso_mass_err1</th>\n",
       "      <th>iso_mass_err2</th>\n",
       "      <th>iso_teff</th>\n",
       "      <th>iso_teff_err1</th>\n",
       "      <th>iso_teff_err2</th>\n",
       "      <th>iso_logg</th>\n",
       "      <th>iso_logg_err1</th>\n",
       "      <th>iso_logg_err2</th>\n",
       "      <th>...</th>\n",
       "      <th>KID</th>\n",
       "      <th>age</th>\n",
       "      <th>Rvar</th>\n",
       "      <th>teff_calc</th>\n",
       "      <th>Rvar_log</th>\n",
       "      <th>logg</th>\n",
       "      <th>v_b</th>\n",
       "      <th>abs_G</th>\n",
       "      <th>iso_age_err</th>\n",
       "      <th>kin_age</th>\n",
       "    </tr>\n",
       "  </thead>\n",
       "  <tbody>\n",
       "    <tr>\n",
       "      <th>73535</th>\n",
       "      <td>11075611</td>\n",
       "      <td>0.539</td>\n",
       "      <td>0.013</td>\n",
       "      <td>-0.013</td>\n",
       "      <td>3761.3</td>\n",
       "      <td>77.3</td>\n",
       "      <td>-77.3</td>\n",
       "      <td>4.686</td>\n",
       "      <td>0.013</td>\n",
       "      <td>-0.013</td>\n",
       "      <td>...</td>\n",
       "      <td>11075611</td>\n",
       "      <td>4.530539</td>\n",
       "      <td>4689.908028</td>\n",
       "      <td>3504.631839</td>\n",
       "      <td>3.671164</td>\n",
       "      <td>4.917</td>\n",
       "      <td>-9.770699</td>\n",
       "      <td>8.817705</td>\n",
       "      <td>9.117511</td>\n",
       "      <td>4.346705</td>\n",
       "    </tr>\n",
       "  </tbody>\n",
       "</table>\n",
       "<p>1 rows × 42 columns</p>\n",
       "</div>"
      ],
      "text/plain": [
       "            KIC  iso_mass  iso_mass_err1  iso_mass_err2  iso_teff  \\\n",
       "73535  11075611     0.539          0.013         -0.013    3761.3   \n",
       "\n",
       "       iso_teff_err1  iso_teff_err2  iso_logg  iso_logg_err1  iso_logg_err2  \\\n",
       "73535           77.3          -77.3     4.686          0.013         -0.013   \n",
       "\n",
       "       ...       KID       age         Rvar    teff_calc  Rvar_log   logg  \\\n",
       "73535  ...  11075611  4.530539  4689.908028  3504.631839  3.671164  4.917   \n",
       "\n",
       "            v_b     abs_G  iso_age_err   kin_age  \n",
       "73535 -9.770699  8.817705     9.117511  4.346705  \n",
       "\n",
       "[1 rows x 42 columns]"
      ]
     },
     "execution_count": 28,
     "metadata": {},
     "output_type": "execute_result"
    }
   ],
   "source": [
    "df_rvar_s.loc[df_rvar_s['KID']==11075611]"
   ]
  },
  {
   "cell_type": "code",
   "execution_count": 29,
   "metadata": {},
   "outputs": [
    {
     "data": {
      "text/html": [
       "<div>\n",
       "<style scoped>\n",
       "    .dataframe tbody tr th:only-of-type {\n",
       "        vertical-align: middle;\n",
       "    }\n",
       "\n",
       "    .dataframe tbody tr th {\n",
       "        vertical-align: top;\n",
       "    }\n",
       "\n",
       "    .dataframe thead th {\n",
       "        text-align: right;\n",
       "    }\n",
       "</style>\n",
       "<table border=\"1\" class=\"dataframe\">\n",
       "  <thead>\n",
       "    <tr style=\"text-align: right;\">\n",
       "      <th></th>\n",
       "      <th>KIC</th>\n",
       "      <th>iso_mass</th>\n",
       "      <th>iso_mass_err1</th>\n",
       "      <th>iso_mass_err2</th>\n",
       "      <th>iso_teff</th>\n",
       "      <th>iso_teff_err1</th>\n",
       "      <th>iso_teff_err2</th>\n",
       "      <th>iso_logg</th>\n",
       "      <th>iso_logg_err1</th>\n",
       "      <th>iso_logg_err2</th>\n",
       "      <th>...</th>\n",
       "      <th>KID</th>\n",
       "      <th>age</th>\n",
       "      <th>Rvar</th>\n",
       "      <th>teff_calc</th>\n",
       "      <th>Rvar_log</th>\n",
       "      <th>logg</th>\n",
       "      <th>v_b</th>\n",
       "      <th>abs_G</th>\n",
       "      <th>iso_age_err</th>\n",
       "      <th>kin_age</th>\n",
       "    </tr>\n",
       "  </thead>\n",
       "  <tbody>\n",
       "    <tr>\n",
       "      <th>84040</th>\n",
       "      <td>12456401</td>\n",
       "      <td>0.526</td>\n",
       "      <td>0.012</td>\n",
       "      <td>-0.013</td>\n",
       "      <td>3809.6</td>\n",
       "      <td>81.2</td>\n",
       "      <td>-71.5</td>\n",
       "      <td>4.704</td>\n",
       "      <td>0.012</td>\n",
       "      <td>-0.012</td>\n",
       "      <td>...</td>\n",
       "      <td>12456401</td>\n",
       "      <td>4.385001</td>\n",
       "      <td>4237.663746</td>\n",
       "      <td>3679.311078</td>\n",
       "      <td>3.627126</td>\n",
       "      <td>4.826</td>\n",
       "      <td>7.88599</td>\n",
       "      <td>8.63656</td>\n",
       "      <td>9.347304</td>\n",
       "      <td>2.313152</td>\n",
       "    </tr>\n",
       "  </tbody>\n",
       "</table>\n",
       "<p>1 rows × 42 columns</p>\n",
       "</div>"
      ],
      "text/plain": [
       "            KIC  iso_mass  iso_mass_err1  iso_mass_err2  iso_teff  \\\n",
       "84040  12456401     0.526          0.012         -0.013    3809.6   \n",
       "\n",
       "       iso_teff_err1  iso_teff_err2  iso_logg  iso_logg_err1  iso_logg_err2  \\\n",
       "84040           81.2          -71.5     4.704          0.012         -0.012   \n",
       "\n",
       "       ...       KID       age         Rvar    teff_calc  Rvar_log   logg  \\\n",
       "84040  ...  12456401  4.385001  4237.663746  3679.311078  3.627126  4.826   \n",
       "\n",
       "           v_b    abs_G  iso_age_err   kin_age  \n",
       "84040  7.88599  8.63656     9.347304  2.313152  \n",
       "\n",
       "[1 rows x 42 columns]"
      ]
     },
     "execution_count": 29,
     "metadata": {},
     "output_type": "execute_result"
    }
   ],
   "source": [
    "df_rvar_s.loc[df_rvar_s['KID']==12456401]"
   ]
  },
  {
   "cell_type": "code",
   "execution_count": 77,
   "metadata": {},
   "outputs": [
    {
     "name": "stderr",
     "output_type": "stream",
     "text": [
      "100%|██████████| 84824/84824 [01:11<00:00, 1194.37it/s]\n",
      "/Users/lucy/anaconda3/lib/python3.7/site-packages/ipykernel_launcher.py:37: RuntimeWarning: divide by zero encountered in log\n",
      "/Users/lucy/anaconda3/lib/python3.7/site-packages/numpy/lib/polynomial.py:675: RuntimeWarning: invalid value encountered in multiply\n",
      "  y = y * x + p[i]\n"
     ]
    }
   ],
   "source": [
    "getAveAges(df_rvar_s,['teff_calc','Rvar_log','abs_G'],\n",
    "           [266.6666666666667, 5.0, 0.01])\n",
    "\n"
   ]
  },
  {
   "cell_type": "code",
   "execution_count": 79,
   "metadata": {},
   "outputs": [
    {
     "data": {
      "image/png": "[encoded data removed]",
      "text/plain": [
       "<Figure size 1440x576 with 2 Axes>"
      ]
     },
     "metadata": {
      "needs_background": "light"
     },
     "output_type": "display_data"
    }
   ],
   "source": [
    "df_rvar_s_plot=df_rvar_s.loc[df_rvar_s['iso_age']<10]\n",
    "df_rvar_s_plot=df_rvar_s_plot.loc[df_rvar_s_plot['iso_age_err1']<3]\n",
    "\n",
    "plt.figure(figsize=(20,8))\n",
    "plt.subplot(1,2,1)\n",
    "plt.errorbar(df_rvar_s_plot['kin_age'], df_rvar_s_plot['iso_age_ave'],yerr=df_rvar_s_plot['iso_age_ave_err'],fmt='ro',alpha=0.01)\n",
    "minage=min(min(df_rvar_s_plot['iso_age_ave']),min(df_rvar_s_plot['kin_age']))\n",
    "maxage=max(max(df_rvar_s_plot['iso_age_ave']),max(df_rvar_s_plot['kin_age']))\n",
    "#z=np.polyfit(df_prot_s['kin_age'],df_prot_s['iso_age_ave'],1)\n",
    "#plt.plot([0.8*minage,1.2*maxage],np.polyval(z,[0.8*minage,maxage]),'b--')\n",
    "plt.plot([0.8*minage,1.2*maxage],[0.8*minage,1.2*maxage],'k--')\n",
    "plt.xlim([0.8*minage,1.2*maxage])\n",
    "plt.ylim([0.8*minage,1.2*maxage])\n",
    "plt.xlabel('Kin. Ages')\n",
    "plt.ylabel('iso. Ages')\n",
    "plt.subplot(1,2,2)\n",
    "#plt.plot(df_prot_s['iso_age'],df_prot_s['kin_age'], 'r.',alpha=0.1)\n",
    "plt.plot(df_rvar_s_plot['kin_age'], df_rvar_s_plot['iso_age_ave'],'r.',alpha=0.5)\n",
    "minage=min(min(df_rvar_s_plot['iso_age_ave']),min(df_rvar_s_plot['kin_age']))\n",
    "maxage=max(max(df_rvar_s_plot['iso_age_ave']),max(df_rvar_s_plot['kin_age']))\n",
    "#z=np.polyfit(df_prot_s['kin_age'],df_prot_s['iso_age_ave'],1)\n",
    "#plt.plot([0.8*minage,1.2*maxage],np.polyval(z,[0.8*minage,maxage]),'b--')\n",
    "#plt.plot([0.8*minage,1.2*maxage],[0.8*minage,1.2*maxage],'k--')\n",
    "#plt.xlim([0.8*minage,1.2*maxage])\n",
    "#plt.ylim([0.8*minage,1.2*maxage])\n",
    "#plt.plot([0,10],np.polyval(z,[0,10]),'b--')\n",
    "plt.plot([0,10],[0,10],'k--')\n",
    "plt.xlim([0,10])\n",
    "plt.ylim([0,10])\n",
    "\n",
    "plt.xlabel('Kin. Ages')\n",
    "plt.ylabel('iso. Ages')\n",
    "\n",
    "plt.savefig('wologg.png')\n",
    "df_rvar_s.to_pickle('minchisq_rvar.pkl')"
   ]
  },
  {
   "cell_type": "code",
   "execution_count": 39,
   "metadata": {},
   "outputs": [
    {
     "name": "stderr",
     "output_type": "stream",
     "text": [
      "100%|██████████| 84824/84824 [01:20<00:00, 1051.85it/s]\n",
      "/Users/lucy/anaconda3/lib/python3.7/site-packages/ipykernel_launcher.py:37: RuntimeWarning: divide by zero encountered in log\n",
      "/Users/lucy/anaconda3/lib/python3.7/site-packages/numpy/lib/polynomial.py:675: RuntimeWarning: invalid value encountered in multiply\n",
      "  y = y * x + p[i]\n",
      "100%|██████████| 84824/84824 [01:30<00:00, 932.68it/s] \n",
      "100%|██████████| 84824/84824 [01:18<00:00, 1079.35it/s]\n",
      "100%|██████████| 84824/84824 [01:15<00:00, 1119.48it/s]\n",
      "100%|██████████| 84824/84824 [01:17<00:00, 1096.27it/s]\n",
      "100%|██████████| 84824/84824 [01:15<00:00, 1116.51it/s]\n",
      "100%|██████████| 84824/84824 [01:16<00:00, 1106.54it/s]\n",
      "100%|██████████| 84824/84824 [01:17<00:00, 1088.42it/s]\n",
      "100%|██████████| 84824/84824 [01:17<00:00, 1095.54it/s]\n",
      "100%|██████████| 84824/84824 [01:16<00:00, 1106.43it/s]\n",
      "100%|██████████| 84824/84824 [01:16<00:00, 1106.41it/s]\n",
      "100%|██████████| 84824/84824 [01:16<00:00, 1103.99it/s]\n",
      "100%|██████████| 84824/84824 [01:18<00:00, 1085.60it/s]\n",
      "100%|██████████| 84824/84824 [01:17<00:00, 1096.28it/s]\n",
      "100%|██████████| 84824/84824 [01:17<00:00, 1092.64it/s]\n",
      "100%|██████████| 84824/84824 [01:17<00:00, 1090.85it/s]\n",
      "100%|██████████| 84824/84824 [01:22<00:00, 1031.05it/s]\n",
      "100%|██████████| 84824/84824 [01:17<00:00, 1088.08it/s]\n",
      "100%|██████████| 84824/84824 [01:18<00:00, 1082.55it/s]\n",
      "100%|██████████| 84824/84824 [01:18<00:00, 1075.28it/s]\n",
      "100%|██████████| 84824/84824 [01:18<00:00, 1073.81it/s]\n",
      "100%|██████████| 84824/84824 [01:18<00:00, 1079.74it/s]\n",
      "100%|██████████| 84824/84824 [01:18<00:00, 1074.33it/s]\n",
      "100%|██████████| 84824/84824 [01:24<00:00, 1001.23it/s]\n",
      "100%|██████████| 84824/84824 [01:18<00:00, 1076.46it/s]\n",
      "100%|██████████| 84824/84824 [01:36<00:00, 875.28it/s] \n",
      "100%|██████████| 84824/84824 [01:35<00:00, 890.27it/s] \n",
      "100%|██████████| 84824/84824 [01:17<00:00, 1087.93it/s]\n",
      "100%|██████████| 84824/84824 [01:23<00:00, 1019.28it/s]\n",
      "100%|██████████| 84824/84824 [01:26<00:00, 976.70it/s] \n",
      "100%|██████████| 84824/84824 [01:28<00:00, 959.45it/s] \n",
      "100%|██████████| 84824/84824 [01:23<00:00, 1016.77it/s]\n",
      "100%|██████████| 84824/84824 [01:19<00:00, 1062.05it/s]\n",
      "100%|██████████| 84824/84824 [01:19<00:00, 1072.20it/s]\n",
      "100%|██████████| 84824/84824 [01:18<00:00, 1084.21it/s]\n",
      "100%|██████████| 84824/84824 [01:24<00:00, 1002.95it/s]\n",
      "100%|██████████| 84824/84824 [01:59<00:00, 709.70it/s]\n",
      "100%|██████████| 84824/84824 [01:32<00:00, 912.16it/s] \n",
      "100%|██████████| 84824/84824 [01:28<00:00, 963.38it/s] \n",
      "100%|██████████| 84824/84824 [01:28<00:00, 959.00it/s] \n",
      "100%|██████████| 84824/84824 [01:26<00:00, 979.82it/s] \n",
      "100%|██████████| 84824/84824 [01:27<00:00, 973.05it/s] \n",
      "100%|██████████| 84824/84824 [01:28<00:00, 962.71it/s] \n",
      "100%|██████████| 84824/84824 [01:26<00:00, 978.16it/s] \n",
      "100%|██████████| 84824/84824 [01:26<00:00, 981.33it/s] \n",
      "100%|██████████| 84824/84824 [01:27<00:00, 969.00it/s] \n",
      "100%|██████████| 84824/84824 [01:28<00:00, 962.79it/s] \n",
      "100%|██████████| 84824/84824 [01:28<00:00, 963.46it/s] \n",
      "100%|██████████| 84824/84824 [01:25<00:00, 988.86it/s] \n",
      "100%|██████████| 84824/84824 [01:27<00:00, 972.24it/s] \n",
      "100%|██████████| 84824/84824 [01:25<00:00, 986.87it/s] \n"
     ]
    }
   ],
   "source": [
    "\n",
    "    \n",
    "\n",
    "ages=getkinAges_err(df_rvar_s,['teff_calc','Rvar_log','logg','abs_G'],\n",
    "           [tempbin_a_s[0],rotbin_a_s[0],logg_a_s[0],absg_a[0]],sampsize=50) \n",
    "\n"
   ]
  },
  {
   "cell_type": "code",
   "execution_count": 81,
   "metadata": {},
   "outputs": [
    {
     "data": {
      "text/plain": [
       "(array([25., 14.,  5.,  1.,  0.,  0.,  1.,  1.,  2.,  1.]),\n",
       " array([5.54410196, 5.73763689, 5.93117181, 6.12470674, 6.31824166,\n",
       "        6.51177659, 6.70531151, 6.89884643, 7.09238136, 7.28591628,\n",
       "        7.47945121]),\n",
       " <a list of 10 Patch objects>)"
      ]
     },
     "execution_count": 81,
     "metadata": {},
     "output_type": "execute_result"
    },
    {
     "data": {
      "image/png": "[encoded data removed]",
      "text/plain": [
       "<Figure size 432x288 with 1 Axes>"
      ]
     },
     "metadata": {
      "needs_background": "light"
     },
     "output_type": "display_data"
    }
   ],
   "source": [
    "plt.hist(ages[10,:])"
   ]
  },
  {
   "cell_type": "code",
   "execution_count": 3,
   "metadata": {},
   "outputs": [
    {
     "data": {
      "text/html": [
       "<div>\n",
       "<style scoped>\n",
       "    .dataframe tbody tr th:only-of-type {\n",
       "        vertical-align: middle;\n",
       "    }\n",
       "\n",
       "    .dataframe tbody tr th {\n",
       "        vertical-align: top;\n",
       "    }\n",
       "\n",
       "    .dataframe thead th {\n",
       "        text-align: right;\n",
       "    }\n",
       "</style>\n",
       "<table border=\"1\" class=\"dataframe\">\n",
       "  <thead>\n",
       "    <tr style=\"text-align: right;\">\n",
       "      <th></th>\n",
       "      <th>KIC</th>\n",
       "      <th>iso_mass</th>\n",
       "      <th>iso_mass_err1</th>\n",
       "      <th>iso_mass_err2</th>\n",
       "      <th>iso_teff</th>\n",
       "      <th>iso_teff_err1</th>\n",
       "      <th>iso_teff_err2</th>\n",
       "      <th>iso_logg</th>\n",
       "      <th>iso_logg_err1</th>\n",
       "      <th>iso_logg_err2</th>\n",
       "      <th>...</th>\n",
       "      <th>Rvar_log</th>\n",
       "      <th>logg</th>\n",
       "      <th>v_b</th>\n",
       "      <th>abs_G</th>\n",
       "      <th>iso_age_err</th>\n",
       "      <th>kin_age</th>\n",
       "      <th>iso_age_ave</th>\n",
       "      <th>iso_age_ave_err</th>\n",
       "      <th>kin_age_err</th>\n",
       "      <th>source_id</th>\n",
       "    </tr>\n",
       "  </thead>\n",
       "  <tbody>\n",
       "    <tr>\n",
       "      <th>0</th>\n",
       "      <td>757450</td>\n",
       "      <td>0.914</td>\n",
       "      <td>0.062</td>\n",
       "      <td>-0.057</td>\n",
       "      <td>5301.2</td>\n",
       "      <td>111.0</td>\n",
       "      <td>-103.1</td>\n",
       "      <td>4.432</td>\n",
       "      <td>0.045</td>\n",
       "      <td>-0.044</td>\n",
       "      <td>...</td>\n",
       "      <td>4.335097</td>\n",
       "      <td>4.500</td>\n",
       "      <td>-33.411547</td>\n",
       "      <td>5.517761</td>\n",
       "      <td>7.433176</td>\n",
       "      <td>6.050929</td>\n",
       "      <td>6.389688</td>\n",
       "      <td>759.97</td>\n",
       "      <td>0.671505</td>\n",
       "      <td>2.050232e+18</td>\n",
       "    </tr>\n",
       "    <tr>\n",
       "      <th>1</th>\n",
       "      <td>892718</td>\n",
       "      <td>0.782</td>\n",
       "      <td>0.040</td>\n",
       "      <td>-0.046</td>\n",
       "      <td>5000.9</td>\n",
       "      <td>97.3</td>\n",
       "      <td>-90.3</td>\n",
       "      <td>4.570</td>\n",
       "      <td>0.028</td>\n",
       "      <td>-0.036</td>\n",
       "      <td>...</td>\n",
       "      <td>3.505987</td>\n",
       "      <td>4.574</td>\n",
       "      <td>-4.214296</td>\n",
       "      <td>6.159685</td>\n",
       "      <td>8.361459</td>\n",
       "      <td>5.329557</td>\n",
       "      <td>6.602250</td>\n",
       "      <td>496.15</td>\n",
       "      <td>0.834650</td>\n",
       "      <td>2.050232e+18</td>\n",
       "    </tr>\n",
       "    <tr>\n",
       "      <th>2</th>\n",
       "      <td>892772</td>\n",
       "      <td>0.803</td>\n",
       "      <td>0.039</td>\n",
       "      <td>-0.032</td>\n",
       "      <td>4965.0</td>\n",
       "      <td>96.3</td>\n",
       "      <td>-93.6</td>\n",
       "      <td>4.492</td>\n",
       "      <td>0.040</td>\n",
       "      <td>-0.034</td>\n",
       "      <td>...</td>\n",
       "      <td>3.252893</td>\n",
       "      <td>4.547</td>\n",
       "      <td>36.144482</td>\n",
       "      <td>5.998116</td>\n",
       "      <td>7.047929</td>\n",
       "      <td>5.374382</td>\n",
       "      <td>9.921913</td>\n",
       "      <td>443.54</td>\n",
       "      <td>1.041803</td>\n",
       "      <td>2.050236e+18</td>\n",
       "    </tr>\n",
       "    <tr>\n",
       "      <th>3</th>\n",
       "      <td>892832</td>\n",
       "      <td>0.784</td>\n",
       "      <td>0.040</td>\n",
       "      <td>-0.045</td>\n",
       "      <td>4975.7</td>\n",
       "      <td>97.1</td>\n",
       "      <td>-88.2</td>\n",
       "      <td>4.564</td>\n",
       "      <td>0.028</td>\n",
       "      <td>-0.034</td>\n",
       "      <td>...</td>\n",
       "      <td>3.464520</td>\n",
       "      <td>4.560</td>\n",
       "      <td>26.448217</td>\n",
       "      <td>6.161795</td>\n",
       "      <td>8.510323</td>\n",
       "      <td>4.650196</td>\n",
       "      <td>6.560067</td>\n",
       "      <td>469.66</td>\n",
       "      <td>1.334890</td>\n",
       "      <td>2.050233e+18</td>\n",
       "    </tr>\n",
       "    <tr>\n",
       "      <th>4</th>\n",
       "      <td>892834</td>\n",
       "      <td>0.751</td>\n",
       "      <td>0.034</td>\n",
       "      <td>-0.039</td>\n",
       "      <td>4823.2</td>\n",
       "      <td>90.4</td>\n",
       "      <td>-82.2</td>\n",
       "      <td>4.587</td>\n",
       "      <td>0.023</td>\n",
       "      <td>-0.028</td>\n",
       "      <td>...</td>\n",
       "      <td>4.180735</td>\n",
       "      <td>4.615</td>\n",
       "      <td>-0.966857</td>\n",
       "      <td>6.411296</td>\n",
       "      <td>8.748257</td>\n",
       "      <td>2.800943</td>\n",
       "      <td>7.478731</td>\n",
       "      <td>388.49</td>\n",
       "      <td>0.448719</td>\n",
       "      <td>2.050232e+18</td>\n",
       "    </tr>\n",
       "    <tr>\n",
       "      <th>...</th>\n",
       "      <td>...</td>\n",
       "      <td>...</td>\n",
       "      <td>...</td>\n",
       "      <td>...</td>\n",
       "      <td>...</td>\n",
       "      <td>...</td>\n",
       "      <td>...</td>\n",
       "      <td>...</td>\n",
       "      <td>...</td>\n",
       "      <td>...</td>\n",
       "      <td>...</td>\n",
       "      <td>...</td>\n",
       "      <td>...</td>\n",
       "      <td>...</td>\n",
       "      <td>...</td>\n",
       "      <td>...</td>\n",
       "      <td>...</td>\n",
       "      <td>...</td>\n",
       "      <td>...</td>\n",
       "      <td>...</td>\n",
       "      <td>...</td>\n",
       "    </tr>\n",
       "    <tr>\n",
       "      <th>84819</th>\n",
       "      <td>12935144</td>\n",
       "      <td>0.781</td>\n",
       "      <td>0.032</td>\n",
       "      <td>-0.023</td>\n",
       "      <td>4798.5</td>\n",
       "      <td>80.8</td>\n",
       "      <td>-74.4</td>\n",
       "      <td>4.515</td>\n",
       "      <td>0.028</td>\n",
       "      <td>-0.020</td>\n",
       "      <td>...</td>\n",
       "      <td>3.449165</td>\n",
       "      <td>4.500</td>\n",
       "      <td>18.829108</td>\n",
       "      <td>6.176964</td>\n",
       "      <td>6.371766</td>\n",
       "      <td>3.519965</td>\n",
       "      <td>15.195308</td>\n",
       "      <td>59.82</td>\n",
       "      <td>1.223089</td>\n",
       "      <td>2.139326e+18</td>\n",
       "    </tr>\n",
       "    <tr>\n",
       "      <th>84820</th>\n",
       "      <td>12983952</td>\n",
       "      <td>0.897</td>\n",
       "      <td>0.062</td>\n",
       "      <td>-0.046</td>\n",
       "      <td>5407.1</td>\n",
       "      <td>121.4</td>\n",
       "      <td>-103.9</td>\n",
       "      <td>4.188</td>\n",
       "      <td>0.037</td>\n",
       "      <td>-0.037</td>\n",
       "      <td>...</td>\n",
       "      <td>3.255194</td>\n",
       "      <td>4.571</td>\n",
       "      <td>-10.180756</td>\n",
       "      <td>4.676241</td>\n",
       "      <td>4.325101</td>\n",
       "      <td>3.603349</td>\n",
       "      <td>16.875361</td>\n",
       "      <td>64.17</td>\n",
       "      <td>0.613842</td>\n",
       "      <td>2.139336e+18</td>\n",
       "    </tr>\n",
       "    <tr>\n",
       "      <th>84821</th>\n",
       "      <td>12984012</td>\n",
       "      <td>1.074</td>\n",
       "      <td>0.071</td>\n",
       "      <td>-0.078</td>\n",
       "      <td>6005.1</td>\n",
       "      <td>116.3</td>\n",
       "      <td>-113.9</td>\n",
       "      <td>4.337</td>\n",
       "      <td>0.046</td>\n",
       "      <td>-0.050</td>\n",
       "      <td>...</td>\n",
       "      <td>3.309001</td>\n",
       "      <td>4.423</td>\n",
       "      <td>4.480242</td>\n",
       "      <td>4.376738</td>\n",
       "      <td>3.396115</td>\n",
       "      <td>6.606545</td>\n",
       "      <td>4.493451</td>\n",
       "      <td>475.13</td>\n",
       "      <td>0.684779</td>\n",
       "      <td>2.139336e+18</td>\n",
       "    </tr>\n",
       "    <tr>\n",
       "      <th>84822</th>\n",
       "      <td>12984138</td>\n",
       "      <td>0.811</td>\n",
       "      <td>0.048</td>\n",
       "      <td>-0.039</td>\n",
       "      <td>5052.3</td>\n",
       "      <td>90.3</td>\n",
       "      <td>-82.6</td>\n",
       "      <td>4.501</td>\n",
       "      <td>0.041</td>\n",
       "      <td>-0.034</td>\n",
       "      <td>...</td>\n",
       "      <td>4.028109</td>\n",
       "      <td>4.579</td>\n",
       "      <td>-0.407244</td>\n",
       "      <td>5.892401</td>\n",
       "      <td>8.148325</td>\n",
       "      <td>6.852331</td>\n",
       "      <td>9.580305</td>\n",
       "      <td>574.14</td>\n",
       "      <td>0.544911</td>\n",
       "      <td>2.139342e+18</td>\n",
       "    </tr>\n",
       "    <tr>\n",
       "      <th>84823</th>\n",
       "      <td>12984422</td>\n",
       "      <td>0.905</td>\n",
       "      <td>0.054</td>\n",
       "      <td>-0.053</td>\n",
       "      <td>5187.0</td>\n",
       "      <td>107.7</td>\n",
       "      <td>-98.4</td>\n",
       "      <td>4.466</td>\n",
       "      <td>0.044</td>\n",
       "      <td>-0.045</td>\n",
       "      <td>...</td>\n",
       "      <td>3.465831</td>\n",
       "      <td>4.565</td>\n",
       "      <td>24.320181</td>\n",
       "      <td>5.543072</td>\n",
       "      <td>7.545396</td>\n",
       "      <td>5.404530</td>\n",
       "      <td>12.001154</td>\n",
       "      <td>476.57</td>\n",
       "      <td>0.652887</td>\n",
       "      <td>2.139329e+18</td>\n",
       "    </tr>\n",
       "  </tbody>\n",
       "</table>\n",
       "<p>84824 rows × 46 columns</p>\n",
       "</div>"
      ],
      "text/plain": [
       "            KIC  iso_mass  iso_mass_err1  iso_mass_err2  iso_teff  \\\n",
       "0        757450     0.914          0.062         -0.057    5301.2   \n",
       "1        892718     0.782          0.040         -0.046    5000.9   \n",
       "2        892772     0.803          0.039         -0.032    4965.0   \n",
       "3        892832     0.784          0.040         -0.045    4975.7   \n",
       "4        892834     0.751          0.034         -0.039    4823.2   \n",
       "...         ...       ...            ...            ...       ...   \n",
       "84819  12935144     0.781          0.032         -0.023    4798.5   \n",
       "84820  12983952     0.897          0.062         -0.046    5407.1   \n",
       "84821  12984012     1.074          0.071         -0.078    6005.1   \n",
       "84822  12984138     0.811          0.048         -0.039    5052.3   \n",
       "84823  12984422     0.905          0.054         -0.053    5187.0   \n",
       "\n",
       "       iso_teff_err1  iso_teff_err2  iso_logg  iso_logg_err1  iso_logg_err2  \\\n",
       "0              111.0         -103.1     4.432          0.045         -0.044   \n",
       "1               97.3          -90.3     4.570          0.028         -0.036   \n",
       "2               96.3          -93.6     4.492          0.040         -0.034   \n",
       "3               97.1          -88.2     4.564          0.028         -0.034   \n",
       "4               90.4          -82.2     4.587          0.023         -0.028   \n",
       "...              ...            ...       ...            ...            ...   \n",
       "84819           80.8          -74.4     4.515          0.028         -0.020   \n",
       "84820          121.4         -103.9     4.188          0.037         -0.037   \n",
       "84821          116.3         -113.9     4.337          0.046         -0.050   \n",
       "84822           90.3          -82.6     4.501          0.041         -0.034   \n",
       "84823          107.7          -98.4     4.466          0.044         -0.045   \n",
       "\n",
       "       ...  Rvar_log   logg        v_b     abs_G  iso_age_err   kin_age  \\\n",
       "0      ...  4.335097  4.500 -33.411547  5.517761     7.433176  6.050929   \n",
       "1      ...  3.505987  4.574  -4.214296  6.159685     8.361459  5.329557   \n",
       "2      ...  3.252893  4.547  36.144482  5.998116     7.047929  5.374382   \n",
       "3      ...  3.464520  4.560  26.448217  6.161795     8.510323  4.650196   \n",
       "4      ...  4.180735  4.615  -0.966857  6.411296     8.748257  2.800943   \n",
       "...    ...       ...    ...        ...       ...          ...       ...   \n",
       "84819  ...  3.449165  4.500  18.829108  6.176964     6.371766  3.519965   \n",
       "84820  ...  3.255194  4.571 -10.180756  4.676241     4.325101  3.603349   \n",
       "84821  ...  3.309001  4.423   4.480242  4.376738     3.396115  6.606545   \n",
       "84822  ...  4.028109  4.579  -0.407244  5.892401     8.148325  6.852331   \n",
       "84823  ...  3.465831  4.565  24.320181  5.543072     7.545396  5.404530   \n",
       "\n",
       "       iso_age_ave  iso_age_ave_err  kin_age_err     source_id  \n",
       "0         6.389688           759.97     0.671505  2.050232e+18  \n",
       "1         6.602250           496.15     0.834650  2.050232e+18  \n",
       "2         9.921913           443.54     1.041803  2.050236e+18  \n",
       "3         6.560067           469.66     1.334890  2.050233e+18  \n",
       "4         7.478731           388.49     0.448719  2.050232e+18  \n",
       "...            ...              ...          ...           ...  \n",
       "84819    15.195308            59.82     1.223089  2.139326e+18  \n",
       "84820    16.875361            64.17     0.613842  2.139336e+18  \n",
       "84821     4.493451           475.13     0.684779  2.139336e+18  \n",
       "84822     9.580305           574.14     0.544911  2.139342e+18  \n",
       "84823    12.001154           476.57     0.652887  2.139329e+18  \n",
       "\n",
       "[84824 rows x 46 columns]"
      ]
     },
     "execution_count": 3,
     "metadata": {},
     "output_type": "execute_result"
    }
   ],
   "source": [
    "df_rvar_s=pd.read_pickle('minchisq_rvar.pkl')\n",
    "df_rvar_s"
   ]
  },
  {
   "cell_type": "code",
   "execution_count": 46,
   "metadata": {},
   "outputs": [],
   "source": [
    "df_rvar_s=pd.read_pickle('minchisq_rvar.pkl')"
   ]
  },
  {
   "cell_type": "code",
   "execution_count": 56,
   "metadata": {},
   "outputs": [],
   "source": [
    "df_rvar_s.to_pickle('minchisq_rvar.pkl')"
   ]
  },
  {
   "cell_type": "code",
   "execution_count": 50,
   "metadata": {},
   "outputs": [],
   "source": [
    "age_err=[np.std(pd.Series(ages[i,:]).dropna()) for i in range(len(df_rvar_s))] "
   ]
  },
  {
   "cell_type": "code",
   "execution_count": 51,
   "metadata": {},
   "outputs": [],
   "source": [
    "df_rvar_s['kin_age_err']=age_err"
   ]
  },
  {
   "cell_type": "code",
   "execution_count": 55,
   "metadata": {},
   "outputs": [],
   "source": [
    "df_rvar_s=pd.merge(df_rvar_s,pd.read_pickle('NewData/RvarVP_MS_150_w015_bin.pkl')[['KID','source_id']],left_on='KID',right_on='KID',how='inner')"
   ]
  },
  {
   "cell_type": "code",
   "execution_count": 54,
   "metadata": {},
   "outputs": [
    {
     "data": {
      "text/html": [
       "<div>\n",
       "<style scoped>\n",
       "    .dataframe tbody tr th:only-of-type {\n",
       "        vertical-align: middle;\n",
       "    }\n",
       "\n",
       "    .dataframe tbody tr th {\n",
       "        vertical-align: top;\n",
       "    }\n",
       "\n",
       "    .dataframe thead th {\n",
       "        text-align: right;\n",
       "    }\n",
       "</style>\n",
       "<table border=\"1\" class=\"dataframe\">\n",
       "  <thead>\n",
       "    <tr style=\"text-align: right;\">\n",
       "      <th></th>\n",
       "      <th>KIC</th>\n",
       "      <th>iso_mass</th>\n",
       "      <th>iso_mass_err1</th>\n",
       "      <th>iso_mass_err2</th>\n",
       "      <th>iso_teff</th>\n",
       "      <th>iso_teff_err1</th>\n",
       "      <th>iso_teff_err2</th>\n",
       "      <th>iso_logg</th>\n",
       "      <th>iso_logg_err1</th>\n",
       "      <th>iso_logg_err2</th>\n",
       "      <th>...</th>\n",
       "      <th>iso_gof</th>\n",
       "      <th>TAMS\\\\</th>\n",
       "      <th>KID</th>\n",
       "      <th>age</th>\n",
       "      <th>Rvar</th>\n",
       "      <th>teff_calc</th>\n",
       "      <th>Rvar_log</th>\n",
       "      <th>logg</th>\n",
       "      <th>v_b</th>\n",
       "      <th>abs_G</th>\n",
       "    </tr>\n",
       "  </thead>\n",
       "  <tbody>\n",
       "    <tr>\n",
       "      <th>0</th>\n",
       "      <td>757450</td>\n",
       "      <td>0.914</td>\n",
       "      <td>0.062</td>\n",
       "      <td>-0.057</td>\n",
       "      <td>5301.2</td>\n",
       "      <td>111.0</td>\n",
       "      <td>-103.1</td>\n",
       "      <td>4.432</td>\n",
       "      <td>0.045</td>\n",
       "      <td>-0.044</td>\n",
       "      <td>...</td>\n",
       "      <td>1.0</td>\n",
       "      <td>16.1\\\\</td>\n",
       "      <td>757450</td>\n",
       "      <td>3.169943</td>\n",
       "      <td>21632.027626</td>\n",
       "      <td>5313.795979</td>\n",
       "      <td>4.335097</td>\n",
       "      <td>4.500</td>\n",
       "      <td>-33.411547</td>\n",
       "      <td>5.517761</td>\n",
       "    </tr>\n",
       "    <tr>\n",
       "      <th>1</th>\n",
       "      <td>892718</td>\n",
       "      <td>0.782</td>\n",
       "      <td>0.040</td>\n",
       "      <td>-0.046</td>\n",
       "      <td>5000.9</td>\n",
       "      <td>97.3</td>\n",
       "      <td>-90.3</td>\n",
       "      <td>4.570</td>\n",
       "      <td>0.028</td>\n",
       "      <td>-0.036</td>\n",
       "      <td>...</td>\n",
       "      <td>1.0</td>\n",
       "      <td>23.06\\\\</td>\n",
       "      <td>892718</td>\n",
       "      <td>4.666500</td>\n",
       "      <td>3206.175566</td>\n",
       "      <td>5058.354128</td>\n",
       "      <td>3.505987</td>\n",
       "      <td>4.574</td>\n",
       "      <td>-4.214296</td>\n",
       "      <td>6.159685</td>\n",
       "    </tr>\n",
       "    <tr>\n",
       "      <th>2</th>\n",
       "      <td>892772</td>\n",
       "      <td>0.803</td>\n",
       "      <td>0.039</td>\n",
       "      <td>-0.032</td>\n",
       "      <td>4965.0</td>\n",
       "      <td>96.3</td>\n",
       "      <td>-93.6</td>\n",
       "      <td>4.492</td>\n",
       "      <td>0.040</td>\n",
       "      <td>-0.034</td>\n",
       "      <td>...</td>\n",
       "      <td>1.0</td>\n",
       "      <td>24.12\\\\</td>\n",
       "      <td>892772</td>\n",
       "      <td>4.925885</td>\n",
       "      <td>1790.165901</td>\n",
       "      <td>4898.417653</td>\n",
       "      <td>3.252893</td>\n",
       "      <td>4.547</td>\n",
       "      <td>36.144482</td>\n",
       "      <td>5.998116</td>\n",
       "    </tr>\n",
       "    <tr>\n",
       "      <th>3</th>\n",
       "      <td>892832</td>\n",
       "      <td>0.784</td>\n",
       "      <td>0.040</td>\n",
       "      <td>-0.045</td>\n",
       "      <td>4975.7</td>\n",
       "      <td>97.1</td>\n",
       "      <td>-88.2</td>\n",
       "      <td>4.564</td>\n",
       "      <td>0.028</td>\n",
       "      <td>-0.034</td>\n",
       "      <td>...</td>\n",
       "      <td>1.0</td>\n",
       "      <td>23.42\\\\</td>\n",
       "      <td>892832</td>\n",
       "      <td>4.717011</td>\n",
       "      <td>2914.205194</td>\n",
       "      <td>5059.657160</td>\n",
       "      <td>3.464520</td>\n",
       "      <td>4.560</td>\n",
       "      <td>26.448217</td>\n",
       "      <td>6.161795</td>\n",
       "    </tr>\n",
       "    <tr>\n",
       "      <th>4</th>\n",
       "      <td>892834</td>\n",
       "      <td>0.751</td>\n",
       "      <td>0.034</td>\n",
       "      <td>-0.039</td>\n",
       "      <td>4823.2</td>\n",
       "      <td>90.4</td>\n",
       "      <td>-82.2</td>\n",
       "      <td>4.587</td>\n",
       "      <td>0.023</td>\n",
       "      <td>-0.028</td>\n",
       "      <td>...</td>\n",
       "      <td>1.0</td>\n",
       "      <td>27.05\\\\</td>\n",
       "      <td>892834</td>\n",
       "      <td>3.633430</td>\n",
       "      <td>15161.266923</td>\n",
       "      <td>4856.095860</td>\n",
       "      <td>4.180735</td>\n",
       "      <td>4.615</td>\n",
       "      <td>-0.966857</td>\n",
       "      <td>6.411296</td>\n",
       "    </tr>\n",
       "    <tr>\n",
       "      <th>...</th>\n",
       "      <td>...</td>\n",
       "      <td>...</td>\n",
       "      <td>...</td>\n",
       "      <td>...</td>\n",
       "      <td>...</td>\n",
       "      <td>...</td>\n",
       "      <td>...</td>\n",
       "      <td>...</td>\n",
       "      <td>...</td>\n",
       "      <td>...</td>\n",
       "      <td>...</td>\n",
       "      <td>...</td>\n",
       "      <td>...</td>\n",
       "      <td>...</td>\n",
       "      <td>...</td>\n",
       "      <td>...</td>\n",
       "      <td>...</td>\n",
       "      <td>...</td>\n",
       "      <td>...</td>\n",
       "      <td>...</td>\n",
       "      <td>...</td>\n",
       "    </tr>\n",
       "    <tr>\n",
       "      <th>84820</th>\n",
       "      <td>12935144</td>\n",
       "      <td>0.781</td>\n",
       "      <td>0.032</td>\n",
       "      <td>-0.023</td>\n",
       "      <td>4798.5</td>\n",
       "      <td>80.8</td>\n",
       "      <td>-74.4</td>\n",
       "      <td>4.515</td>\n",
       "      <td>0.028</td>\n",
       "      <td>-0.020</td>\n",
       "      <td>...</td>\n",
       "      <td>1.0</td>\n",
       "      <td>27.52\\\\</td>\n",
       "      <td>12935144</td>\n",
       "      <td>4.581993</td>\n",
       "      <td>2812.966704</td>\n",
       "      <td>4623.859643</td>\n",
       "      <td>3.449165</td>\n",
       "      <td>4.500</td>\n",
       "      <td>18.829108</td>\n",
       "      <td>6.176964</td>\n",
       "    </tr>\n",
       "    <tr>\n",
       "      <th>84821</th>\n",
       "      <td>12983952</td>\n",
       "      <td>0.897</td>\n",
       "      <td>0.062</td>\n",
       "      <td>-0.046</td>\n",
       "      <td>5407.1</td>\n",
       "      <td>121.4</td>\n",
       "      <td>-103.9</td>\n",
       "      <td>4.188</td>\n",
       "      <td>0.037</td>\n",
       "      <td>-0.037</td>\n",
       "      <td>...</td>\n",
       "      <td>1.0</td>\n",
       "      <td>15.52\\\\</td>\n",
       "      <td>12983952</td>\n",
       "      <td>4.896960</td>\n",
       "      <td>1799.672842</td>\n",
       "      <td>5347.731327</td>\n",
       "      <td>3.255194</td>\n",
       "      <td>4.571</td>\n",
       "      <td>-10.180756</td>\n",
       "      <td>4.676241</td>\n",
       "    </tr>\n",
       "    <tr>\n",
       "      <th>84822</th>\n",
       "      <td>12984012</td>\n",
       "      <td>1.074</td>\n",
       "      <td>0.071</td>\n",
       "      <td>-0.078</td>\n",
       "      <td>6005.1</td>\n",
       "      <td>116.3</td>\n",
       "      <td>-113.9</td>\n",
       "      <td>4.337</td>\n",
       "      <td>0.046</td>\n",
       "      <td>-0.050</td>\n",
       "      <td>...</td>\n",
       "      <td>1.0</td>\n",
       "      <td>7.49\\\\</td>\n",
       "      <td>12984012</td>\n",
       "      <td>4.455203</td>\n",
       "      <td>2037.048340</td>\n",
       "      <td>6043.922841</td>\n",
       "      <td>3.309001</td>\n",
       "      <td>4.423</td>\n",
       "      <td>4.480242</td>\n",
       "      <td>4.376738</td>\n",
       "    </tr>\n",
       "    <tr>\n",
       "      <th>84823</th>\n",
       "      <td>12984138</td>\n",
       "      <td>0.811</td>\n",
       "      <td>0.048</td>\n",
       "      <td>-0.039</td>\n",
       "      <td>5052.3</td>\n",
       "      <td>90.3</td>\n",
       "      <td>-82.6</td>\n",
       "      <td>4.501</td>\n",
       "      <td>0.041</td>\n",
       "      <td>-0.034</td>\n",
       "      <td>...</td>\n",
       "      <td>1.0</td>\n",
       "      <td>22.31\\\\</td>\n",
       "      <td>12984138</td>\n",
       "      <td>4.025700</td>\n",
       "      <td>10668.635368</td>\n",
       "      <td>5044.668752</td>\n",
       "      <td>4.028109</td>\n",
       "      <td>4.579</td>\n",
       "      <td>-0.407244</td>\n",
       "      <td>5.892401</td>\n",
       "    </tr>\n",
       "    <tr>\n",
       "      <th>84824</th>\n",
       "      <td>12984422</td>\n",
       "      <td>0.905</td>\n",
       "      <td>0.054</td>\n",
       "      <td>-0.053</td>\n",
       "      <td>5187.0</td>\n",
       "      <td>107.7</td>\n",
       "      <td>-98.4</td>\n",
       "      <td>4.466</td>\n",
       "      <td>0.044</td>\n",
       "      <td>-0.045</td>\n",
       "      <td>...</td>\n",
       "      <td>1.0</td>\n",
       "      <td>17.4\\\\</td>\n",
       "      <td>12984422</td>\n",
       "      <td>4.722555</td>\n",
       "      <td>2923.011780</td>\n",
       "      <td>5180.812805</td>\n",
       "      <td>3.465831</td>\n",
       "      <td>4.565</td>\n",
       "      <td>24.320181</td>\n",
       "      <td>5.543072</td>\n",
       "    </tr>\n",
       "  </tbody>\n",
       "</table>\n",
       "<p>84825 rows × 40 columns</p>\n",
       "</div>"
      ],
      "text/plain": [
       "            KIC  iso_mass  iso_mass_err1  iso_mass_err2  iso_teff  \\\n",
       "0        757450     0.914          0.062         -0.057    5301.2   \n",
       "1        892718     0.782          0.040         -0.046    5000.9   \n",
       "2        892772     0.803          0.039         -0.032    4965.0   \n",
       "3        892832     0.784          0.040         -0.045    4975.7   \n",
       "4        892834     0.751          0.034         -0.039    4823.2   \n",
       "...         ...       ...            ...            ...       ...   \n",
       "84820  12935144     0.781          0.032         -0.023    4798.5   \n",
       "84821  12983952     0.897          0.062         -0.046    5407.1   \n",
       "84822  12984012     1.074          0.071         -0.078    6005.1   \n",
       "84823  12984138     0.811          0.048         -0.039    5052.3   \n",
       "84824  12984422     0.905          0.054         -0.053    5187.0   \n",
       "\n",
       "       iso_teff_err1  iso_teff_err2  iso_logg  iso_logg_err1  iso_logg_err2  \\\n",
       "0              111.0         -103.1     4.432          0.045         -0.044   \n",
       "1               97.3          -90.3     4.570          0.028         -0.036   \n",
       "2               96.3          -93.6     4.492          0.040         -0.034   \n",
       "3               97.1          -88.2     4.564          0.028         -0.034   \n",
       "4               90.4          -82.2     4.587          0.023         -0.028   \n",
       "...              ...            ...       ...            ...            ...   \n",
       "84820           80.8          -74.4     4.515          0.028         -0.020   \n",
       "84821          121.4         -103.9     4.188          0.037         -0.037   \n",
       "84822          116.3         -113.9     4.337          0.046         -0.050   \n",
       "84823           90.3          -82.6     4.501          0.041         -0.034   \n",
       "84824          107.7          -98.4     4.466          0.044         -0.045   \n",
       "\n",
       "       ...  iso_gof   TAMS\\\\       KID       age          Rvar    teff_calc  \\\n",
       "0      ...      1.0   16.1\\\\    757450  3.169943  21632.027626  5313.795979   \n",
       "1      ...      1.0  23.06\\\\    892718  4.666500   3206.175566  5058.354128   \n",
       "2      ...      1.0  24.12\\\\    892772  4.925885   1790.165901  4898.417653   \n",
       "3      ...      1.0  23.42\\\\    892832  4.717011   2914.205194  5059.657160   \n",
       "4      ...      1.0  27.05\\\\    892834  3.633430  15161.266923  4856.095860   \n",
       "...    ...      ...      ...       ...       ...           ...          ...   \n",
       "84820  ...      1.0  27.52\\\\  12935144  4.581993   2812.966704  4623.859643   \n",
       "84821  ...      1.0  15.52\\\\  12983952  4.896960   1799.672842  5347.731327   \n",
       "84822  ...      1.0   7.49\\\\  12984012  4.455203   2037.048340  6043.922841   \n",
       "84823  ...      1.0  22.31\\\\  12984138  4.025700  10668.635368  5044.668752   \n",
       "84824  ...      1.0   17.4\\\\  12984422  4.722555   2923.011780  5180.812805   \n",
       "\n",
       "       Rvar_log   logg        v_b     abs_G  \n",
       "0      4.335097  4.500 -33.411547  5.517761  \n",
       "1      3.505987  4.574  -4.214296  6.159685  \n",
       "2      3.252893  4.547  36.144482  5.998116  \n",
       "3      3.464520  4.560  26.448217  6.161795  \n",
       "4      4.180735  4.615  -0.966857  6.411296  \n",
       "...         ...    ...        ...       ...  \n",
       "84820  3.449165  4.500  18.829108  6.176964  \n",
       "84821  3.255194  4.571 -10.180756  4.676241  \n",
       "84822  3.309001  4.423   4.480242  4.376738  \n",
       "84823  4.028109  4.579  -0.407244  5.892401  \n",
       "84824  3.465831  4.565  24.320181  5.543072  \n",
       "\n",
       "[84825 rows x 40 columns]"
      ]
     },
     "execution_count": 54,
     "metadata": {},
     "output_type": "execute_result"
    }
   ],
   "source": [
    "df_rvar_p"
   ]
  },
  {
   "cell_type": "code",
   "execution_count": 83,
   "metadata": {
    "scrolled": false
   },
   "outputs": [
    {
     "data": {
      "text/plain": [
       "['solution_id',\n",
       " 'designation',\n",
       " 'source_id',\n",
       " 'random_index',\n",
       " 'gaia_ref_epoch',\n",
       " 'ra',\n",
       " 'ra_error',\n",
       " 'dec',\n",
       " 'dec_error',\n",
       " 'parallax',\n",
       " 'parallax_error',\n",
       " 'parallax_over_error',\n",
       " 'pmra',\n",
       " 'pmra_error',\n",
       " 'pmdec',\n",
       " 'pmdec_error',\n",
       " 'ra_dec_corr',\n",
       " 'ra_parallax_corr',\n",
       " 'ra_pmra_corr',\n",
       " 'ra_pmdec_corr',\n",
       " 'dec_parallax_corr',\n",
       " 'dec_pmra_corr',\n",
       " 'dec_pmdec_corr',\n",
       " 'parallax_pmra_corr',\n",
       " 'parallax_pmdec_corr',\n",
       " 'pmra_pmdec_corr',\n",
       " 'astrometric_n_obs_al',\n",
       " 'astrometric_n_obs_ac',\n",
       " 'astrometric_n_good_obs_al',\n",
       " 'astrometric_n_bad_obs_al',\n",
       " 'astrometric_gof_al',\n",
       " 'astrometric_chi2_al',\n",
       " 'astrometric_excess_noise',\n",
       " 'astrometric_excess_noise_sig',\n",
       " 'astrometric_params_solved',\n",
       " 'astrometric_primary_flag',\n",
       " 'astrometric_weight_al',\n",
       " 'astrometric_pseudo_colour',\n",
       " 'astrometric_pseudo_colour_error',\n",
       " 'mean_varpi_factor_al',\n",
       " 'astrometric_matched_observations',\n",
       " 'visibility_periods_used',\n",
       " 'astrometric_sigma5d_max',\n",
       " 'frame_rotator_object_type',\n",
       " 'matched_observations',\n",
       " 'duplicated_source',\n",
       " 'phot_g_n_obs',\n",
       " 'phot_g_mean_flux',\n",
       " 'phot_g_mean_flux_error',\n",
       " 'phot_g_mean_flux_over_error',\n",
       " 'phot_g_mean_mag',\n",
       " 'phot_bp_n_obs',\n",
       " 'phot_bp_mean_flux',\n",
       " 'phot_bp_mean_flux_error',\n",
       " 'phot_bp_mean_flux_over_error',\n",
       " 'phot_bp_mean_mag',\n",
       " 'phot_rp_n_obs',\n",
       " 'phot_rp_mean_flux',\n",
       " 'phot_rp_mean_flux_error',\n",
       " 'phot_rp_mean_flux_over_error',\n",
       " 'phot_rp_mean_mag',\n",
       " 'phot_bp_rp_excess_factor',\n",
       " 'phot_proc_mode',\n",
       " 'bp_rp',\n",
       " 'bp_g',\n",
       " 'g_rp',\n",
       " 'radial_velocity',\n",
       " 'radial_velocity_error',\n",
       " 'rv_nb_transits',\n",
       " 'rv_template_teff',\n",
       " 'rv_template_logg',\n",
       " 'rv_template_fe_h',\n",
       " 'phot_variable_flag',\n",
       " 'l',\n",
       " 'b',\n",
       " 'ecl_lon',\n",
       " 'ecl_lat',\n",
       " 'priam_flags',\n",
       " 'teff_val',\n",
       " 'teff_percentile_lower',\n",
       " 'teff_percentile_upper',\n",
       " 'a_g_val',\n",
       " 'a_g_percentile_lower',\n",
       " 'a_g_percentile_upper',\n",
       " 'e_bp_min_rp_val',\n",
       " 'e_bp_min_rp_percentile_lower',\n",
       " 'e_bp_min_rp_percentile_upper',\n",
       " 'flame_flags',\n",
       " 'radius_val',\n",
       " 'radius_percentile_lower',\n",
       " 'radius_percentile_upper',\n",
       " 'lum_val',\n",
       " 'lum_percentile_lower',\n",
       " 'lum_percentile_upper',\n",
       " 'datalink_url',\n",
       " 'epoch_photometry_url',\n",
       " 'kepid',\n",
       " 'ra_kic',\n",
       " 'dec_kic',\n",
       " 'r_est',\n",
       " 'r_lo',\n",
       " 'r_hi',\n",
       " 'r_length_prior',\n",
       " 'r_result_flag',\n",
       " 'r_modality_flag',\n",
       " 'tm_designation',\n",
       " 'kepmag',\n",
       " 'teff',\n",
       " 'teff_err1',\n",
       " 'teff_err2',\n",
       " 'teff_prov',\n",
       " 'logg',\n",
       " 'logg_err1',\n",
       " 'logg_err2',\n",
       " 'logg_prov',\n",
       " 'feh',\n",
       " 'feh_err1',\n",
       " 'feh_err2',\n",
       " 'feh_prov',\n",
       " 'radius',\n",
       " 'radius_err1',\n",
       " 'radius_err2',\n",
       " 'mass',\n",
       " 'mass_err1',\n",
       " 'mass_err2',\n",
       " 'prov_sec',\n",
       " 'nconfp',\n",
       " 'nkoi',\n",
       " 'ntce',\n",
       " 'jmag',\n",
       " 'hmag',\n",
       " 'kmag',\n",
       " 'planet?',\n",
       " 'kepler_gaia_ang_dist',\n",
       " 'KID',\n",
       " 'Rvar',\n",
       " 'ebv',\n",
       " 'Av',\n",
       " 'Av_errp',\n",
       " 'Av_errm',\n",
       " 'Av_std',\n",
       " 'bp_dered',\n",
       " 'rp_dered',\n",
       " 'bprp_dered',\n",
       " 'G_dered',\n",
       " 'teff_calc',\n",
       " 'v_t',\n",
       " 'v_b',\n",
       " 'abs_G',\n",
       " 'Rvar_log',\n",
       " ' vd',\n",
       " ' vd_err',\n",
       " 'age',\n",
       " 'age_err']"
      ]
     },
     "execution_count": 83,
     "metadata": {},
     "output_type": "execute_result"
    }
   ],
   "source": [
    "list(pd.read_pickle('NewData/RvarVP_MS_150_w015_bin.pkl').columns)"
   ]
  },
  {
   "cell_type": "code",
   "execution_count": 45,
   "metadata": {},
   "outputs": [],
   "source": [
    "df=pd.read_pickle('NewData/RvarVP_MS_150_w015_bin.pkl')"
   ]
  },
  {
   "cell_type": "code",
   "execution_count": 92,
   "metadata": {
    "scrolled": true
   },
   "outputs": [
    {
     "data": {
      "text/plain": [
       "[<matplotlib.lines.Line2D at 0x1a4603d438>]"
      ]
     },
     "execution_count": 92,
     "metadata": {},
     "output_type": "execute_result"
    },
    {
     "data": {
      "image/png": "[encoded data removed]",
      "text/plain": [
       "<Figure size 432x288 with 1 Axes>"
      ]
     },
     "metadata": {
      "needs_background": "light"
     },
     "output_type": "display_data"
    }
   ],
   "source": [
    "plt.plot(df['teff_val'],df['Prot'],'k.')"
   ]
  },
  {
   "cell_type": "code",
   "execution_count": 3,
   "metadata": {},
   "outputs": [],
   "source": [
    "def getVs(px,pmra,pmdec,ra,dec):\n",
    "    \"\"\" Calculates tangential velocity (v_tan) and vertical velocity proximation (v_b).\n",
    "    \n",
    "    Args:\n",
    "      df ([Pandas DataFrame]): DataFrame contains columns 'parallax', 'pmra', 'pmdec', 'ra', 'dec', which are parallax, ra proper motion, dec propermotion, right ascension and declination, respectively  \n",
    "    \n",
    "    Returns:\n",
    "      :v_t ([array-like]): Tangential velocity\n",
    "      :v_b ([array-like]): Proxy for vertical velocity\n",
    "    \"\"\"\n",
    "    d = coord.Distance(parallax=np.array(px) * u.mas,allow_negative=True)\n",
    "    vra = (np.array(pmra)*u.mas/u.yr * d).to(u.km/u.s, u.dimensionless_angles())\n",
    "    vdec = (np.array(pmdec)*u.mas/u.yr * d).to(u.km/u.s, u.dimensionless_angles())\n",
    "    v_t=np.sqrt(np.power(vra,2.)+np.power(vdec,2.)) # vtan\n",
    "    # v_b as a proxy for v_z:\n",
    "    c = coord.SkyCoord(ra=np.array(ra)*u.deg, dec=np.array(dec)*u.deg, distance=d,\n",
    "                  pm_ra_cosdec=np.array(pmra)*u.mas/u.yr,\n",
    "                  pm_dec=np.array(pmdec)*u.mas/u.yr)\n",
    "    gal = c.galactic\n",
    "    v_b = (gal.pm_b * gal.distance).to(u.km/u.s, u.dimensionless_angles()) # vb\n",
    "    return v_t,v_b\n",
    "\n",
    "def getErr(x,x_errs,numb):\n",
    "    newX=np.zeros((len(x),numb))\n",
    "    for i in range(len(x)):\n",
    "        newX[i,:]=np.random.normal(x[i], x_errs[i], numb)\n",
    "    return newX\n",
    "\n"
   ]
  },
  {
   "cell_type": "code",
   "execution_count": null,
   "metadata": {},
   "outputs": [],
   "source": [
    "testing=10000\n",
    "px_s=getErr(df['parallax'].values,df['parallax_error'].values,testing)\n",
    "pmra_s=getErr(df['pmra'].values,df['pmra_error'].values,testing)\n",
    "pmdec_s=getErr(df['pmdec'].values,df['pmdec_error'].values,testing)\n",
    "ra_s=getErr(df['ra'].values,df['ra_error'].values,testing)\n",
    "dec_s=getErr(df['dec'].values,df['dec_error'].values,testing)\n"
   ]
  },
  {
   "cell_type": "code",
   "execution_count": 12,
   "metadata": {},
   "outputs": [
    {
     "data": {
      "text/plain": [
       "(88561, 10000)"
      ]
     },
     "execution_count": 12,
     "metadata": {},
     "output_type": "execute_result"
    }
   ],
   "source": [
    "np.shape(px_s)"
   ]
  },
  {
   "cell_type": "code",
   "execution_count": 10,
   "metadata": {
    "scrolled": true
   },
   "outputs": [
    {
     "name": "stderr",
     "output_type": "stream",
     "text": [
      "100%|██████████| 10000/10000 [5:13:36<00:00,  1.88s/it] \n"
     ]
    }
   ],
   "source": [
    "testing=10000\n",
    "vts=np.zeros((len(df),testing))\n",
    "vbs=np.zeros((len(df),testing))\n",
    "for i in trange(testing):\n",
    "    px_s=getErr(df['parallax'].values,df['parallax_error'].values,1)\n",
    "    pmra_s=getErr(df['pmra'].values,df['pmra_error'].values,1)\n",
    "    pmdec_s=getErr(df['pmdec'].values,df['pmdec_error'].values,1)\n",
    "    ra_s=getErr(df['ra'].values,df['ra_error'].values,1)\n",
    "    dec_s=getErr(df['dec'].values,df['dec_error'].values,1)\n",
    "    vts[:,i],vbs[:,i]=getVs(px_s[:,0],pmra_s[:,0],pmdec_s[:,0],ra_s[:,0],dec_s[:,0])\n",
    "    \n",
    "    "
   ]
  },
  {
   "cell_type": "code",
   "execution_count": 17,
   "metadata": {},
   "outputs": [
    {
     "name": "stderr",
     "output_type": "stream",
     "text": [
      "100%|██████████| 88561/88561 [02:02<00:00, 725.52it/s] \n"
     ]
    }
   ],
   "source": [
    "vt_err=np.zeros(len(df))\n",
    "vb_err=np.zeros(len(df))\n",
    "\n",
    "for i in trange(len(df)):\n",
    "    vt_err[i]=np.std(vts[i,:])\n",
    "    vb_err[i]=np.std(vbs[i,:])"
   ]
  },
  {
   "cell_type": "code",
   "execution_count": 16,
   "metadata": {},
   "outputs": [
    {
     "data": {
      "text/plain": [
       "array([0.77786295, 0.77786295, 0.77786295, ..., 0.77786295, 0.77786295,\n",
       "       0.77786295])"
      ]
     },
     "execution_count": 16,
     "metadata": {},
     "output_type": "execute_result"
    }
   ],
   "source": []
  },
  {
   "cell_type": "code",
   "execution_count": 18,
   "metadata": {},
   "outputs": [],
   "source": [
    "df['v_t_err']=vt_err\n",
    "df['v_b_err']=vb_err\n"
   ]
  },
  {
   "cell_type": "code",
   "execution_count": 4,
   "metadata": {},
   "outputs": [],
   "source": [
    "def m_to_M(m, D):\n",
    "    \"\"\"\n",
    "    Convert apparent magnitude to absolute magnitude.\n",
    "    \"\"\"\n",
    "    return m - 5*np.log10(D)-10"
   ]
  },
  {
   "cell_type": "code",
   "execution_count": 5,
   "metadata": {},
   "outputs": [
    {
     "name": "stderr",
     "output_type": "stream",
     "text": [
      "  0%|          | 0/10000 [00:00<?, ?it/s]/Users/lucy/anaconda3/lib/python3.7/site-packages/ipykernel_launcher.py:5: RuntimeWarning: invalid value encountered in log10\n",
      "  \"\"\"\n",
      "100%|██████████| 10000/10000 [1:01:29<00:00,  2.71it/s]\n"
     ]
    }
   ],
   "source": [
    "testing=10000\n",
    "absg_err=np.zeros((len(df),testing))\n",
    "\n",
    "for i in trange(testing):\n",
    "    px_s=getErr(df['parallax'].values,df['parallax_error'].values,1)\n",
    "    absg_err[:,i]=m_to_M(df.phot_g_mean_mag.values, 1./px_s[:,0])\n"
   ]
  },
  {
   "cell_type": "code",
   "execution_count": 6,
   "metadata": {},
   "outputs": [
    {
     "name": "stderr",
     "output_type": "stream",
     "text": [
      "100%|██████████| 88561/88561 [00:39<00:00, 2224.82it/s]\n"
     ]
    }
   ],
   "source": [
    "absg_err_err=np.zeros(len(df))\n",
    "for i in trange(len(df)):\n",
    "    absg_err_err[i]=np.std(absg_err[i,:])"
   ]
  },
  {
   "cell_type": "code",
   "execution_count": 7,
   "metadata": {},
   "outputs": [],
   "source": [
    "df['abs_G_err']=absg_err_err"
   ]
  },
  {
   "cell_type": "code",
   "execution_count": 47,
   "metadata": {},
   "outputs": [
    {
     "data": {
      "text/plain": [
       "57"
      ]
     },
     "execution_count": 47,
     "metadata": {},
     "output_type": "execute_result"
    }
   ],
   "source": [
    "#add_col=['v_t_err','v_b_err','abs_G_err']\n",
    "add_col=['designation']\n",
    "columns_non=[i for i in df_rvar_s.columns if i not in add_col]\n",
    "len(columns_non)"
   ]
  },
  {
   "cell_type": "code",
   "execution_count": 48,
   "metadata": {},
   "outputs": [],
   "source": [
    "df_rvar_s=pd.merge(df_rvar_s[columns_non],df[np.append(['KID'],add_col)],left_on='KID',right_on='KID',how='inner')"
   ]
  },
  {
   "cell_type": "code",
   "execution_count": 49,
   "metadata": {},
   "outputs": [
    {
     "data": {
      "text/html": [
       "<div>\n",
       "<style scoped>\n",
       "    .dataframe tbody tr th:only-of-type {\n",
       "        vertical-align: middle;\n",
       "    }\n",
       "\n",
       "    .dataframe tbody tr th {\n",
       "        vertical-align: top;\n",
       "    }\n",
       "\n",
       "    .dataframe thead th {\n",
       "        text-align: right;\n",
       "    }\n",
       "</style>\n",
       "<table border=\"1\" class=\"dataframe\">\n",
       "  <thead>\n",
       "    <tr style=\"text-align: right;\">\n",
       "      <th></th>\n",
       "      <th>KIC</th>\n",
       "      <th>iso_mass</th>\n",
       "      <th>iso_mass_err1</th>\n",
       "      <th>iso_mass_err2</th>\n",
       "      <th>iso_teff</th>\n",
       "      <th>iso_teff_err1</th>\n",
       "      <th>iso_teff_err2</th>\n",
       "      <th>iso_logg</th>\n",
       "      <th>iso_logg_err1</th>\n",
       "      <th>iso_logg_err2</th>\n",
       "      <th>...</th>\n",
       "      <th>abs_G_err</th>\n",
       "      <th>teff_val_err</th>\n",
       "      <th>Rvar_err</th>\n",
       "      <th>Rvar_new</th>\n",
       "      <th>teff_calc_new</th>\n",
       "      <th>abs_G_new</th>\n",
       "      <th>v_b_new</th>\n",
       "      <th>kin_age_err_bs</th>\n",
       "      <th>vel_dis</th>\n",
       "      <th>designation</th>\n",
       "    </tr>\n",
       "  </thead>\n",
       "  <tbody>\n",
       "    <tr>\n",
       "      <th>0</th>\n",
       "      <td>757450</td>\n",
       "      <td>0.914</td>\n",
       "      <td>0.062</td>\n",
       "      <td>-0.057</td>\n",
       "      <td>5301.2</td>\n",
       "      <td>111.0</td>\n",
       "      <td>-103.1</td>\n",
       "      <td>4.432</td>\n",
       "      <td>0.045</td>\n",
       "      <td>-0.044</td>\n",
       "      <td>...</td>\n",
       "      <td>0.048368</td>\n",
       "      <td>95.500000</td>\n",
       "      <td>0.0</td>\n",
       "      <td>21632.027626</td>\n",
       "      <td>5313.256900</td>\n",
       "      <td>5.455146</td>\n",
       "      <td>-35.277039</td>\n",
       "      <td>1.118617</td>\n",
       "      <td>18.600038</td>\n",
       "      <td>Gaia DR2 2050231848829944320</td>\n",
       "    </tr>\n",
       "    <tr>\n",
       "      <th>1</th>\n",
       "      <td>892718</td>\n",
       "      <td>0.782</td>\n",
       "      <td>0.040</td>\n",
       "      <td>-0.046</td>\n",
       "      <td>5000.9</td>\n",
       "      <td>97.3</td>\n",
       "      <td>-90.3</td>\n",
       "      <td>4.570</td>\n",
       "      <td>0.028</td>\n",
       "      <td>-0.036</td>\n",
       "      <td>...</td>\n",
       "      <td>0.072800</td>\n",
       "      <td>41.750000</td>\n",
       "      <td>0.0</td>\n",
       "      <td>3206.175566</td>\n",
       "      <td>5064.927763</td>\n",
       "      <td>6.292640</td>\n",
       "      <td>-3.936550</td>\n",
       "      <td>1.618687</td>\n",
       "      <td>17.131106</td>\n",
       "      <td>Gaia DR2 2050232364226074624</td>\n",
       "    </tr>\n",
       "    <tr>\n",
       "      <th>2</th>\n",
       "      <td>892772</td>\n",
       "      <td>0.803</td>\n",
       "      <td>0.039</td>\n",
       "      <td>-0.032</td>\n",
       "      <td>4965.0</td>\n",
       "      <td>96.3</td>\n",
       "      <td>-93.6</td>\n",
       "      <td>4.492</td>\n",
       "      <td>0.040</td>\n",
       "      <td>-0.034</td>\n",
       "      <td>...</td>\n",
       "      <td>0.108144</td>\n",
       "      <td>130.961426</td>\n",
       "      <td>0.0</td>\n",
       "      <td>1790.165901</td>\n",
       "      <td>4991.228808</td>\n",
       "      <td>5.994973</td>\n",
       "      <td>34.959310</td>\n",
       "      <td>2.666831</td>\n",
       "      <td>17.199199</td>\n",
       "      <td>Gaia DR2 2050235731480463616</td>\n",
       "    </tr>\n",
       "    <tr>\n",
       "      <th>3</th>\n",
       "      <td>892832</td>\n",
       "      <td>0.784</td>\n",
       "      <td>0.040</td>\n",
       "      <td>-0.045</td>\n",
       "      <td>4975.7</td>\n",
       "      <td>97.1</td>\n",
       "      <td>-88.2</td>\n",
       "      <td>4.564</td>\n",
       "      <td>0.028</td>\n",
       "      <td>-0.034</td>\n",
       "      <td>...</td>\n",
       "      <td>0.056932</td>\n",
       "      <td>89.566162</td>\n",
       "      <td>0.0</td>\n",
       "      <td>2914.205194</td>\n",
       "      <td>5067.718138</td>\n",
       "      <td>6.121626</td>\n",
       "      <td>26.577679</td>\n",
       "      <td>1.696985</td>\n",
       "      <td>16.163337</td>\n",
       "      <td>Gaia DR2 2050232776542967680</td>\n",
       "    </tr>\n",
       "    <tr>\n",
       "      <th>4</th>\n",
       "      <td>892834</td>\n",
       "      <td>0.751</td>\n",
       "      <td>0.034</td>\n",
       "      <td>-0.039</td>\n",
       "      <td>4823.2</td>\n",
       "      <td>90.4</td>\n",
       "      <td>-82.2</td>\n",
       "      <td>4.587</td>\n",
       "      <td>0.023</td>\n",
       "      <td>-0.028</td>\n",
       "      <td>...</td>\n",
       "      <td>0.030969</td>\n",
       "      <td>228.925049</td>\n",
       "      <td>0.0</td>\n",
       "      <td>15161.266923</td>\n",
       "      <td>4744.037378</td>\n",
       "      <td>6.376287</td>\n",
       "      <td>-0.851973</td>\n",
       "      <td>1.701146</td>\n",
       "      <td>11.371647</td>\n",
       "      <td>Gaia DR2 2050232089348169856</td>\n",
       "    </tr>\n",
       "    <tr>\n",
       "      <th>...</th>\n",
       "      <td>...</td>\n",
       "      <td>...</td>\n",
       "      <td>...</td>\n",
       "      <td>...</td>\n",
       "      <td>...</td>\n",
       "      <td>...</td>\n",
       "      <td>...</td>\n",
       "      <td>...</td>\n",
       "      <td>...</td>\n",
       "      <td>...</td>\n",
       "      <td>...</td>\n",
       "      <td>...</td>\n",
       "      <td>...</td>\n",
       "      <td>...</td>\n",
       "      <td>...</td>\n",
       "      <td>...</td>\n",
       "      <td>...</td>\n",
       "      <td>...</td>\n",
       "      <td>...</td>\n",
       "      <td>...</td>\n",
       "      <td>...</td>\n",
       "    </tr>\n",
       "    <tr>\n",
       "      <th>84028</th>\n",
       "      <td>12935144</td>\n",
       "      <td>0.781</td>\n",
       "      <td>0.032</td>\n",
       "      <td>-0.023</td>\n",
       "      <td>4798.5</td>\n",
       "      <td>80.8</td>\n",
       "      <td>-74.4</td>\n",
       "      <td>4.515</td>\n",
       "      <td>0.028</td>\n",
       "      <td>-0.020</td>\n",
       "      <td>...</td>\n",
       "      <td>0.038313</td>\n",
       "      <td>90.559814</td>\n",
       "      <td>0.0</td>\n",
       "      <td>2812.966704</td>\n",
       "      <td>4873.988467</td>\n",
       "      <td>6.144015</td>\n",
       "      <td>18.589346</td>\n",
       "      <td>2.031084</td>\n",
       "      <td>13.146935</td>\n",
       "      <td>Gaia DR2 2139325653978247808</td>\n",
       "    </tr>\n",
       "    <tr>\n",
       "      <th>84029</th>\n",
       "      <td>12983952</td>\n",
       "      <td>0.897</td>\n",
       "      <td>0.062</td>\n",
       "      <td>-0.046</td>\n",
       "      <td>5407.1</td>\n",
       "      <td>121.4</td>\n",
       "      <td>-103.9</td>\n",
       "      <td>4.188</td>\n",
       "      <td>0.037</td>\n",
       "      <td>-0.037</td>\n",
       "      <td>...</td>\n",
       "      <td>0.058895</td>\n",
       "      <td>91.278564</td>\n",
       "      <td>0.0</td>\n",
       "      <td>1799.672842</td>\n",
       "      <td>5337.222521</td>\n",
       "      <td>4.794033</td>\n",
       "      <td>-9.283707</td>\n",
       "      <td>2.122039</td>\n",
       "      <td>13.343811</td>\n",
       "      <td>Gaia DR2 2139336408576560512</td>\n",
       "    </tr>\n",
       "    <tr>\n",
       "      <th>84030</th>\n",
       "      <td>12984012</td>\n",
       "      <td>1.074</td>\n",
       "      <td>0.071</td>\n",
       "      <td>-0.078</td>\n",
       "      <td>6005.1</td>\n",
       "      <td>116.3</td>\n",
       "      <td>-113.9</td>\n",
       "      <td>4.337</td>\n",
       "      <td>0.046</td>\n",
       "      <td>-0.050</td>\n",
       "      <td>...</td>\n",
       "      <td>0.075262</td>\n",
       "      <td>287.665039</td>\n",
       "      <td>0.0</td>\n",
       "      <td>2037.048340</td>\n",
       "      <td>6339.111888</td>\n",
       "      <td>4.363923</td>\n",
       "      <td>4.436810</td>\n",
       "      <td>1.459457</td>\n",
       "      <td>19.784621</td>\n",
       "      <td>Gaia DR2 2139336099338925312</td>\n",
       "    </tr>\n",
       "    <tr>\n",
       "      <th>84031</th>\n",
       "      <td>12984138</td>\n",
       "      <td>0.811</td>\n",
       "      <td>0.048</td>\n",
       "      <td>-0.039</td>\n",
       "      <td>5052.3</td>\n",
       "      <td>90.3</td>\n",
       "      <td>-82.6</td>\n",
       "      <td>4.501</td>\n",
       "      <td>0.041</td>\n",
       "      <td>-0.034</td>\n",
       "      <td>...</td>\n",
       "      <td>0.065799</td>\n",
       "      <td>75.750000</td>\n",
       "      <td>0.0</td>\n",
       "      <td>10668.635368</td>\n",
       "      <td>5184.729625</td>\n",
       "      <td>5.970433</td>\n",
       "      <td>-0.967112</td>\n",
       "      <td>1.025516</td>\n",
       "      <td>20.067518</td>\n",
       "      <td>Gaia DR2 2139341768695774336</td>\n",
       "    </tr>\n",
       "    <tr>\n",
       "      <th>84032</th>\n",
       "      <td>12984422</td>\n",
       "      <td>0.905</td>\n",
       "      <td>0.054</td>\n",
       "      <td>-0.053</td>\n",
       "      <td>5187.0</td>\n",
       "      <td>107.7</td>\n",
       "      <td>-98.4</td>\n",
       "      <td>4.466</td>\n",
       "      <td>0.044</td>\n",
       "      <td>-0.045</td>\n",
       "      <td>...</td>\n",
       "      <td>0.075203</td>\n",
       "      <td>60.407471</td>\n",
       "      <td>0.0</td>\n",
       "      <td>2923.011780</td>\n",
       "      <td>5230.221336</td>\n",
       "      <td>5.476869</td>\n",
       "      <td>23.710719</td>\n",
       "      <td>1.077963</td>\n",
       "      <td>17.260389</td>\n",
       "      <td>Gaia DR2 2139329399189739392</td>\n",
       "    </tr>\n",
       "  </tbody>\n",
       "</table>\n",
       "<p>84033 rows × 58 columns</p>\n",
       "</div>"
      ],
      "text/plain": [
       "            KIC  iso_mass  iso_mass_err1  iso_mass_err2  iso_teff  \\\n",
       "0        757450     0.914          0.062         -0.057    5301.2   \n",
       "1        892718     0.782          0.040         -0.046    5000.9   \n",
       "2        892772     0.803          0.039         -0.032    4965.0   \n",
       "3        892832     0.784          0.040         -0.045    4975.7   \n",
       "4        892834     0.751          0.034         -0.039    4823.2   \n",
       "...         ...       ...            ...            ...       ...   \n",
       "84028  12935144     0.781          0.032         -0.023    4798.5   \n",
       "84029  12983952     0.897          0.062         -0.046    5407.1   \n",
       "84030  12984012     1.074          0.071         -0.078    6005.1   \n",
       "84031  12984138     0.811          0.048         -0.039    5052.3   \n",
       "84032  12984422     0.905          0.054         -0.053    5187.0   \n",
       "\n",
       "       iso_teff_err1  iso_teff_err2  iso_logg  iso_logg_err1  iso_logg_err2  \\\n",
       "0              111.0         -103.1     4.432          0.045         -0.044   \n",
       "1               97.3          -90.3     4.570          0.028         -0.036   \n",
       "2               96.3          -93.6     4.492          0.040         -0.034   \n",
       "3               97.1          -88.2     4.564          0.028         -0.034   \n",
       "4               90.4          -82.2     4.587          0.023         -0.028   \n",
       "...              ...            ...       ...            ...            ...   \n",
       "84028           80.8          -74.4     4.515          0.028         -0.020   \n",
       "84029          121.4         -103.9     4.188          0.037         -0.037   \n",
       "84030          116.3         -113.9     4.337          0.046         -0.050   \n",
       "84031           90.3          -82.6     4.501          0.041         -0.034   \n",
       "84032          107.7          -98.4     4.466          0.044         -0.045   \n",
       "\n",
       "       ...  abs_G_err  teff_val_err  Rvar_err      Rvar_new  teff_calc_new  \\\n",
       "0      ...   0.048368     95.500000       0.0  21632.027626    5313.256900   \n",
       "1      ...   0.072800     41.750000       0.0   3206.175566    5064.927763   \n",
       "2      ...   0.108144    130.961426       0.0   1790.165901    4991.228808   \n",
       "3      ...   0.056932     89.566162       0.0   2914.205194    5067.718138   \n",
       "4      ...   0.030969    228.925049       0.0  15161.266923    4744.037378   \n",
       "...    ...        ...           ...       ...           ...            ...   \n",
       "84028  ...   0.038313     90.559814       0.0   2812.966704    4873.988467   \n",
       "84029  ...   0.058895     91.278564       0.0   1799.672842    5337.222521   \n",
       "84030  ...   0.075262    287.665039       0.0   2037.048340    6339.111888   \n",
       "84031  ...   0.065799     75.750000       0.0  10668.635368    5184.729625   \n",
       "84032  ...   0.075203     60.407471       0.0   2923.011780    5230.221336   \n",
       "\n",
       "       abs_G_new    v_b_new  kin_age_err_bs    vel_dis  \\\n",
       "0       5.455146 -35.277039        1.118617  18.600038   \n",
       "1       6.292640  -3.936550        1.618687  17.131106   \n",
       "2       5.994973  34.959310        2.666831  17.199199   \n",
       "3       6.121626  26.577679        1.696985  16.163337   \n",
       "4       6.376287  -0.851973        1.701146  11.371647   \n",
       "...          ...        ...             ...        ...   \n",
       "84028   6.144015  18.589346        2.031084  13.146935   \n",
       "84029   4.794033  -9.283707        2.122039  13.343811   \n",
       "84030   4.363923   4.436810        1.459457  19.784621   \n",
       "84031   5.970433  -0.967112        1.025516  20.067518   \n",
       "84032   5.476869  23.710719        1.077963  17.260389   \n",
       "\n",
       "                        designation  \n",
       "0      Gaia DR2 2050231848829944320  \n",
       "1      Gaia DR2 2050232364226074624  \n",
       "2      Gaia DR2 2050235731480463616  \n",
       "3      Gaia DR2 2050232776542967680  \n",
       "4      Gaia DR2 2050232089348169856  \n",
       "...                             ...  \n",
       "84028  Gaia DR2 2139325653978247808  \n",
       "84029  Gaia DR2 2139336408576560512  \n",
       "84030  Gaia DR2 2139336099338925312  \n",
       "84031  Gaia DR2 2139341768695774336  \n",
       "84032  Gaia DR2 2139329399189739392  \n",
       "\n",
       "[84033 rows x 58 columns]"
      ]
     },
     "execution_count": 49,
     "metadata": {},
     "output_type": "execute_result"
    }
   ],
   "source": [
    "df_rvar_s"
   ]
  },
  {
   "cell_type": "code",
   "execution_count": 52,
   "metadata": {},
   "outputs": [],
   "source": [
    "df_rvar_s.to_pickle('minchisq_rvar.pkl')"
   ]
  },
  {
   "cell_type": "code",
   "execution_count": 15,
   "metadata": {},
   "outputs": [
    {
     "data": {
      "text/plain": [
       "0        5313.795979\n",
       "1        3783.045568\n",
       "2        5058.354128\n",
       "3        4898.417653\n",
       "4        5059.657160\n",
       "            ...     \n",
       "88556    5347.731327\n",
       "88557    6043.922841\n",
       "88558    5044.668752\n",
       "88559    5305.874615\n",
       "88560    5180.812805\n",
       "Name: teff_calc, Length: 88561, dtype: float64"
      ]
     },
     "execution_count": 15,
     "metadata": {},
     "output_type": "execute_result"
    }
   ],
   "source": [
    "df['teff_calc']"
   ]
  },
  {
   "cell_type": "code",
   "execution_count": 16,
   "metadata": {},
   "outputs": [
    {
     "data": {
      "text/plain": [
       "0         95.500000\n",
       "1        440.333252\n",
       "2         41.750000\n",
       "3        130.961426\n",
       "4         89.566162\n",
       "            ...    \n",
       "88556     91.278564\n",
       "88557    287.665039\n",
       "88558     75.750000\n",
       "88559    505.108887\n",
       "88560     60.407471\n",
       "Name: teff_val_err, Length: 88561, dtype: float64"
      ]
     },
     "execution_count": 16,
     "metadata": {},
     "output_type": "execute_result"
    }
   ],
   "source": [
    "df['teff_val_err']=(df['teff_percentile_upper']-df['teff_percentile_lower'])/2.\n",
    "df['teff_val_err']\n"
   ]
  },
  {
   "cell_type": "code",
   "execution_count": 17,
   "metadata": {},
   "outputs": [],
   "source": [
    "df_rvar_s=pd.merge(df_rvar_s,df[np.append(['KID'],['teff_val_err'])],left_on='KID',right_on='KID',how='inner')\n",
    "\n"
   ]
  },
  {
   "cell_type": "code",
   "execution_count": 50,
   "metadata": {},
   "outputs": [
    {
     "data": {
      "text/html": [
       "<div>\n",
       "<style scoped>\n",
       "    .dataframe tbody tr th:only-of-type {\n",
       "        vertical-align: middle;\n",
       "    }\n",
       "\n",
       "    .dataframe tbody tr th {\n",
       "        vertical-align: top;\n",
       "    }\n",
       "\n",
       "    .dataframe thead th {\n",
       "        text-align: right;\n",
       "    }\n",
       "</style>\n",
       "<table border=\"1\" class=\"dataframe\">\n",
       "  <thead>\n",
       "    <tr style=\"text-align: right;\">\n",
       "      <th></th>\n",
       "      <th>KIC</th>\n",
       "      <th>iso_mass</th>\n",
       "      <th>iso_mass_err1</th>\n",
       "      <th>iso_mass_err2</th>\n",
       "      <th>iso_teff</th>\n",
       "      <th>iso_teff_err1</th>\n",
       "      <th>iso_teff_err2</th>\n",
       "      <th>iso_logg</th>\n",
       "      <th>iso_logg_err1</th>\n",
       "      <th>iso_logg_err2</th>\n",
       "      <th>...</th>\n",
       "      <th>v_b_err</th>\n",
       "      <th>abs_G_err</th>\n",
       "      <th>teff_val_err</th>\n",
       "      <th>Rvar_err</th>\n",
       "      <th>Rvar_new</th>\n",
       "      <th>teff_calc_new</th>\n",
       "      <th>abs_G_new</th>\n",
       "      <th>v_b_new</th>\n",
       "      <th>kin_age_err_bs</th>\n",
       "      <th>vel_dis</th>\n",
       "    </tr>\n",
       "  </thead>\n",
       "  <tbody>\n",
       "    <tr>\n",
       "      <th>0</th>\n",
       "      <td>757450</td>\n",
       "      <td>0.914</td>\n",
       "      <td>0.062</td>\n",
       "      <td>-0.057</td>\n",
       "      <td>5301.2</td>\n",
       "      <td>111.0</td>\n",
       "      <td>-103.1</td>\n",
       "      <td>4.432</td>\n",
       "      <td>0.045</td>\n",
       "      <td>-0.044</td>\n",
       "      <td>...</td>\n",
       "      <td>0.768051</td>\n",
       "      <td>0.048368</td>\n",
       "      <td>95.500000</td>\n",
       "      <td>0.0</td>\n",
       "      <td>21632.027626</td>\n",
       "      <td>5313.256900</td>\n",
       "      <td>5.455146</td>\n",
       "      <td>-35.277039</td>\n",
       "      <td>1.118617</td>\n",
       "      <td>18.600038</td>\n",
       "    </tr>\n",
       "    <tr>\n",
       "      <th>1</th>\n",
       "      <td>892718</td>\n",
       "      <td>0.782</td>\n",
       "      <td>0.040</td>\n",
       "      <td>-0.046</td>\n",
       "      <td>5000.9</td>\n",
       "      <td>97.3</td>\n",
       "      <td>-90.3</td>\n",
       "      <td>4.570</td>\n",
       "      <td>0.028</td>\n",
       "      <td>-0.036</td>\n",
       "      <td>...</td>\n",
       "      <td>0.333401</td>\n",
       "      <td>0.072800</td>\n",
       "      <td>41.750000</td>\n",
       "      <td>0.0</td>\n",
       "      <td>3206.175566</td>\n",
       "      <td>5064.927763</td>\n",
       "      <td>6.292640</td>\n",
       "      <td>-3.936550</td>\n",
       "      <td>1.618687</td>\n",
       "      <td>17.131106</td>\n",
       "    </tr>\n",
       "    <tr>\n",
       "      <th>2</th>\n",
       "      <td>892772</td>\n",
       "      <td>0.803</td>\n",
       "      <td>0.039</td>\n",
       "      <td>-0.032</td>\n",
       "      <td>4965.0</td>\n",
       "      <td>96.3</td>\n",
       "      <td>-93.6</td>\n",
       "      <td>4.492</td>\n",
       "      <td>0.040</td>\n",
       "      <td>-0.034</td>\n",
       "      <td>...</td>\n",
       "      <td>1.886702</td>\n",
       "      <td>0.108144</td>\n",
       "      <td>130.961426</td>\n",
       "      <td>0.0</td>\n",
       "      <td>1790.165901</td>\n",
       "      <td>4991.228808</td>\n",
       "      <td>5.994973</td>\n",
       "      <td>34.959310</td>\n",
       "      <td>2.666831</td>\n",
       "      <td>17.199199</td>\n",
       "    </tr>\n",
       "    <tr>\n",
       "      <th>3</th>\n",
       "      <td>892832</td>\n",
       "      <td>0.784</td>\n",
       "      <td>0.040</td>\n",
       "      <td>-0.045</td>\n",
       "      <td>4975.7</td>\n",
       "      <td>97.1</td>\n",
       "      <td>-88.2</td>\n",
       "      <td>4.564</td>\n",
       "      <td>0.028</td>\n",
       "      <td>-0.034</td>\n",
       "      <td>...</td>\n",
       "      <td>0.730871</td>\n",
       "      <td>0.056932</td>\n",
       "      <td>89.566162</td>\n",
       "      <td>0.0</td>\n",
       "      <td>2914.205194</td>\n",
       "      <td>5067.718138</td>\n",
       "      <td>6.121626</td>\n",
       "      <td>26.577679</td>\n",
       "      <td>1.696985</td>\n",
       "      <td>16.163337</td>\n",
       "    </tr>\n",
       "    <tr>\n",
       "      <th>4</th>\n",
       "      <td>892834</td>\n",
       "      <td>0.751</td>\n",
       "      <td>0.034</td>\n",
       "      <td>-0.039</td>\n",
       "      <td>4823.2</td>\n",
       "      <td>90.4</td>\n",
       "      <td>-82.2</td>\n",
       "      <td>4.587</td>\n",
       "      <td>0.023</td>\n",
       "      <td>-0.028</td>\n",
       "      <td>...</td>\n",
       "      <td>0.129022</td>\n",
       "      <td>0.030969</td>\n",
       "      <td>228.925049</td>\n",
       "      <td>0.0</td>\n",
       "      <td>15161.266923</td>\n",
       "      <td>4744.037378</td>\n",
       "      <td>6.376287</td>\n",
       "      <td>-0.851973</td>\n",
       "      <td>1.701146</td>\n",
       "      <td>11.371647</td>\n",
       "    </tr>\n",
       "    <tr>\n",
       "      <th>...</th>\n",
       "      <td>...</td>\n",
       "      <td>...</td>\n",
       "      <td>...</td>\n",
       "      <td>...</td>\n",
       "      <td>...</td>\n",
       "      <td>...</td>\n",
       "      <td>...</td>\n",
       "      <td>...</td>\n",
       "      <td>...</td>\n",
       "      <td>...</td>\n",
       "      <td>...</td>\n",
       "      <td>...</td>\n",
       "      <td>...</td>\n",
       "      <td>...</td>\n",
       "      <td>...</td>\n",
       "      <td>...</td>\n",
       "      <td>...</td>\n",
       "      <td>...</td>\n",
       "      <td>...</td>\n",
       "      <td>...</td>\n",
       "      <td>...</td>\n",
       "    </tr>\n",
       "    <tr>\n",
       "      <th>84028</th>\n",
       "      <td>12935144</td>\n",
       "      <td>0.781</td>\n",
       "      <td>0.032</td>\n",
       "      <td>-0.023</td>\n",
       "      <td>4798.5</td>\n",
       "      <td>80.8</td>\n",
       "      <td>-74.4</td>\n",
       "      <td>4.515</td>\n",
       "      <td>0.028</td>\n",
       "      <td>-0.020</td>\n",
       "      <td>...</td>\n",
       "      <td>0.368733</td>\n",
       "      <td>0.038313</td>\n",
       "      <td>90.559814</td>\n",
       "      <td>0.0</td>\n",
       "      <td>2812.966704</td>\n",
       "      <td>4873.988467</td>\n",
       "      <td>6.144015</td>\n",
       "      <td>18.589346</td>\n",
       "      <td>2.031084</td>\n",
       "      <td>13.146935</td>\n",
       "    </tr>\n",
       "    <tr>\n",
       "      <th>84029</th>\n",
       "      <td>12983952</td>\n",
       "      <td>0.897</td>\n",
       "      <td>0.062</td>\n",
       "      <td>-0.046</td>\n",
       "      <td>5407.1</td>\n",
       "      <td>121.4</td>\n",
       "      <td>-103.9</td>\n",
       "      <td>4.188</td>\n",
       "      <td>0.037</td>\n",
       "      <td>-0.037</td>\n",
       "      <td>...</td>\n",
       "      <td>0.394648</td>\n",
       "      <td>0.058895</td>\n",
       "      <td>91.278564</td>\n",
       "      <td>0.0</td>\n",
       "      <td>1799.672842</td>\n",
       "      <td>5337.222521</td>\n",
       "      <td>4.794033</td>\n",
       "      <td>-9.283707</td>\n",
       "      <td>2.122039</td>\n",
       "      <td>13.343811</td>\n",
       "    </tr>\n",
       "    <tr>\n",
       "      <th>84030</th>\n",
       "      <td>12984012</td>\n",
       "      <td>1.074</td>\n",
       "      <td>0.071</td>\n",
       "      <td>-0.078</td>\n",
       "      <td>6005.1</td>\n",
       "      <td>116.3</td>\n",
       "      <td>-113.9</td>\n",
       "      <td>4.337</td>\n",
       "      <td>0.046</td>\n",
       "      <td>-0.050</td>\n",
       "      <td>...</td>\n",
       "      <td>0.386915</td>\n",
       "      <td>0.075262</td>\n",
       "      <td>287.665039</td>\n",
       "      <td>0.0</td>\n",
       "      <td>2037.048340</td>\n",
       "      <td>6339.111888</td>\n",
       "      <td>4.363923</td>\n",
       "      <td>4.436810</td>\n",
       "      <td>1.459457</td>\n",
       "      <td>19.784621</td>\n",
       "    </tr>\n",
       "    <tr>\n",
       "      <th>84031</th>\n",
       "      <td>12984138</td>\n",
       "      <td>0.811</td>\n",
       "      <td>0.048</td>\n",
       "      <td>-0.039</td>\n",
       "      <td>5052.3</td>\n",
       "      <td>90.3</td>\n",
       "      <td>-82.6</td>\n",
       "      <td>4.501</td>\n",
       "      <td>0.041</td>\n",
       "      <td>-0.034</td>\n",
       "      <td>...</td>\n",
       "      <td>0.314944</td>\n",
       "      <td>0.065799</td>\n",
       "      <td>75.750000</td>\n",
       "      <td>0.0</td>\n",
       "      <td>10668.635368</td>\n",
       "      <td>5184.729625</td>\n",
       "      <td>5.970433</td>\n",
       "      <td>-0.967112</td>\n",
       "      <td>1.025516</td>\n",
       "      <td>20.067518</td>\n",
       "    </tr>\n",
       "    <tr>\n",
       "      <th>84032</th>\n",
       "      <td>12984422</td>\n",
       "      <td>0.905</td>\n",
       "      <td>0.054</td>\n",
       "      <td>-0.053</td>\n",
       "      <td>5187.0</td>\n",
       "      <td>107.7</td>\n",
       "      <td>-98.4</td>\n",
       "      <td>4.466</td>\n",
       "      <td>0.044</td>\n",
       "      <td>-0.045</td>\n",
       "      <td>...</td>\n",
       "      <td>0.898648</td>\n",
       "      <td>0.075203</td>\n",
       "      <td>60.407471</td>\n",
       "      <td>0.0</td>\n",
       "      <td>2923.011780</td>\n",
       "      <td>5230.221336</td>\n",
       "      <td>5.476869</td>\n",
       "      <td>23.710719</td>\n",
       "      <td>1.077963</td>\n",
       "      <td>17.260389</td>\n",
       "    </tr>\n",
       "  </tbody>\n",
       "</table>\n",
       "<p>84033 rows × 57 columns</p>\n",
       "</div>"
      ],
      "text/plain": [
       "            KIC  iso_mass  iso_mass_err1  iso_mass_err2  iso_teff  \\\n",
       "0        757450     0.914          0.062         -0.057    5301.2   \n",
       "1        892718     0.782          0.040         -0.046    5000.9   \n",
       "2        892772     0.803          0.039         -0.032    4965.0   \n",
       "3        892832     0.784          0.040         -0.045    4975.7   \n",
       "4        892834     0.751          0.034         -0.039    4823.2   \n",
       "...         ...       ...            ...            ...       ...   \n",
       "84028  12935144     0.781          0.032         -0.023    4798.5   \n",
       "84029  12983952     0.897          0.062         -0.046    5407.1   \n",
       "84030  12984012     1.074          0.071         -0.078    6005.1   \n",
       "84031  12984138     0.811          0.048         -0.039    5052.3   \n",
       "84032  12984422     0.905          0.054         -0.053    5187.0   \n",
       "\n",
       "       iso_teff_err1  iso_teff_err2  iso_logg  iso_logg_err1  iso_logg_err2  \\\n",
       "0              111.0         -103.1     4.432          0.045         -0.044   \n",
       "1               97.3          -90.3     4.570          0.028         -0.036   \n",
       "2               96.3          -93.6     4.492          0.040         -0.034   \n",
       "3               97.1          -88.2     4.564          0.028         -0.034   \n",
       "4               90.4          -82.2     4.587          0.023         -0.028   \n",
       "...              ...            ...       ...            ...            ...   \n",
       "84028           80.8          -74.4     4.515          0.028         -0.020   \n",
       "84029          121.4         -103.9     4.188          0.037         -0.037   \n",
       "84030          116.3         -113.9     4.337          0.046         -0.050   \n",
       "84031           90.3          -82.6     4.501          0.041         -0.034   \n",
       "84032          107.7          -98.4     4.466          0.044         -0.045   \n",
       "\n",
       "       ...   v_b_err  abs_G_err  teff_val_err  Rvar_err      Rvar_new  \\\n",
       "0      ...  0.768051   0.048368     95.500000       0.0  21632.027626   \n",
       "1      ...  0.333401   0.072800     41.750000       0.0   3206.175566   \n",
       "2      ...  1.886702   0.108144    130.961426       0.0   1790.165901   \n",
       "3      ...  0.730871   0.056932     89.566162       0.0   2914.205194   \n",
       "4      ...  0.129022   0.030969    228.925049       0.0  15161.266923   \n",
       "...    ...       ...        ...           ...       ...           ...   \n",
       "84028  ...  0.368733   0.038313     90.559814       0.0   2812.966704   \n",
       "84029  ...  0.394648   0.058895     91.278564       0.0   1799.672842   \n",
       "84030  ...  0.386915   0.075262    287.665039       0.0   2037.048340   \n",
       "84031  ...  0.314944   0.065799     75.750000       0.0  10668.635368   \n",
       "84032  ...  0.898648   0.075203     60.407471       0.0   2923.011780   \n",
       "\n",
       "       teff_calc_new  abs_G_new    v_b_new  kin_age_err_bs    vel_dis  \n",
       "0        5313.256900   5.455146 -35.277039        1.118617  18.600038  \n",
       "1        5064.927763   6.292640  -3.936550        1.618687  17.131106  \n",
       "2        4991.228808   5.994973  34.959310        2.666831  17.199199  \n",
       "3        5067.718138   6.121626  26.577679        1.696985  16.163337  \n",
       "4        4744.037378   6.376287  -0.851973        1.701146  11.371647  \n",
       "...              ...        ...        ...             ...        ...  \n",
       "84028    4873.988467   6.144015  18.589346        2.031084  13.146935  \n",
       "84029    5337.222521   4.794033  -9.283707        2.122039  13.343811  \n",
       "84030    6339.111888   4.363923   4.436810        1.459457  19.784621  \n",
       "84031    5184.729625   5.970433  -0.967112        1.025516  20.067518  \n",
       "84032    5230.221336   5.476869  23.710719        1.077963  17.260389  \n",
       "\n",
       "[84033 rows x 57 columns]"
      ]
     },
     "execution_count": 50,
     "metadata": {},
     "output_type": "execute_result"
    }
   ],
   "source": [
    "pd.read_pickle('minchisq_rvar.pkl')"
   ]
  },
  {
   "cell_type": "code",
   "execution_count": 51,
   "metadata": {},
   "outputs": [
    {
     "data": {
      "text/html": [
       "<div>\n",
       "<style scoped>\n",
       "    .dataframe tbody tr th:only-of-type {\n",
       "        vertical-align: middle;\n",
       "    }\n",
       "\n",
       "    .dataframe tbody tr th {\n",
       "        vertical-align: top;\n",
       "    }\n",
       "\n",
       "    .dataframe thead th {\n",
       "        text-align: right;\n",
       "    }\n",
       "</style>\n",
       "<table border=\"1\" class=\"dataframe\">\n",
       "  <thead>\n",
       "    <tr style=\"text-align: right;\">\n",
       "      <th></th>\n",
       "      <th>KIC</th>\n",
       "      <th>iso_mass</th>\n",
       "      <th>iso_mass_err1</th>\n",
       "      <th>iso_mass_err2</th>\n",
       "      <th>iso_teff</th>\n",
       "      <th>iso_teff_err1</th>\n",
       "      <th>iso_teff_err2</th>\n",
       "      <th>iso_logg</th>\n",
       "      <th>iso_logg_err1</th>\n",
       "      <th>iso_logg_err2</th>\n",
       "      <th>...</th>\n",
       "      <th>abs_G_err</th>\n",
       "      <th>teff_val_err</th>\n",
       "      <th>Rvar_err</th>\n",
       "      <th>Rvar_new</th>\n",
       "      <th>teff_calc_new</th>\n",
       "      <th>abs_G_new</th>\n",
       "      <th>v_b_new</th>\n",
       "      <th>kin_age_err_bs</th>\n",
       "      <th>vel_dis</th>\n",
       "      <th>designation</th>\n",
       "    </tr>\n",
       "  </thead>\n",
       "  <tbody>\n",
       "    <tr>\n",
       "      <th>0</th>\n",
       "      <td>757450</td>\n",
       "      <td>0.914</td>\n",
       "      <td>0.062</td>\n",
       "      <td>-0.057</td>\n",
       "      <td>5301.2</td>\n",
       "      <td>111.0</td>\n",
       "      <td>-103.1</td>\n",
       "      <td>4.432</td>\n",
       "      <td>0.045</td>\n",
       "      <td>-0.044</td>\n",
       "      <td>...</td>\n",
       "      <td>0.048368</td>\n",
       "      <td>95.500000</td>\n",
       "      <td>0.0</td>\n",
       "      <td>21632.027626</td>\n",
       "      <td>5313.256900</td>\n",
       "      <td>5.455146</td>\n",
       "      <td>-35.277039</td>\n",
       "      <td>1.118617</td>\n",
       "      <td>18.600038</td>\n",
       "      <td>Gaia DR2 2050231848829944320</td>\n",
       "    </tr>\n",
       "    <tr>\n",
       "      <th>1</th>\n",
       "      <td>892718</td>\n",
       "      <td>0.782</td>\n",
       "      <td>0.040</td>\n",
       "      <td>-0.046</td>\n",
       "      <td>5000.9</td>\n",
       "      <td>97.3</td>\n",
       "      <td>-90.3</td>\n",
       "      <td>4.570</td>\n",
       "      <td>0.028</td>\n",
       "      <td>-0.036</td>\n",
       "      <td>...</td>\n",
       "      <td>0.072800</td>\n",
       "      <td>41.750000</td>\n",
       "      <td>0.0</td>\n",
       "      <td>3206.175566</td>\n",
       "      <td>5064.927763</td>\n",
       "      <td>6.292640</td>\n",
       "      <td>-3.936550</td>\n",
       "      <td>1.618687</td>\n",
       "      <td>17.131106</td>\n",
       "      <td>Gaia DR2 2050232364226074624</td>\n",
       "    </tr>\n",
       "    <tr>\n",
       "      <th>2</th>\n",
       "      <td>892772</td>\n",
       "      <td>0.803</td>\n",
       "      <td>0.039</td>\n",
       "      <td>-0.032</td>\n",
       "      <td>4965.0</td>\n",
       "      <td>96.3</td>\n",
       "      <td>-93.6</td>\n",
       "      <td>4.492</td>\n",
       "      <td>0.040</td>\n",
       "      <td>-0.034</td>\n",
       "      <td>...</td>\n",
       "      <td>0.108144</td>\n",
       "      <td>130.961426</td>\n",
       "      <td>0.0</td>\n",
       "      <td>1790.165901</td>\n",
       "      <td>4991.228808</td>\n",
       "      <td>5.994973</td>\n",
       "      <td>34.959310</td>\n",
       "      <td>2.666831</td>\n",
       "      <td>17.199199</td>\n",
       "      <td>Gaia DR2 2050235731480463616</td>\n",
       "    </tr>\n",
       "    <tr>\n",
       "      <th>3</th>\n",
       "      <td>892832</td>\n",
       "      <td>0.784</td>\n",
       "      <td>0.040</td>\n",
       "      <td>-0.045</td>\n",
       "      <td>4975.7</td>\n",
       "      <td>97.1</td>\n",
       "      <td>-88.2</td>\n",
       "      <td>4.564</td>\n",
       "      <td>0.028</td>\n",
       "      <td>-0.034</td>\n",
       "      <td>...</td>\n",
       "      <td>0.056932</td>\n",
       "      <td>89.566162</td>\n",
       "      <td>0.0</td>\n",
       "      <td>2914.205194</td>\n",
       "      <td>5067.718138</td>\n",
       "      <td>6.121626</td>\n",
       "      <td>26.577679</td>\n",
       "      <td>1.696985</td>\n",
       "      <td>16.163337</td>\n",
       "      <td>Gaia DR2 2050232776542967680</td>\n",
       "    </tr>\n",
       "    <tr>\n",
       "      <th>4</th>\n",
       "      <td>892834</td>\n",
       "      <td>0.751</td>\n",
       "      <td>0.034</td>\n",
       "      <td>-0.039</td>\n",
       "      <td>4823.2</td>\n",
       "      <td>90.4</td>\n",
       "      <td>-82.2</td>\n",
       "      <td>4.587</td>\n",
       "      <td>0.023</td>\n",
       "      <td>-0.028</td>\n",
       "      <td>...</td>\n",
       "      <td>0.030969</td>\n",
       "      <td>228.925049</td>\n",
       "      <td>0.0</td>\n",
       "      <td>15161.266923</td>\n",
       "      <td>4744.037378</td>\n",
       "      <td>6.376287</td>\n",
       "      <td>-0.851973</td>\n",
       "      <td>1.701146</td>\n",
       "      <td>11.371647</td>\n",
       "      <td>Gaia DR2 2050232089348169856</td>\n",
       "    </tr>\n",
       "    <tr>\n",
       "      <th>...</th>\n",
       "      <td>...</td>\n",
       "      <td>...</td>\n",
       "      <td>...</td>\n",
       "      <td>...</td>\n",
       "      <td>...</td>\n",
       "      <td>...</td>\n",
       "      <td>...</td>\n",
       "      <td>...</td>\n",
       "      <td>...</td>\n",
       "      <td>...</td>\n",
       "      <td>...</td>\n",
       "      <td>...</td>\n",
       "      <td>...</td>\n",
       "      <td>...</td>\n",
       "      <td>...</td>\n",
       "      <td>...</td>\n",
       "      <td>...</td>\n",
       "      <td>...</td>\n",
       "      <td>...</td>\n",
       "      <td>...</td>\n",
       "      <td>...</td>\n",
       "    </tr>\n",
       "    <tr>\n",
       "      <th>84028</th>\n",
       "      <td>12935144</td>\n",
       "      <td>0.781</td>\n",
       "      <td>0.032</td>\n",
       "      <td>-0.023</td>\n",
       "      <td>4798.5</td>\n",
       "      <td>80.8</td>\n",
       "      <td>-74.4</td>\n",
       "      <td>4.515</td>\n",
       "      <td>0.028</td>\n",
       "      <td>-0.020</td>\n",
       "      <td>...</td>\n",
       "      <td>0.038313</td>\n",
       "      <td>90.559814</td>\n",
       "      <td>0.0</td>\n",
       "      <td>2812.966704</td>\n",
       "      <td>4873.988467</td>\n",
       "      <td>6.144015</td>\n",
       "      <td>18.589346</td>\n",
       "      <td>2.031084</td>\n",
       "      <td>13.146935</td>\n",
       "      <td>Gaia DR2 2139325653978247808</td>\n",
       "    </tr>\n",
       "    <tr>\n",
       "      <th>84029</th>\n",
       "      <td>12983952</td>\n",
       "      <td>0.897</td>\n",
       "      <td>0.062</td>\n",
       "      <td>-0.046</td>\n",
       "      <td>5407.1</td>\n",
       "      <td>121.4</td>\n",
       "      <td>-103.9</td>\n",
       "      <td>4.188</td>\n",
       "      <td>0.037</td>\n",
       "      <td>-0.037</td>\n",
       "      <td>...</td>\n",
       "      <td>0.058895</td>\n",
       "      <td>91.278564</td>\n",
       "      <td>0.0</td>\n",
       "      <td>1799.672842</td>\n",
       "      <td>5337.222521</td>\n",
       "      <td>4.794033</td>\n",
       "      <td>-9.283707</td>\n",
       "      <td>2.122039</td>\n",
       "      <td>13.343811</td>\n",
       "      <td>Gaia DR2 2139336408576560512</td>\n",
       "    </tr>\n",
       "    <tr>\n",
       "      <th>84030</th>\n",
       "      <td>12984012</td>\n",
       "      <td>1.074</td>\n",
       "      <td>0.071</td>\n",
       "      <td>-0.078</td>\n",
       "      <td>6005.1</td>\n",
       "      <td>116.3</td>\n",
       "      <td>-113.9</td>\n",
       "      <td>4.337</td>\n",
       "      <td>0.046</td>\n",
       "      <td>-0.050</td>\n",
       "      <td>...</td>\n",
       "      <td>0.075262</td>\n",
       "      <td>287.665039</td>\n",
       "      <td>0.0</td>\n",
       "      <td>2037.048340</td>\n",
       "      <td>6339.111888</td>\n",
       "      <td>4.363923</td>\n",
       "      <td>4.436810</td>\n",
       "      <td>1.459457</td>\n",
       "      <td>19.784621</td>\n",
       "      <td>Gaia DR2 2139336099338925312</td>\n",
       "    </tr>\n",
       "    <tr>\n",
       "      <th>84031</th>\n",
       "      <td>12984138</td>\n",
       "      <td>0.811</td>\n",
       "      <td>0.048</td>\n",
       "      <td>-0.039</td>\n",
       "      <td>5052.3</td>\n",
       "      <td>90.3</td>\n",
       "      <td>-82.6</td>\n",
       "      <td>4.501</td>\n",
       "      <td>0.041</td>\n",
       "      <td>-0.034</td>\n",
       "      <td>...</td>\n",
       "      <td>0.065799</td>\n",
       "      <td>75.750000</td>\n",
       "      <td>0.0</td>\n",
       "      <td>10668.635368</td>\n",
       "      <td>5184.729625</td>\n",
       "      <td>5.970433</td>\n",
       "      <td>-0.967112</td>\n",
       "      <td>1.025516</td>\n",
       "      <td>20.067518</td>\n",
       "      <td>Gaia DR2 2139341768695774336</td>\n",
       "    </tr>\n",
       "    <tr>\n",
       "      <th>84032</th>\n",
       "      <td>12984422</td>\n",
       "      <td>0.905</td>\n",
       "      <td>0.054</td>\n",
       "      <td>-0.053</td>\n",
       "      <td>5187.0</td>\n",
       "      <td>107.7</td>\n",
       "      <td>-98.4</td>\n",
       "      <td>4.466</td>\n",
       "      <td>0.044</td>\n",
       "      <td>-0.045</td>\n",
       "      <td>...</td>\n",
       "      <td>0.075203</td>\n",
       "      <td>60.407471</td>\n",
       "      <td>0.0</td>\n",
       "      <td>2923.011780</td>\n",
       "      <td>5230.221336</td>\n",
       "      <td>5.476869</td>\n",
       "      <td>23.710719</td>\n",
       "      <td>1.077963</td>\n",
       "      <td>17.260389</td>\n",
       "      <td>Gaia DR2 2139329399189739392</td>\n",
       "    </tr>\n",
       "  </tbody>\n",
       "</table>\n",
       "<p>84033 rows × 58 columns</p>\n",
       "</div>"
      ],
      "text/plain": [
       "            KIC  iso_mass  iso_mass_err1  iso_mass_err2  iso_teff  \\\n",
       "0        757450     0.914          0.062         -0.057    5301.2   \n",
       "1        892718     0.782          0.040         -0.046    5000.9   \n",
       "2        892772     0.803          0.039         -0.032    4965.0   \n",
       "3        892832     0.784          0.040         -0.045    4975.7   \n",
       "4        892834     0.751          0.034         -0.039    4823.2   \n",
       "...         ...       ...            ...            ...       ...   \n",
       "84028  12935144     0.781          0.032         -0.023    4798.5   \n",
       "84029  12983952     0.897          0.062         -0.046    5407.1   \n",
       "84030  12984012     1.074          0.071         -0.078    6005.1   \n",
       "84031  12984138     0.811          0.048         -0.039    5052.3   \n",
       "84032  12984422     0.905          0.054         -0.053    5187.0   \n",
       "\n",
       "       iso_teff_err1  iso_teff_err2  iso_logg  iso_logg_err1  iso_logg_err2  \\\n",
       "0              111.0         -103.1     4.432          0.045         -0.044   \n",
       "1               97.3          -90.3     4.570          0.028         -0.036   \n",
       "2               96.3          -93.6     4.492          0.040         -0.034   \n",
       "3               97.1          -88.2     4.564          0.028         -0.034   \n",
       "4               90.4          -82.2     4.587          0.023         -0.028   \n",
       "...              ...            ...       ...            ...            ...   \n",
       "84028           80.8          -74.4     4.515          0.028         -0.020   \n",
       "84029          121.4         -103.9     4.188          0.037         -0.037   \n",
       "84030          116.3         -113.9     4.337          0.046         -0.050   \n",
       "84031           90.3          -82.6     4.501          0.041         -0.034   \n",
       "84032          107.7          -98.4     4.466          0.044         -0.045   \n",
       "\n",
       "       ...  abs_G_err  teff_val_err  Rvar_err      Rvar_new  teff_calc_new  \\\n",
       "0      ...   0.048368     95.500000       0.0  21632.027626    5313.256900   \n",
       "1      ...   0.072800     41.750000       0.0   3206.175566    5064.927763   \n",
       "2      ...   0.108144    130.961426       0.0   1790.165901    4991.228808   \n",
       "3      ...   0.056932     89.566162       0.0   2914.205194    5067.718138   \n",
       "4      ...   0.030969    228.925049       0.0  15161.266923    4744.037378   \n",
       "...    ...        ...           ...       ...           ...            ...   \n",
       "84028  ...   0.038313     90.559814       0.0   2812.966704    4873.988467   \n",
       "84029  ...   0.058895     91.278564       0.0   1799.672842    5337.222521   \n",
       "84030  ...   0.075262    287.665039       0.0   2037.048340    6339.111888   \n",
       "84031  ...   0.065799     75.750000       0.0  10668.635368    5184.729625   \n",
       "84032  ...   0.075203     60.407471       0.0   2923.011780    5230.221336   \n",
       "\n",
       "       abs_G_new    v_b_new  kin_age_err_bs    vel_dis  \\\n",
       "0       5.455146 -35.277039        1.118617  18.600038   \n",
       "1       6.292640  -3.936550        1.618687  17.131106   \n",
       "2       5.994973  34.959310        2.666831  17.199199   \n",
       "3       6.121626  26.577679        1.696985  16.163337   \n",
       "4       6.376287  -0.851973        1.701146  11.371647   \n",
       "...          ...        ...             ...        ...   \n",
       "84028   6.144015  18.589346        2.031084  13.146935   \n",
       "84029   4.794033  -9.283707        2.122039  13.343811   \n",
       "84030   4.363923   4.436810        1.459457  19.784621   \n",
       "84031   5.970433  -0.967112        1.025516  20.067518   \n",
       "84032   5.476869  23.710719        1.077963  17.260389   \n",
       "\n",
       "                        designation  \n",
       "0      Gaia DR2 2050231848829944320  \n",
       "1      Gaia DR2 2050232364226074624  \n",
       "2      Gaia DR2 2050235731480463616  \n",
       "3      Gaia DR2 2050232776542967680  \n",
       "4      Gaia DR2 2050232089348169856  \n",
       "...                             ...  \n",
       "84028  Gaia DR2 2139325653978247808  \n",
       "84029  Gaia DR2 2139336408576560512  \n",
       "84030  Gaia DR2 2139336099338925312  \n",
       "84031  Gaia DR2 2139341768695774336  \n",
       "84032  Gaia DR2 2139329399189739392  \n",
       "\n",
       "[84033 rows x 58 columns]"
      ]
     },
     "execution_count": 51,
     "metadata": {},
     "output_type": "execute_result"
    }
   ],
   "source": [
    "df_rvar_s"
   ]
  },
  {
   "cell_type": "code",
   "execution_count": null,
   "metadata": {},
   "outputs": [],
   "source": []
  }
 ],
 "metadata": {
  "kernelspec": {
   "display_name": "Python 3",
   "language": "python",
   "name": "python3"
  },
  "language_info": {
   "codemirror_mode": {
    "name": "ipython",
    "version": 3
   },
   "file_extension": ".py",
   "mimetype": "text/x-python",
   "name": "python",
   "nbconvert_exporter": "python",
   "pygments_lexer": "ipython3",
   "version": "3.7.3"
  }
 },
 "nbformat": 4,
 "nbformat_minor": 4
}
